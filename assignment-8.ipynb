{
 "cells": [
  {
   "cell_type": "markdown",
   "id": "e786a9c8-2915-4767-9fd4-45f495b5e5b0",
   "metadata": {},
   "source": [
    "ANSWER-1"
   ]
  },
  {
   "cell_type": "code",
   "execution_count": 49,
   "id": "22aa7f07-02d8-4d56-b3f0-3b61454764ce",
   "metadata": {},
   "outputs": [
    {
     "name": "stdin",
     "output_type": "stream",
     "text": [
      "Enter password:  SDfg#$%90\n"
     ]
    },
    {
     "name": "stdout",
     "output_type": "stream",
     "text": [
      "Invalid Password\n"
     ]
    }
   ],
   "source": [
    "def correct(password):\n",
    "    uppercase = sum(1 for char in password if char.isupper())\n",
    "    lowercase = sum(1 for char in password if char.islower())\n",
    "\n",
    "    if uppercase < 2 or lowercase < 2:\n",
    "        return \"Invalid Password\"\n",
    "\n",
    "    if len(password) != 10:\n",
    "        return \"Invalid Password\"\n",
    "\n",
    "    special = 0\n",
    "    spec = \"!@#$%^&*()-=_+\"\n",
    "    for char in password:\n",
    "        if char in spec:\n",
    "            special += 1\n",
    "        if special == 3:\n",
    "            break\n",
    "\n",
    "    if special < 3:\n",
    "        return \"Invalid Password\"\n",
    "\n",
    "    if not any(char.isdigit() for char in password):\n",
    "        return \"Invalid Password\"\n",
    "\n",
    "    return \"Valid Password\"\n",
    "\n",
    "password = input(\"Enter password: \")\n",
    "result = correct(password)\n",
    "print(result)\n"
   ]
  },
  {
   "cell_type": "markdown",
   "id": "dfce56e2-4ccc-47ea-b5fe-ef8c2613703b",
   "metadata": {},
   "source": [
    "ANSWER-2"
   ]
  },
  {
   "cell_type": "code",
   "execution_count": 20,
   "id": "2f5b8978-e440-4918-aedf-895368d57d33",
   "metadata": {},
   "outputs": [
    {
     "name": "stdout",
     "output_type": "stream",
     "text": [
      "True\n"
     ]
    }
   ],
   "source": [
    "st=\"welcome\"\n",
    "string= lambda st: st.startswith(\"w\")\n",
    "print(string(st))"
   ]
  },
  {
   "cell_type": "code",
   "execution_count": 25,
   "id": "23b04d15-9c6a-4735-81a6-55e9512eb973",
   "metadata": {},
   "outputs": [
    {
     "name": "stdout",
     "output_type": "stream",
     "text": [
      "True\n"
     ]
    }
   ],
   "source": [
    "st=\"5666\"\n",
    "string=lambda st: st.isnumeric()\n",
    "print(string(st))"
   ]
  },
  {
   "cell_type": "code",
   "execution_count": 26,
   "id": "aff7acea-e3c0-4bef-999e-b7d6a30b7f1a",
   "metadata": {},
   "outputs": [
    {
     "name": "stdout",
     "output_type": "stream",
     "text": [
      "[('orange', 80), ('mango', 99), ('grapes', 1000)]\n"
     ]
    }
   ],
   "source": [
    "fruits=[(\"mango\",99),(\"orange\",80), (\"grapes\", 1000)]\n",
    "sorted_fruits= sorted(fruits,key=lambda x:x[1] )\n",
    "print(sorted_fruits)\n"
   ]
  },
  {
   "cell_type": "code",
   "execution_count": 34,
   "id": "da11c020-aa21-47cf-bdc4-046e137574f6",
   "metadata": {},
   "outputs": [
    {
     "name": "stdout",
     "output_type": "stream",
     "text": [
      "[1, 4, 9, 16, 25, 36, 49, 64, 81, 100]\n"
     ]
    }
   ],
   "source": [
    "a=range(1,11)\n",
    "sq=list(map(lambda x: x**2,a))\n",
    "print(sq)"
   ]
  },
  {
   "cell_type": "code",
   "execution_count": 37,
   "id": "45e89ce2-873f-4780-9d3b-4d21769a8288",
   "metadata": {},
   "outputs": [
    {
     "name": "stdout",
     "output_type": "stream",
     "text": [
      "[1, 8, 27, 64, 125, 216, 343, 512, 729, 1000]\n"
     ]
    }
   ],
   "source": [
    "import math\n",
    "a=range(1,11)\n",
    "sq=list(map(lambda x:x**3,a))\n",
    "print(sq)"
   ]
  },
  {
   "cell_type": "code",
   "execution_count": 44,
   "id": "385673ad-c37f-45e0-9535-feabdd6feff8",
   "metadata": {},
   "outputs": [
    {
     "name": "stdout",
     "output_type": "stream",
     "text": [
      "False\n"
     ]
    }
   ],
   "source": [
    "even=lambda x:x%2==0\n",
    "print(even(7))"
   ]
  },
  {
   "cell_type": "code",
   "execution_count": 45,
   "id": "4354b620-6976-4364-a519-10707e21fc78",
   "metadata": {},
   "outputs": [
    {
     "data": {
      "text/plain": [
       "[1, 3, 5, 7, 9]"
      ]
     },
     "execution_count": 45,
     "metadata": {},
     "output_type": "execute_result"
    }
   ],
   "source": [
    "l=[1,2,3,4,5,6,7,8,9,10]\n",
    "list(filter(lambda x: x%2!=0,l))"
   ]
  },
  {
   "cell_type": "code",
   "execution_count": 48,
   "id": "42ef306a-2b19-4854-9b99-ef4977eeeacb",
   "metadata": {},
   "outputs": [
    {
     "name": "stdout",
     "output_type": "stream",
     "text": [
      "[-1, -2, -3, -4, -5]\n",
      "[1, 2, 3, 4, 5, 6]\n"
     ]
    }
   ],
   "source": [
    "l=[1,2,3,4,5,6,-1,-2,-3,-4,-5,0]\n",
    "print(list(filter(lambda x: x<0,l)))\n",
    "print(list(filter(lambda x: x>0,l)))"
   ]
  },
  {
   "cell_type": "code",
   "execution_count": null,
   "id": "29ee3022-4e5d-4483-8086-2d6eb67ee9f6",
   "metadata": {},
   "outputs": [],
   "source": []
  }
 ],
 "metadata": {
  "kernelspec": {
   "display_name": "Python 3 (ipykernel)",
   "language": "python",
   "name": "python3"
  },
  "language_info": {
   "codemirror_mode": {
    "name": "ipython",
    "version": 3
   },
   "file_extension": ".py",
   "mimetype": "text/x-python",
   "name": "python",
   "nbconvert_exporter": "python",
   "pygments_lexer": "ipython3",
   "version": "3.10.8"
  }
 },
 "nbformat": 4,
 "nbformat_minor": 5
}

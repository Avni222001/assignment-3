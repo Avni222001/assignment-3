{
 "cells": [
  {
   "cell_type": "markdown",
   "id": "5376406d-7585-489c-86c7-e308c77dc993",
   "metadata": {},
   "source": [
    "ANSWER-1"
   ]
  },
  {
   "cell_type": "code",
   "execution_count": 15,
   "id": "18997307-89e6-4e75-b1d8-9947cff394ca",
   "metadata": {},
   "outputs": [
    {
     "name": "stdout",
     "output_type": "stream",
     "text": [
      "2\n"
     ]
    }
   ],
   "source": [
    "def threeSumClosest(nums, target):\n",
    "    n = len(nums)\n",
    "    closest_sum = float('inf')\n",
    "    min_diff = float('inf')\n",
    "\n",
    "    for i in range(n - 2):\n",
    "        left = i + 1\n",
    "        right = n - 1\n",
    "\n",
    "        while left < right:\n",
    "            curr_sum = nums[i] + nums[left] + nums[right]\n",
    "            diff = abs(curr_sum - target)\n",
    "\n",
    "            if diff == 0: \n",
    "                return curr_sum\n",
    "\n",
    "            if diff < min_diff:\n",
    "                min_diff = diff\n",
    "                closest_sum = curr_sum\n",
    "\n",
    "            if curr_sum < target:\n",
    "                left += 1\n",
    "            else:\n",
    "                right -= 1\n",
    "\n",
    "    return min_diff\n",
    "\n",
    "nums = [-1, 2, 1, -4]\n",
    "target = 1\n",
    "result = threeSumClosest(nums, target)\n",
    "print(result) \n"
   ]
  },
  {
   "cell_type": "markdown",
   "id": "c7cc38f5-803a-4a3e-b84d-16a1b50e075e",
   "metadata": {},
   "source": [
    "ANSWER-2"
   ]
  },
  {
   "cell_type": "code",
   "execution_count": 16,
   "id": "7a110a55-0758-417f-ad1c-c8d37ab80da7",
   "metadata": {},
   "outputs": [
    {
     "name": "stdout",
     "output_type": "stream",
     "text": [
      "[[-2, -1, 1, 2], [-2, 0, 0, 2], [-1, 0, 0, 1]]\n"
     ]
    }
   ],
   "source": [
    "def fourSum(nums, target):\n",
    "    n = len(nums)\n",
    "    quadruplets = []\n",
    "    \n",
    "    if n < 4:\n",
    "        return quadruplets\n",
    "    \n",
    "    nums.sort()\n",
    "    \n",
    "    for i in range(n-3):\n",
    "        if i > 0 and nums[i] == nums[i-1]:\n",
    "            continue\n",
    "        \n",
    "        for j in range(i+1, n-2):\n",
    "            if j > i+1 and nums[j] == nums[j-1]:\n",
    "                continue\n",
    "            \n",
    "            left = j + 1\n",
    "            right = n - 1\n",
    "            \n",
    "            while left < right:\n",
    "                sum_ = nums[i] + nums[j] + nums[left] + nums[right]\n",
    "                \n",
    "                if sum_ == target:\n",
    "                    quadruplets.append([nums[i], nums[j], nums[left], nums[right]])\n",
    "                    \n",
    "                    while left < right and nums[left] == nums[left+1]:\n",
    "                        left += 1\n",
    "                    while left < right and nums[right] == nums[right-1]:\n",
    "                        right -= 1\n",
    "                    \n",
    "                    left += 1\n",
    "                    right -= 1\n",
    "                elif sum_ < target:\n",
    "                    left += 1\n",
    "                else:\n",
    "                    right -= 1\n",
    "    \n",
    "    return quadruplets\n",
    "\n",
    "nums = [1, 0, -1, 0, -2, 2]\n",
    "target = 0\n",
    "result = fourSum(nums, target)\n",
    "print(result)\n"
   ]
  },
  {
   "cell_type": "markdown",
   "id": "7fdf2208-934f-4f8d-87e3-3a429982a5de",
   "metadata": {},
   "source": [
    "ANSWER-3"
   ]
  },
  {
   "cell_type": "code",
   "execution_count": 17,
   "id": "c0d284c5-8414-4537-9383-305e9ca8ef53",
   "metadata": {},
   "outputs": [
    {
     "name": "stdout",
     "output_type": "stream",
     "text": [
      "[1, 3, 2]\n"
     ]
    }
   ],
   "source": [
    "def nextPermutation(nums):\n",
    "    # Find the first pair of adjacent elements nums[i] and nums[i+1] such that nums[i] < nums[i+1]\n",
    "    i = len(nums) - 2\n",
    "    while i >= 0 and nums[i] >= nums[i+1]:\n",
    "        i -= 1\n",
    "\n",
    "    if i >= 0:\n",
    "        # Find the smallest element in the subarray nums[i+1:] that is greater than nums[i]\n",
    "        j = len(nums) - 1\n",
    "        while j > i and nums[j] <= nums[i]:\n",
    "            j -= 1\n",
    "\n",
    "        # Swap nums[i] with nums[j]\n",
    "        nums[i], nums[j] = nums[j], nums[i]\n",
    "\n",
    "    # Reverse the subarray nums[i+1:]\n",
    "    left = i + 1\n",
    "    right = len(nums) - 1\n",
    "    while left < right:\n",
    "        nums[left], nums[right] = nums[right], nums[left]\n",
    "        left += 1\n",
    "        right -= 1\n",
    "\n",
    "    return nums\n",
    "nums = [1, 2, 3]\n",
    "result = nextPermutation(nums)\n",
    "print(result) \n"
   ]
  },
  {
   "cell_type": "markdown",
   "id": "975d2fef-2ca8-43d1-8552-803bb6c148b2",
   "metadata": {},
   "source": [
    "ANSWER-4"
   ]
  },
  {
   "cell_type": "code",
   "execution_count": 18,
   "id": "987dd543-7718-4b8c-9813-0a8d8025e7f4",
   "metadata": {},
   "outputs": [
    {
     "name": "stdout",
     "output_type": "stream",
     "text": [
      "2\n"
     ]
    }
   ],
   "source": [
    "def searchInsert(nums, target):\n",
    "    left = 0\n",
    "    right = len(nums) - 1\n",
    "\n",
    "    while left <= right:\n",
    "        mid = left + (right - left) // 2\n",
    "\n",
    "        if nums[mid] == target:\n",
    "            return mid\n",
    "        elif nums[mid] < target:\n",
    "            left = mid + 1\n",
    "        else:\n",
    "            right = mid - 1\n",
    "\n",
    "    # If the target is not found, return the index where it would be inserted\n",
    "    return left\n",
    "\n",
    "nums = [1, 3, 5, 6]\n",
    "target = 5\n",
    "result = searchInsert(nums, target)\n",
    "print(result)\n"
   ]
  },
  {
   "cell_type": "markdown",
   "id": "4a6ff1dc-9b0b-4122-b14d-4737b24bfd87",
   "metadata": {},
   "source": [
    "ANSWER-5"
   ]
  },
  {
   "cell_type": "code",
   "execution_count": 19,
   "id": "a80ac820-0db8-4103-baa2-c8600f2ff1af",
   "metadata": {},
   "outputs": [
    {
     "name": "stdout",
     "output_type": "stream",
     "text": [
      "[1, 2, 4]\n"
     ]
    }
   ],
   "source": [
    "def plusOne(digits):\n",
    "    n = len(digits)\n",
    "\n",
    "    # Start from the rightmost digit\n",
    "    for i in range(n - 1, -1, -1):\n",
    "        if digits[i] < 9:\n",
    "            digits[i] += 1\n",
    "            return digits\n",
    "        else:\n",
    "            digits[i] = 0\n",
    "\n",
    "    # If we reach here, all digits were 9\n",
    "    # Insert an additional digit at the beginning\n",
    "    return [1] + digits\n",
    "\n",
    "digits = [1, 2, 3]\n",
    "result = plusOne(digits)\n",
    "print(result)  \n"
   ]
  },
  {
   "cell_type": "markdown",
   "id": "337644a2-4ee2-4aa5-a257-1cedfb374202",
   "metadata": {},
   "source": [
    "ANSWER-6"
   ]
  },
  {
   "cell_type": "code",
   "execution_count": 20,
   "id": "afcc5eda-288b-46ad-b03e-45896ddecb12",
   "metadata": {},
   "outputs": [
    {
     "name": "stdout",
     "output_type": "stream",
     "text": [
      "1\n"
     ]
    }
   ],
   "source": [
    "def singleNumber(nums):\n",
    "    result = 0\n",
    "    for num in nums:\n",
    "        result ^= num\n",
    "    return result\n",
    "\n",
    "\n",
    "nums = [2, 2, 1]\n",
    "result = singleNumber(nums)\n",
    "print(result)  \n"
   ]
  },
  {
   "cell_type": "markdown",
   "id": "c5615abb-d98f-4939-9794-dec8a9f9286a",
   "metadata": {},
   "source": [
    "ANSWER-7"
   ]
  },
  {
   "cell_type": "code",
   "execution_count": 21,
   "id": "2ae29ea1-48ce-44cd-8e59-e67f43959148",
   "metadata": {},
   "outputs": [
    {
     "name": "stdout",
     "output_type": "stream",
     "text": [
      "[[2, 2], [4, 49], [51, 74], [76, 99]]\n"
     ]
    }
   ],
   "source": [
    "def findMissingRanges(nums, lower, upper):\n",
    "    result = []\n",
    "    \n",
    "    # Helper function to add range to the result list\n",
    "    def addRange(start, end):\n",
    "        result.append([start, end])\n",
    "    \n",
    "    # Check for missing ranges starting from lower to nums[0]\n",
    "    if nums[0] != lower:\n",
    "        addRange(lower, nums[0] - 1)\n",
    "    \n",
    "    # Check for missing ranges between adjacent numbers in nums\n",
    "    for i in range(len(nums) - 1):\n",
    "        if nums[i+1] != nums[i] + 1:\n",
    "            addRange(nums[i] + 1, nums[i+1] - 1)\n",
    "    \n",
    "    # Check for missing ranges from nums[-1] to upper\n",
    "    if nums[-1] != upper:\n",
    "        addRange(nums[-1] + 1, upper)\n",
    "    \n",
    "    return result\n",
    "\n",
    "nums = [0, 1, 3, 50, 75]\n",
    "lower = 0\n",
    "upper = 99\n",
    "result = findMissingRanges(nums, lower, upper)\n",
    "print(result)  \n"
   ]
  },
  {
   "cell_type": "markdown",
   "id": "6d7378ff-172c-4380-b11b-16e5ca589e25",
   "metadata": {},
   "source": [
    "ANSWER-8"
   ]
  },
  {
   "cell_type": "code",
   "execution_count": 22,
   "id": "8c41baef-c33e-47c1-8579-46ff2eb8f167",
   "metadata": {},
   "outputs": [
    {
     "name": "stdout",
     "output_type": "stream",
     "text": [
      "False\n"
     ]
    }
   ],
   "source": [
    "def canAttendMeetings(intervals):\n",
    "    # Sort the intervals based on the start time\n",
    "    intervals.sort(key=lambda x: x[0])\n",
    "\n",
    "    # Check for any overlap between adjacent meetings\n",
    "    for i in range(len(intervals) - 1):\n",
    "        if intervals[i][1] > intervals[i + 1][0]:\n",
    "            return False\n",
    "\n",
    "    return True\n",
    "\n",
    "intervals = [[0, 30], [5, 10], [15, 20]]\n",
    "result = canAttendMeetings(intervals)\n",
    "print(result) \n"
   ]
  },
  {
   "cell_type": "code",
   "execution_count": null,
   "id": "9440380e-3985-4702-a936-c5a848c53d38",
   "metadata": {},
   "outputs": [],
   "source": []
  },
  {
   "cell_type": "code",
   "execution_count": null,
   "id": "90e37465-edff-4fe2-91ed-92a5a2d5fa15",
   "metadata": {},
   "outputs": [],
   "source": []
  },
  {
   "cell_type": "code",
   "execution_count": null,
   "id": "2cb1618f-a3a0-44ed-8b4f-dd3916c3a770",
   "metadata": {},
   "outputs": [],
   "source": []
  }
 ],
 "metadata": {
  "kernelspec": {
   "display_name": "Python 3 (ipykernel)",
   "language": "python",
   "name": "python3"
  },
  "language_info": {
   "codemirror_mode": {
    "name": "ipython",
    "version": 3
   },
   "file_extension": ".py",
   "mimetype": "text/x-python",
   "name": "python",
   "nbconvert_exporter": "python",
   "pygments_lexer": "ipython3",
   "version": "3.10.8"
  }
 },
 "nbformat": 4,
 "nbformat_minor": 5
}

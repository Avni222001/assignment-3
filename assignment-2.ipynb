{
 "cells": [
  {
   "cell_type": "markdown",
   "id": "fed1a8f7-3f37-442b-b02b-4fad09849108",
   "metadata": {},
   "source": [
    "ANSWER-1\n"
   ]
  },
  {
   "cell_type": "markdown",
   "id": "f66161f4-74b1-4039-8008-7c6d7c8555e6",
   "metadata": {},
   "source": [
    "'def' is the keyword which is used to create a function in python. Example: def func1(arguments)"
   ]
  },
  {
   "cell_type": "code",
   "execution_count": 1,
   "id": "0ccd25ab-2f8b-4269-bb79-ece5c83c8109",
   "metadata": {},
   "outputs": [],
   "source": [
    "l1=list(range(1,26,2))\n",
    "def odd():\n",
    "    print(l1)"
   ]
  },
  {
   "cell_type": "code",
   "execution_count": 2,
   "id": "d882f600-0f9e-4a54-bd55-e570e3fa0a1b",
   "metadata": {},
   "outputs": [
    {
     "name": "stdout",
     "output_type": "stream",
     "text": [
      "[1, 3, 5, 7, 9, 11, 13, 15, 17, 19, 21, 23, 25]\n"
     ]
    }
   ],
   "source": [
    "odd()"
   ]
  },
  {
   "cell_type": "markdown",
   "id": "6b774f31-4a67-4fd8-97ae-4ad05321779c",
   "metadata": {},
   "source": [
    "ANSWER-2"
   ]
  },
  {
   "cell_type": "markdown",
   "id": "94be1fba-fccb-4e22-b4a3-2f60e68faf3d",
   "metadata": {},
   "source": [
    " *args and **kwargs is used in some functions when we are not sure about the number of arguments being passed in the function that is they both allow n number of arguments to be passed in them. The only difference in both of them is that arguments that are passed in *args are in the form of tuple and the arguments that are passed in **kwargs are in the form of dictionary."
   ]
  },
  {
   "cell_type": "code",
   "execution_count": 3,
   "id": "ac8cd9e0-0a9b-4e46-be82-1c323ab3270c",
   "metadata": {},
   "outputs": [],
   "source": [
    "def dem(*args,a,b):\n",
    "    return args,a,b"
   ]
  },
  {
   "cell_type": "code",
   "execution_count": 4,
   "id": "4f0c825d-65a7-454b-9f0c-62c9d102ac72",
   "metadata": {},
   "outputs": [
    {
     "data": {
      "text/plain": [
       "((1, 4, 3, 2, 'hiii', 1.99), [1, 6, 4.2], [4, 8, 37])"
      ]
     },
     "execution_count": 4,
     "metadata": {},
     "output_type": "execute_result"
    }
   ],
   "source": [
    "dem(1,4,3,2,\"hiii\",1.99,a=[1,6,4.2],b=[4,8,37])"
   ]
  },
  {
   "cell_type": "code",
   "execution_count": 5,
   "id": "821cfbcd-2bfd-4e48-bd45-bfa44625732e",
   "metadata": {},
   "outputs": [],
   "source": [
    "def dem1(**kwargs):\n",
    "    print(kwargs, type(kwargs))"
   ]
  },
  {
   "cell_type": "code",
   "execution_count": 6,
   "id": "314547bf-1796-4db8-9f11-e01e246597a9",
   "metadata": {},
   "outputs": [
    {
     "name": "stdout",
     "output_type": "stream",
     "text": [
      "{'a': 4.6, 'b': 800} <class 'dict'>\n"
     ]
    }
   ],
   "source": [
    "dem1(a=4.6,b=800)"
   ]
  },
  {
   "cell_type": "markdown",
   "id": "09f5cbf2-ff32-4cb2-9ad7-865181d91a53",
   "metadata": {},
   "source": [
    "ANSWER-3"
   ]
  },
  {
   "cell_type": "markdown",
   "id": "34f7b7d8-f8f1-466c-9d55-73f5bf1b0940",
   "metadata": {},
   "source": [
    "An iterator is an object that allows you to iterate over collections of data, such as lists, tuples, dictionaries, and sets. It means that you can traverse through all the values.\n",
    "The method used to initialize the iterator object is called \"iter()\" and the method used for iteration is called \"next()\"."
   ]
  },
  {
   "cell_type": "code",
   "execution_count": 7,
   "id": "39aa33c0-0b03-4b2c-8a0a-48e1c42851ae",
   "metadata": {},
   "outputs": [
    {
     "name": "stdout",
     "output_type": "stream",
     "text": [
      "2\n",
      "4\n",
      "6\n",
      "8\n",
      "10\n"
     ]
    }
   ],
   "source": [
    "l = [2, 4, 6, 8, 10, 12, 14, 16, 18, 20]\n",
    "iterator = iter(l)\n",
    "for i in range(5):\n",
    "    print(next(iterator))\n"
   ]
  },
  {
   "cell_type": "markdown",
   "id": "a010a0f2-2e70-4c22-bf52-b55634effa82",
   "metadata": {},
   "source": [
    "ANSWER-4"
   ]
  },
  {
   "cell_type": "markdown",
   "id": "80159dcb-d292-4008-8a9b-d21874540f6a",
   "metadata": {},
   "source": [
    " A generator function is a special type of function that returns an iterator, which can be used to iterate over a sequence of values.\n",
    " The \"yield\" keyword is used in generator functions to produce a value and temporarily suspend the function's execution. The state of the function is preserved, allowing it to continue from where it left off when the next value is requested. "
   ]
  },
  {
   "cell_type": "code",
   "execution_count": 8,
   "id": "81974a79-6d12-4aa2-acc9-d73d5420764c",
   "metadata": {},
   "outputs": [
    {
     "name": "stdout",
     "output_type": "stream",
     "text": [
      "1\n",
      "4\n",
      "9\n",
      "16\n",
      "25\n"
     ]
    }
   ],
   "source": [
    "def generate_squares(max_num):\n",
    "    num = 1\n",
    "    while num <= max_num:\n",
    "        yield num**2\n",
    "        num += 1\n",
    "squares = generate_squares(5)\n",
    "for square in squares:\n",
    "    print(square)\n"
   ]
  },
  {
   "cell_type": "markdown",
   "id": "ab9bd8cb-21b0-44ef-bfa4-8c8d3bb06e0f",
   "metadata": {},
   "source": [
    "ANSWER-5"
   ]
  },
  {
   "cell_type": "code",
   "execution_count": 9,
   "id": "052aaca8-6327-4532-b845-fd2f6a02a9e6",
   "metadata": {},
   "outputs": [
    {
     "name": "stdout",
     "output_type": "stream",
     "text": [
      "2\n",
      "3\n",
      "5\n",
      "7\n",
      "11\n",
      "13\n",
      "17\n",
      "19\n",
      "23\n",
      "29\n",
      "31\n",
      "37\n",
      "41\n",
      "43\n",
      "47\n",
      "53\n",
      "59\n",
      "61\n",
      "67\n",
      "71\n"
     ]
    }
   ],
   "source": [
    "def generate_primes():\n",
    "    num = 2\n",
    "    while True:\n",
    "        is_prime = True\n",
    "        for i in range(2, int(num**0.5) + 1):\n",
    "            if num % i == 0:\n",
    "                is_prime = False\n",
    "                break\n",
    "        if is_prime:\n",
    "            yield num  \n",
    "        num += 1\n",
    "prime_generator = generate_primes()\n",
    "for _ in range(20):\n",
    "    print(next(prime_generator))\n"
   ]
  },
  {
   "cell_type": "markdown",
   "id": "7608b974-1a34-4210-9713-5982d7e28a9e",
   "metadata": {},
   "source": [
    "ANSWER-6"
   ]
  },
  {
   "cell_type": "code",
   "execution_count": 10,
   "id": "8d34fe91-84ac-434b-b841-d19652183de5",
   "metadata": {},
   "outputs": [
    {
     "name": "stdout",
     "output_type": "stream",
     "text": [
      "0\n",
      "1\n",
      "1\n",
      "2\n",
      "3\n",
      "5\n",
      "8\n",
      "13\n",
      "21\n",
      "34\n"
     ]
    }
   ],
   "source": [
    "n=10\n",
    "fib=0\n",
    "a=0\n",
    "b=1\n",
    "while fib<n:\n",
    "    print(a)\n",
    "    c=a+b\n",
    "    a=b\n",
    "    b=c\n",
    "    fib=fib+1"
   ]
  },
  {
   "cell_type": "markdown",
   "id": "036678ae-699c-4468-ac59-16a8e4793174",
   "metadata": {},
   "source": [
    "ANSWER-7"
   ]
  },
  {
   "cell_type": "code",
   "execution_count": 11,
   "id": "f901541b-4f5a-4ad5-8752-3d538580afa2",
   "metadata": {},
   "outputs": [
    {
     "data": {
      "text/plain": [
       "['p', 'w', 's', 'k', 'i', 'l', 'l', 's']"
      ]
     },
     "execution_count": 11,
     "metadata": {},
     "output_type": "execute_result"
    }
   ],
   "source": [
    "[i for i in \"pwskills\"]"
   ]
  },
  {
   "cell_type": "markdown",
   "id": "18b2dab2-f064-4e23-8f43-5c08a9083dca",
   "metadata": {},
   "source": [
    "ANSWER-8"
   ]
  },
  {
   "cell_type": "code",
   "execution_count": 21,
   "id": "39bf345a-a5b7-4e75-9814-7f65f53f174b",
   "metadata": {},
   "outputs": [
    {
     "name": "stdin",
     "output_type": "stream",
     "text": [
      "Enter your number:  101\n"
     ]
    },
    {
     "name": "stdout",
     "output_type": "stream",
     "text": [
      "101 is a palindrome number\n"
     ]
    }
   ],
   "source": [
    "n = int(input(\"Enter your number: \"))\n",
    "t = 0\n",
    "s = n\n",
    "rem = 0\n",
    "while n > 0:\n",
    "    rem = n % 10\n",
    "    t = t * 10 + rem\n",
    "    n = n // 10\n",
    "if s == t:\n",
    "    print(s, \"is a palindrome number\")\n",
    "else:\n",
    "    print(s, \"is not a palindrome number\")\n"
   ]
  },
  {
   "cell_type": "markdown",
   "id": "89258dcd-99b0-43d0-868a-fdb252d52b5a",
   "metadata": {},
   "source": [
    "ANSWER-9"
   ]
  },
  {
   "cell_type": "code",
   "execution_count": null,
   "id": "3efbc6ea-ec40-47ee-9132-2e518c9b2935",
   "metadata": {},
   "outputs": [],
   "source": [
    "l=\n",
    "[i for i in l ]"
   ]
  }
 ],
 "metadata": {
  "kernelspec": {
   "display_name": "Python 3 (ipykernel)",
   "language": "python",
   "name": "python3"
  },
  "language_info": {
   "codemirror_mode": {
    "name": "ipython",
    "version": 3
   },
   "file_extension": ".py",
   "mimetype": "text/x-python",
   "name": "python",
   "nbconvert_exporter": "python",
   "pygments_lexer": "ipython3",
   "version": "3.10.8"
  }
 },
 "nbformat": 4,
 "nbformat_minor": 5
}

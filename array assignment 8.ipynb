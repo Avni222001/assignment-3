{
 "cells": [
  {
   "cell_type": "markdown",
   "id": "a4d3fcfe-cec8-4d92-b511-451b028bd42f",
   "metadata": {},
   "source": [
    "ANSWER-1"
   ]
  },
  {
   "cell_type": "code",
   "execution_count": 17,
   "id": "fdd63e88-6b6f-4824-bb91-5ea4ee7b34cf",
   "metadata": {},
   "outputs": [
    {
     "name": "stdout",
     "output_type": "stream",
     "text": [
      "231\n"
     ]
    }
   ],
   "source": [
    "def minimumDeleteSum(s1, s2):\n",
    "    m, n = len(s1), len(s2)\n",
    "    \n",
    "    # Create a 2D table to store the minimum ASCII sum\n",
    "    dp = [[0] * (n+1) for _ in range(m+1)]\n",
    "    \n",
    "    # Fill the table starting from the last characters of s1 and s2\n",
    "    for i in range(m-1, -1, -1):\n",
    "        dp[i][n] = dp[i+1][n] + ord(s1[i])\n",
    "    \n",
    "    for j in range(n-1, -1, -1):\n",
    "        dp[m][j] = dp[m][j+1] + ord(s2[j])\n",
    "    \n",
    "    # Traverse the table from bottom-right to top-left\n",
    "    for i in range(m-1, -1, -1):\n",
    "        for j in range(n-1, -1, -1):\n",
    "            if s1[i] == s2[j]:\n",
    "                dp[i][j] = dp[i+1][j+1]\n",
    "            else:\n",
    "                dp[i][j] = min(dp[i+1][j] + ord(s1[i]), dp[i][j+1] + ord(s2[j]))\n",
    "    \n",
    "    return dp[0][0]\n",
    "\n",
    "\n",
    "s1 = \"sea\"\n",
    "s2 = \"eat\"\n",
    "result = minimumDeleteSum(s1, s2)\n",
    "print(result)\n"
   ]
  },
  {
   "cell_type": "markdown",
   "id": "4257ad62-045d-4bc0-a32e-19c6aae404cd",
   "metadata": {},
   "source": [
    "ANSWER-2"
   ]
  },
  {
   "cell_type": "code",
   "execution_count": 18,
   "id": "6ac61e5d-9263-48fd-beb5-86a951d1eb6c",
   "metadata": {},
   "outputs": [
    {
     "name": "stdout",
     "output_type": "stream",
     "text": [
      "True\n"
     ]
    }
   ],
   "source": [
    "def isValid(s):\n",
    "    stack = []\n",
    "    star_stack = []\n",
    "    \n",
    "    for char in s:\n",
    "        if char == '(':\n",
    "            stack.append(char)\n",
    "        elif char == '*':\n",
    "            star_stack.append(char)\n",
    "        else:\n",
    "            if stack:\n",
    "                stack.pop()\n",
    "            elif star_stack:\n",
    "                star_stack.pop()\n",
    "            else:\n",
    "                return False\n",
    "    \n",
    "    while stack and star_stack:\n",
    "        if stack[-1] > star_stack[-1]:\n",
    "            return False\n",
    "        stack.pop()\n",
    "        star_stack.pop()\n",
    "    \n",
    "    return len(stack) == 0\n",
    "\n",
    "\n",
    "s = \"()\"\n",
    "result = isValid(s)\n",
    "print(result)\n"
   ]
  },
  {
   "cell_type": "markdown",
   "id": "dce9889c-35ec-4ec1-aabf-06a2b5dc0083",
   "metadata": {},
   "source": [
    "ANSWER-3"
   ]
  },
  {
   "cell_type": "code",
   "execution_count": 19,
   "id": "7c8e2b02-33aa-4b88-826f-95a78db0e9dd",
   "metadata": {},
   "outputs": [
    {
     "name": "stdout",
     "output_type": "stream",
     "text": [
      "2\n"
     ]
    }
   ],
   "source": [
    "def minDistance(word1, word2):\n",
    "    m, n = len(word1), len(word2)\n",
    "    \n",
    "    # Create a 2D table to store the minimum number of steps\n",
    "    dp = [[0] * (n+1) for _ in range(m+1)]\n",
    "    \n",
    "    # Fill the table starting from the first characters of word1 and word2\n",
    "    for i in range(m+1):\n",
    "        dp[i][0] = i\n",
    "    \n",
    "    for j in range(n+1):\n",
    "        dp[0][j] = j\n",
    "    \n",
    "    # Traverse the table and calculate the minimum steps\n",
    "    for i in range(1, m+1):\n",
    "        for j in range(1, n+1):\n",
    "            if word1[i-1] == word2[j-1]:\n",
    "                dp[i][j] = dp[i-1][j-1]\n",
    "            else:\n",
    "                dp[i][j] = 1 + min(dp[i-1][j], dp[i][j-1])\n",
    "    \n",
    "    return dp[m][n]\n",
    "\n",
    "word1 = \"sea\"\n",
    "word2 = \"eat\"\n",
    "result = minDistance(word1, word2)\n",
    "print(result)\n"
   ]
  },
  {
   "cell_type": "markdown",
   "id": "a67aaf24-73a2-4f05-8df7-fe3f6bea2f5f",
   "metadata": {},
   "source": [
    "ANSWER-4"
   ]
  },
  {
   "cell_type": "code",
   "execution_count": 20,
   "id": "ff5a7118-0387-4137-b49e-c227c233263e",
   "metadata": {},
   "outputs": [
    {
     "name": "stdout",
     "output_type": "stream",
     "text": [
      "[4, 2, 3, 1, 6, 5]\n"
     ]
    }
   ],
   "source": [
    "def construct_binary_tree(s):\n",
    "    if not s:\n",
    "        return []\n",
    "    \n",
    "    # Find the root value\n",
    "    root_val = int(s[0])\n",
    "    root = [root_val]\n",
    "    \n",
    "    # Find the index of the first opening parenthesis\n",
    "    start = s.find('(')\n",
    "    \n",
    "    if start == -1:\n",
    "        return root\n",
    "    \n",
    "    # Find the index of the corresponding closing parenthesis\n",
    "    count = 0\n",
    "    for i in range(start, len(s)):\n",
    "        if s[i] == '(':\n",
    "            count += 1\n",
    "        elif s[i] == ')':\n",
    "            count -= 1\n",
    "        if count == 0:\n",
    "            end = i\n",
    "            break\n",
    "    \n",
    "    # Recursively construct the left and right subtrees\n",
    "    root.extend(construct_binary_tree(s[start+1:end]))\n",
    "    root.extend(construct_binary_tree(s[end+2:]))\n",
    "    \n",
    "    return root\n",
    "\n",
    "\n",
    "s = \"4(2(3)(1))(6(5))\"\n",
    "tree = construct_binary_tree(s)\n",
    "print(tree)\n"
   ]
  },
  {
   "cell_type": "markdown",
   "id": "0c6f10e1-4e4f-4459-a41f-80db5e5c9c03",
   "metadata": {},
   "source": [
    "ANSWER-5"
   ]
  },
  {
   "cell_type": "code",
   "execution_count": 21,
   "id": "8190441f-1c6f-48d1-a55f-cf3ecaf7aa98",
   "metadata": {},
   "outputs": [
    {
     "name": "stdout",
     "output_type": "stream",
     "text": [
      "6\n",
      "['a', '2', 'b', '2', 'c', '3']\n"
     ]
    }
   ],
   "source": [
    "def compress(chars):\n",
    "    write_index = 0  # current position to write the compressed characters\n",
    "    count = 1  # count of consecutive repeating characters\n",
    "\n",
    "    # Iterate over the characters starting from the second character\n",
    "    for i in range(1, len(chars)):\n",
    "        if chars[i] == chars[i-1]:\n",
    "            count += 1\n",
    "        else:\n",
    "            chars[write_index] = chars[i-1]\n",
    "            write_index += 1\n",
    "\n",
    "            if count > 1:\n",
    "                # Write the count of consecutive repeating characters\n",
    "                count_str = str(count)\n",
    "                for j in range(len(count_str)):\n",
    "                    chars[write_index] = count_str[j]\n",
    "                    write_index += 1\n",
    "\n",
    "            count = 1\n",
    "\n",
    "    # Write the last group of consecutive repeating characters\n",
    "    chars[write_index] = chars[-1]\n",
    "    write_index += 1\n",
    "\n",
    "    if count > 1:\n",
    "        # Write the count of consecutive repeating characters\n",
    "        count_str = str(count)\n",
    "        for j in range(len(count_str)):\n",
    "            chars[write_index] = count_str[j]\n",
    "            write_index += 1\n",
    "\n",
    "    return write_index\n",
    "\n",
    "chars = [\"a\", \"a\", \"b\", \"b\", \"c\", \"c\", \"c\"]\n",
    "new_length = compress(chars)\n",
    "print(new_length)\n",
    "print(chars[:new_length])\n"
   ]
  },
  {
   "cell_type": "markdown",
   "id": "5b643291-524a-4880-9f98-24120c80508a",
   "metadata": {},
   "source": [
    "ANSWER-6"
   ]
  },
  {
   "cell_type": "code",
   "execution_count": 22,
   "id": "03c15b33-b82e-4848-8033-6f38e851d286",
   "metadata": {},
   "outputs": [
    {
     "name": "stdout",
     "output_type": "stream",
     "text": [
      "[0, 6]\n"
     ]
    }
   ],
   "source": [
    "from collections import Counter\n",
    "\n",
    "def find_anagrams(s, p):\n",
    "    result = []\n",
    "    p_freq = Counter(p)\n",
    "    window_freq = Counter(s[:len(p)])\n",
    "\n",
    "    if p_freq == window_freq:\n",
    "        result.append(0)\n",
    "\n",
    "    for i in range(1, len(s) - len(p) + 1):\n",
    "        # Remove the character that goes out of the sliding window\n",
    "        window_freq[s[i-1]] -= 1\n",
    "        if window_freq[s[i-1]] == 0:\n",
    "            del window_freq[s[i-1]]\n",
    "\n",
    "        # Add the new character that enters the sliding window\n",
    "        window_freq[s[i + len(p) - 1]] += 1\n",
    "\n",
    "        if p_freq == window_freq:\n",
    "            result.append(i)\n",
    "\n",
    "    return result\n",
    "\n",
    "# Test the function\n",
    "s = \"cbaebabacd\"\n",
    "p = \"abc\"\n",
    "indices = find_anagrams(s, p)\n",
    "print(indices)\n"
   ]
  },
  {
   "cell_type": "markdown",
   "id": "a8ed59ea-4a83-466a-9d4e-fed904885933",
   "metadata": {},
   "source": [
    "ANSWER-7"
   ]
  },
  {
   "cell_type": "code",
   "execution_count": 23,
   "id": "dc10c6d6-3ca2-45fa-8bb0-14c2535e6cd6",
   "metadata": {},
   "outputs": [
    {
     "name": "stdout",
     "output_type": "stream",
     "text": [
      "aaabcbc\n"
     ]
    }
   ],
   "source": [
    "def decodeString(s):\n",
    "    stack = []\n",
    "    curr_num = \"\"\n",
    "    curr_str = \"\"\n",
    "\n",
    "    for char in s:\n",
    "        if char.isdigit():\n",
    "            curr_num += char\n",
    "        elif char == \"[\":\n",
    "            stack.append(curr_str)\n",
    "            stack.append(int(curr_num))\n",
    "            curr_num = \"\"\n",
    "            curr_str = \"\"\n",
    "        elif char == \"]\":\n",
    "            num = stack.pop()\n",
    "            prev_str = stack.pop()\n",
    "            curr_str = prev_str + num * curr_str\n",
    "        else:\n",
    "            curr_str += char\n",
    "\n",
    "    return curr_str\n",
    "\n",
    "s = \"3[a]2[bc]\"\n",
    "decoded_string = decodeString(s)\n",
    "print(decoded_string)\n"
   ]
  },
  {
   "cell_type": "markdown",
   "id": "d8f93b02-8c24-4bf1-b693-9c7acc0f049b",
   "metadata": {},
   "source": [
    "ANSWER-8"
   ]
  },
  {
   "cell_type": "code",
   "execution_count": 24,
   "id": "dd71a607-dbe1-45f1-8236-5930c161b51e",
   "metadata": {},
   "outputs": [
    {
     "name": "stdout",
     "output_type": "stream",
     "text": [
      "True\n"
     ]
    }
   ],
   "source": [
    "def buddyStrings(s, goal):\n",
    "    if len(s) != len(goal):\n",
    "        return False\n",
    "\n",
    "    if s == goal:\n",
    "        # Check if there are duplicate characters in s\n",
    "        seen = set()\n",
    "        for char in s:\n",
    "            if char in seen:\n",
    "                return True\n",
    "            seen.add(char)\n",
    "        return False\n",
    "\n",
    "    pairs = []\n",
    "    for i in range(len(s)):\n",
    "        if s[i] != goal[i]:\n",
    "            pairs.append((s[i], goal[i]))\n",
    "\n",
    "    return len(pairs) == 2 and pairs[0] == pairs[1][::-1]\n",
    "\n",
    "# Test the function\n",
    "s = \"ab\"\n",
    "goal = \"ba\"\n",
    "result = buddyStrings(s, goal)\n",
    "print(result)\n"
   ]
  },
  {
   "cell_type": "code",
   "execution_count": null,
   "id": "29492526-822e-4a65-b630-f60873030342",
   "metadata": {},
   "outputs": [],
   "source": []
  },
  {
   "cell_type": "code",
   "execution_count": null,
   "id": "a6ceba50-aeae-4048-96c8-0c99ab7b8605",
   "metadata": {},
   "outputs": [],
   "source": []
  },
  {
   "cell_type": "code",
   "execution_count": null,
   "id": "ce98381b-0c87-412f-b7ad-0214f3a477d7",
   "metadata": {},
   "outputs": [],
   "source": []
  }
 ],
 "metadata": {
  "kernelspec": {
   "display_name": "Python 3 (ipykernel)",
   "language": "python",
   "name": "python3"
  },
  "language_info": {
   "codemirror_mode": {
    "name": "ipython",
    "version": 3
   },
   "file_extension": ".py",
   "mimetype": "text/x-python",
   "name": "python",
   "nbconvert_exporter": "python",
   "pygments_lexer": "ipython3",
   "version": "3.10.8"
  }
 },
 "nbformat": 4,
 "nbformat_minor": 5
}

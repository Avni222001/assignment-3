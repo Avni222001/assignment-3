{
 "cells": [
  {
   "cell_type": "markdown",
   "id": "89e85335-63cf-4caf-908a-988d756ddc61",
   "metadata": {},
   "source": [
    "ANSWER-1"
   ]
  },
  {
   "cell_type": "markdown",
   "id": "37ac591a-b6d8-4da2-b2e1-498c0c24f79c",
   "metadata": {},
   "source": [
    "A class is like a blueprint that defines the characteristics and behaviors of an object. It is a way to group related data and functions together, so that they can be easily managed and reused.\n",
    "\n",
    "Objects are used to represent real-world entities and are the fundamental building blocks of object-oriented programming in Python."
   ]
  },
  {
   "cell_type": "code",
   "execution_count": 28,
   "id": "87a8c385-b470-4c44-b564-54aec9981abb",
   "metadata": {},
   "outputs": [],
   "source": [
    "#class example\n",
    "class test:\n",
    "    def pw(self):\n",
    "        print(\"hello this is my 4th assignment\")"
   ]
  },
  {
   "cell_type": "code",
   "execution_count": 29,
   "id": "a065d9ba-7a51-4cef-ba6d-b4a7ab85067e",
   "metadata": {},
   "outputs": [],
   "source": [
    "#object example\n",
    "a=test()"
   ]
  },
  {
   "cell_type": "code",
   "execution_count": 30,
   "id": "ef8f486b-d0e7-4170-8099-580f74615100",
   "metadata": {},
   "outputs": [
    {
     "name": "stdout",
     "output_type": "stream",
     "text": [
      "hello this is my 4th assignment\n"
     ]
    }
   ],
   "source": [
    "a.pw()"
   ]
  },
  {
   "cell_type": "markdown",
   "id": "a704af89-9bb1-4d2c-92fd-4e1ed64a70b2",
   "metadata": {},
   "source": [
    "ANSWER-2"
   ]
  },
  {
   "cell_type": "markdown",
   "id": "0554c95d-df51-4b98-8a76-0cfead846493",
   "metadata": {},
   "source": [
    "The four pillars of OOP are:\n",
    "1. Encapsulation\n",
    "2. Inheritance\n",
    "3. Abstraction\n",
    "4. Polymorphism"
   ]
  },
  {
   "cell_type": "markdown",
   "id": "985d775c-788d-459d-ad4f-2e94f17acc74",
   "metadata": {},
   "source": [
    "ANSWER-3"
   ]
  },
  {
   "cell_type": "markdown",
   "id": "77effec5-9a84-44f4-93e0-bcc357bc0224",
   "metadata": {},
   "source": [
    "The reason for using init() in Python is that it serves as a constructor for a class. This means that when an object of a class is created, the init() method is automatically called, allowing us to initialize the attributes (data) of the object. "
   ]
  },
  {
   "cell_type": "code",
   "execution_count": 11,
   "id": "d1fc9399-1be4-4438-92b1-d52f878cc305",
   "metadata": {},
   "outputs": [],
   "source": [
    "class test1:\n",
    "    def __init__(self,a,b,c):\n",
    "        self.a=a\n",
    "        self.b=b\n",
    "        self.c=c\n",
    "    def return_values(self) : \n",
    "        return self.a ,self.b ,self.c"
   ]
  },
  {
   "cell_type": "code",
   "execution_count": 13,
   "id": "e7a4e7c6-66f2-4458-af65-03e1417c23f7",
   "metadata": {},
   "outputs": [],
   "source": [
    "ob=test1(12,45,78)"
   ]
  },
  {
   "cell_type": "code",
   "execution_count": 14,
   "id": "23990122-5d7d-4542-b106-b8c19b3c79b3",
   "metadata": {},
   "outputs": [
    {
     "data": {
      "text/plain": [
       "12"
      ]
     },
     "execution_count": 14,
     "metadata": {},
     "output_type": "execute_result"
    }
   ],
   "source": [
    "ob.a"
   ]
  },
  {
   "cell_type": "code",
   "execution_count": 15,
   "id": "424ec8df-306f-4ebc-a39e-3914b463d983",
   "metadata": {},
   "outputs": [
    {
     "data": {
      "text/plain": [
       "45"
      ]
     },
     "execution_count": 15,
     "metadata": {},
     "output_type": "execute_result"
    }
   ],
   "source": [
    "ob.b"
   ]
  },
  {
   "cell_type": "code",
   "execution_count": 16,
   "id": "a9adcbcc-df08-4480-84c0-fcafa96d7ae4",
   "metadata": {},
   "outputs": [
    {
     "data": {
      "text/plain": [
       "78"
      ]
     },
     "execution_count": 16,
     "metadata": {},
     "output_type": "execute_result"
    }
   ],
   "source": [
    "ob.c"
   ]
  },
  {
   "cell_type": "markdown",
   "id": "a7d0f367-79cb-4241-8bac-8b680535f021",
   "metadata": {},
   "source": [
    "ANSWER-4"
   ]
  },
  {
   "cell_type": "markdown",
   "id": "d150343b-bf37-4494-9b10-4cf662bd4fd5",
   "metadata": {},
   "source": [
    "Self act as a pointer or a refernce for the class which points and tell the class that these attributes and methods are there in our class and we can access those attributes and methods of the class within its own methods.Self is not a reserved keyword in Python i.e., we can use any word in place of it "
   ]
  },
  {
   "cell_type": "markdown",
   "id": "dcdbfa2e-3718-4e3c-b33f-0bbbd3f56999",
   "metadata": {},
   "source": [
    "ANSWER-5"
   ]
  },
  {
   "cell_type": "markdown",
   "id": "1cea050c-f189-4f7d-938d-84edee99f3d5",
   "metadata": {},
   "source": [
    "Inheritance is a fundamental concept in object-oriented programming that allows a new class to be based on an existing class.\n",
    "There are four types of inheritance in Python:\n",
    "\n",
    "1.Single inheritance: In single inheritance, a new class is derived from a single base class. It is the simplest type of inheritance.\n",
    "\n",
    "2.Multi-level inheritance: In multi-level inheritance, a new class is derived from a base class, which is itself derived from another base class.\n",
    "\n",
    "3.Multiple inheritance: In multiple inheritance, a new class is derived from two or more base classes.\n",
    "\n",
    "4.Hierarchical inheritance: In hierarchical inheritance, multiple derived classes are created from a single base class."
   ]
  },
  {
   "cell_type": "code",
   "execution_count": 18,
   "id": "c9bd9b2d-f629-4940-a8d8-626c315ebd99",
   "metadata": {},
   "outputs": [
    {
     "name": "stdout",
     "output_type": "stream",
     "text": [
      "I am a dog\n"
     ]
    }
   ],
   "source": [
    "#Single inheritance\n",
    "class Animal:\n",
    "    def __init__(self, name):\n",
    "        self.name = name\n",
    "\n",
    "    def speak(self):\n",
    "        print(\"I am an animal\")\n",
    "\n",
    "class Dog(Animal):\n",
    "    def __init__(self, name):\n",
    "        super().__init__(name)\n",
    "\n",
    "    def speak(self):\n",
    "        print(\"I am a dog\")\n",
    "\n",
    "dog = Dog(\"Max\")\n",
    "dog.speak() \n"
   ]
  },
  {
   "cell_type": "code",
   "execution_count": 24,
   "id": "76e849b1-e495-480f-bea2-38c7e8276ea7",
   "metadata": {},
   "outputs": [
    {
     "name": "stdout",
     "output_type": "stream",
     "text": [
      "I am a mammal\n"
     ]
    }
   ],
   "source": [
    "#Multi-level inheritance\n",
    "class Animal:\n",
    "    def __init__(self, name):\n",
    "        self.name = name\n",
    "\n",
    "    def speak(self):\n",
    "        print(\"I am an animal\")\n",
    "\n",
    "class Mammal(Animal):\n",
    "    def __init__(self, name):\n",
    "        super().__init__(name)\n",
    "\n",
    "    def speak(self):\n",
    "        print(\"I am a mammal\")\n",
    "\n",
    "class Dog(Mammal):\n",
    "    def __init__(self, name):\n",
    "        super().__init__(name)\n",
    "\n",
    "    def speak(self):\n",
    "        print(\"I am a dog\")\n",
    "\n",
    "dog = Mammal(\"Ron\")\n",
    "dog.speak()  "
   ]
  },
  {
   "cell_type": "code",
   "execution_count": 26,
   "id": "a63335b0-c18d-46f9-bcc7-25e53a3f3b98",
   "metadata": {},
   "outputs": [
    {
     "name": "stdout",
     "output_type": "stream",
     "text": [
      "I am an animal\n"
     ]
    }
   ],
   "source": [
    "#Multiple inheritance\n",
    "class Animal:\n",
    "    def __init__(self, name):\n",
    "        self.name = name\n",
    "\n",
    "    def speak(self):\n",
    "        print(\"I am an animal\")\n",
    "\n",
    "class Bird:\n",
    "    def __init__(self, name):\n",
    "        self.name = name\n",
    "\n",
    "    def speak(self):\n",
    "        print(\"I am a bird\")\n",
    "\n",
    "class Parrot(Animal, Bird):\n",
    "    def __init__(self, name):\n",
    "        super().__init__(name)\n",
    "\n",
    "parrot = Parrot(\"Polly\")\n",
    "parrot.speak() \n"
   ]
  },
  {
   "cell_type": "code",
   "execution_count": 27,
   "id": "d662c18e-82df-4dd8-9ffd-da6e17318881",
   "metadata": {},
   "outputs": [
    {
     "name": "stdout",
     "output_type": "stream",
     "text": [
      "I am a cat\n",
      "I am a dog\n"
     ]
    }
   ],
   "source": [
    "#Hierarchical inheritance\n",
    "class Animal:\n",
    "    def __init__(self, name):\n",
    "        self.name = name\n",
    "\n",
    "    def speak(self):\n",
    "        print(\"I am an animal\")\n",
    "\n",
    "class Cat(Animal):\n",
    "    def __init__(self, name):\n",
    "        super().__init__(name)\n",
    "\n",
    "    def speak(self):\n",
    "        print(\"I am a cat\")\n",
    "\n",
    "class Dog(Animal):\n",
    "    def __init__(self, name):\n",
    "        super().__init__(name)\n",
    "\n",
    "    def speak(self):\n",
    "        print(\"I am a dog\")\n",
    "\n",
    "cat = Cat(\"Fluffy\")\n",
    "dog = Dog(\"Buddy\")\n",
    "cat.speak()  \n",
    "dog.speak() \n"
   ]
  }
 ],
 "metadata": {
  "kernelspec": {
   "display_name": "Python 3 (ipykernel)",
   "language": "python",
   "name": "python3"
  },
  "language_info": {
   "codemirror_mode": {
    "name": "ipython",
    "version": 3
   },
   "file_extension": ".py",
   "mimetype": "text/x-python",
   "name": "python",
   "nbconvert_exporter": "python",
   "pygments_lexer": "ipython3",
   "version": "3.10.8"
  }
 },
 "nbformat": 4,
 "nbformat_minor": 5
}

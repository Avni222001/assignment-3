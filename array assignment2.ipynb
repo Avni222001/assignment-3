{
 "cells": [
  {
   "cell_type": "markdown",
   "id": "34995541-62ef-44f7-a034-2037add38e82",
   "metadata": {},
   "source": [
    "ANSWER-1"
   ]
  },
  {
   "cell_type": "code",
   "execution_count": 25,
   "id": "e4ab2902-773f-4377-8f51-822f23aba1d8",
   "metadata": {},
   "outputs": [
    {
     "name": "stdout",
     "output_type": "stream",
     "text": [
      "4\n"
     ]
    }
   ],
   "source": [
    "def array_pair_sum(nums):\n",
    "    nums.sort()  # Sort the input array in ascending order\n",
    "    max_sum = 0\n",
    "    \n",
    "    for i in range(0, len(nums), 2):\n",
    "        max_sum += nums[i]  # Add the smaller element of each pair to max_sum\n",
    "    \n",
    "    return max_sum\n",
    "\n",
    "nums = [1, 4, 3, 2]\n",
    "max_sum = array_pair_sum(nums)\n",
    "print(max_sum) \n"
   ]
  },
  {
   "cell_type": "markdown",
   "id": "3568a654-62e5-4db5-b7a2-c37beea7ddfb",
   "metadata": {},
   "source": [
    "ANSWER-2"
   ]
  },
  {
   "cell_type": "code",
   "execution_count": 26,
   "id": "386505e5-6ae2-4093-bdd0-a39ba786c76b",
   "metadata": {},
   "outputs": [
    {
     "name": "stdout",
     "output_type": "stream",
     "text": [
      "3\n"
     ]
    }
   ],
   "source": [
    "def max_num_types(candyType):\n",
    "    unique_types = set(candyType)  # Get the unique candy types\n",
    "    max_types = min(len(candyType) // 2, len(unique_types))  # Calculate the maximum number of candy types\n",
    "    return max_types\n",
    "candyType = [1, 1, 2, 2, 3, 3]\n",
    "max_types = max_num_types(candyType)\n",
    "print(max_types)  "
   ]
  },
  {
   "cell_type": "markdown",
   "id": "0226cac6-5185-46e2-afdf-f96f5f67a0bb",
   "metadata": {},
   "source": [
    "ANSWER-3"
   ]
  },
  {
   "cell_type": "code",
   "execution_count": 27,
   "id": "8f956056-799e-458e-bf81-18486f8e0bd4",
   "metadata": {},
   "outputs": [
    {
     "name": "stdout",
     "output_type": "stream",
     "text": [
      "5\n"
     ]
    }
   ],
   "source": [
    "def findLHS(nums):\n",
    "    freq_map = {}\n",
    "    for num in nums:\n",
    "        freq_map[num] = freq_map.get(num, 0) + 1\n",
    "    \n",
    "    max_length = 0\n",
    "    for num in nums:\n",
    "        if num + 1 in freq_map:\n",
    "            length = freq_map[num] + freq_map[num + 1]\n",
    "            max_length = max(max_length, length)\n",
    "    \n",
    "    return max_length\n",
    "nums = [1, 3, 2, 2, 5, 2, 3, 7]\n",
    "max_length = findLHS(nums)\n",
    "print(max_length)  \n"
   ]
  },
  {
   "cell_type": "markdown",
   "id": "6215036b-b539-4774-bd7f-59d1fe04d772",
   "metadata": {},
   "source": [
    "ANSWER-4"
   ]
  },
  {
   "cell_type": "code",
   "execution_count": 28,
   "id": "864bbc36-831a-4528-872e-56d39296eb09",
   "metadata": {},
   "outputs": [
    {
     "name": "stdout",
     "output_type": "stream",
     "text": [
      "False\n"
     ]
    }
   ],
   "source": [
    "def canPlaceFlowers(flowerbed, n):\n",
    "    count = 0\n",
    "    i = 0\n",
    "    while i < len(flowerbed):\n",
    "        if flowerbed[i] == 0 and (i == 0 or flowerbed[i-1] == 0) and (i == len(flowerbed)-1 or flowerbed[i+1] == 0):\n",
    "            flowerbed[i] = 1\n",
    "            count += 1\n",
    "            if count >= n:\n",
    "                return True\n",
    "        i += 1\n",
    "\n",
    "    return False\n",
    "\n",
    "flowerbed = [1, 0, 1, 0, 1, 1, 0]\n",
    "n = 1\n",
    "result = canPlaceFlowers(flowerbed, n)\n",
    "print(result)  "
   ]
  },
  {
   "cell_type": "markdown",
   "id": "cb668493-445b-4291-8d79-89ecc2192a13",
   "metadata": {},
   "source": [
    "ANSWER-5"
   ]
  },
  {
   "cell_type": "code",
   "execution_count": 29,
   "id": "331e7284-802b-4d79-aa14-4cf7dfc60efa",
   "metadata": {},
   "outputs": [
    {
     "name": "stdout",
     "output_type": "stream",
     "text": [
      "24\n"
     ]
    }
   ],
   "source": [
    "def maximumProduct(nums):\n",
    "    max1 = max2 = max3 = float('-inf')\n",
    "    min1 = min2 = float('inf')\n",
    "    \n",
    "    for num in nums:\n",
    "        if num > max1:\n",
    "            max3 = max2\n",
    "            max2 = max1\n",
    "            max1 = num\n",
    "        elif num > max2:\n",
    "            max3 = max2\n",
    "            max2 = num\n",
    "        elif num > max3:\n",
    "            max3 = num\n",
    "        \n",
    "        if num < min1:\n",
    "            min2 = min1\n",
    "            min1 = num\n",
    "        elif num < min2:\n",
    "            min2 = num\n",
    "    \n",
    "    max_product = max1 * max2 * max3\n",
    "    min_product = min1 * min2 * max1\n",
    "    \n",
    "    return max(max_product, min_product)\n",
    "\n",
    "\n",
    "nums = [1, 2, 3,4]\n",
    "result = maximumProduct(nums)\n",
    "print(result)  \n"
   ]
  },
  {
   "cell_type": "markdown",
   "id": "1b7cb855-4e8b-4110-bddf-0aa930d39fe9",
   "metadata": {},
   "source": [
    "ANSWER-6"
   ]
  },
  {
   "cell_type": "code",
   "execution_count": 30,
   "id": "0c5b09b8-3579-465b-bf34-431f6938537c",
   "metadata": {},
   "outputs": [
    {
     "name": "stdout",
     "output_type": "stream",
     "text": [
      "4\n"
     ]
    }
   ],
   "source": [
    "def search(nums, target):\n",
    "    left = 0  # Initialize the left pointer\n",
    "    right = len(nums) - 1  # Initialize the right pointer\n",
    "    \n",
    "    while left <= right:\n",
    "        mid = left + (right - left) // 2  # Calculate the middle index\n",
    "        \n",
    "        if nums[mid] == target:  # If the middle element is the target, return its index\n",
    "            return mid\n",
    "        \n",
    "        elif nums[mid] < target:  # If the middle element is smaller than the target, search in the right half\n",
    "            left = mid + 1\n",
    "        \n",
    "        else:  # If the middle element is larger than the target, search in the left half\n",
    "            right = mid - 1\n",
    "    \n",
    "    return -1  # If the target is not found, return -1\n",
    "\n",
    "\n",
    "nums = [-1, 0, 3, 5, 9, 12]\n",
    "target = 9\n",
    "result = search(nums, target)\n",
    "print(result)  \n"
   ]
  },
  {
   "cell_type": "markdown",
   "id": "e3eddd37-e7b2-4987-8bd0-3bca417c8901",
   "metadata": {},
   "source": [
    "ANSWER-7"
   ]
  },
  {
   "cell_type": "code",
   "execution_count": 31,
   "id": "eb8c95d9-dfa6-4970-82cf-c3adbea3648b",
   "metadata": {},
   "outputs": [
    {
     "name": "stdout",
     "output_type": "stream",
     "text": [
      "True\n"
     ]
    }
   ],
   "source": [
    "def isMonotonic(nums):\n",
    "    increasing = decreasing = True  # Initialize flags for increasing and decreasing properties\n",
    "    \n",
    "    for i in range(1, len(nums)):\n",
    "        if nums[i] < nums[i-1]:  # If the current element is smaller than the previous element\n",
    "            increasing = False\n",
    "        if nums[i] > nums[i-1]:  # If the current element is larger than the previous element\n",
    "            decreasing = False\n",
    "    \n",
    "    return increasing or decreasing  # Return True if either increasing or decreasing is True\n",
    "\n",
    "\n",
    "nums = [1, 2, 2, 3,6]\n",
    "result = isMonotonic(nums)\n",
    "print(result) \n"
   ]
  },
  {
   "cell_type": "markdown",
   "id": "6f5b635a-de1c-4882-a4d0-22eeeeaa3f70",
   "metadata": {},
   "source": [
    "ANSWER-8"
   ]
  },
  {
   "cell_type": "code",
   "execution_count": 32,
   "id": "48949585-d9e0-44ed-ad5a-71f24b85dfb9",
   "metadata": {},
   "outputs": [
    {
     "name": "stdout",
     "output_type": "stream",
     "text": [
      "0\n"
     ]
    }
   ],
   "source": [
    "def minimumScore(nums, k):\n",
    "    minimum = min(nums)\n",
    "    maximum = max(nums)\n",
    "    initial_score = maximum - minimum\n",
    "    \n",
    "    if initial_score <= 2 * k:\n",
    "        return 0\n",
    "    \n",
    "    lower_candidate_score = minimum + k\n",
    "    upper_candidate_score = maximum - k\n",
    "    \n",
    "    return min(initial_score, lower_candidate_score, upper_candidate_score)\n",
    "\n",
    "\n",
    "nums = [1]\n",
    "k = 0\n",
    "result = minimumScore(nums, k)\n",
    "print(result)  \n"
   ]
  },
  {
   "cell_type": "code",
   "execution_count": null,
   "id": "f45dc74f-b512-4f62-8fee-c78323d0e072",
   "metadata": {},
   "outputs": [],
   "source": []
  },
  {
   "cell_type": "code",
   "execution_count": null,
   "id": "e1508512-e5f1-4311-8542-3c929834c010",
   "metadata": {},
   "outputs": [],
   "source": []
  },
  {
   "cell_type": "code",
   "execution_count": null,
   "id": "9d3c43f5-cca7-4458-b003-181dfe88ecc5",
   "metadata": {},
   "outputs": [],
   "source": []
  },
  {
   "cell_type": "code",
   "execution_count": null,
   "id": "d0cc0d7b-6db1-4265-ac5a-2bc4fb7a4e18",
   "metadata": {},
   "outputs": [],
   "source": []
  },
  {
   "cell_type": "code",
   "execution_count": null,
   "id": "d9cf4d78-760e-4501-9777-81261ea4c01e",
   "metadata": {},
   "outputs": [],
   "source": []
  }
 ],
 "metadata": {
  "kernelspec": {
   "display_name": "Python 3 (ipykernel)",
   "language": "python",
   "name": "python3"
  },
  "language_info": {
   "codemirror_mode": {
    "name": "ipython",
    "version": 3
   },
   "file_extension": ".py",
   "mimetype": "text/x-python",
   "name": "python",
   "nbconvert_exporter": "python",
   "pygments_lexer": "ipython3",
   "version": "3.10.8"
  }
 },
 "nbformat": 4,
 "nbformat_minor": 5
}

{
 "cells": [
  {
   "cell_type": "markdown",
   "id": "49e78a77-7715-4b17-83a5-171c4e71a324",
   "metadata": {},
   "source": [
    "ANSWER-1"
   ]
  },
  {
   "cell_type": "code",
   "execution_count": 36,
   "id": "9d2a7eae-6632-4d69-b37b-cfa34ef48142",
   "metadata": {},
   "outputs": [
    {
     "name": "stdin",
     "output_type": "stream",
     "text": [
      "enter ur percentage 78\n"
     ]
    },
    {
     "name": "stdout",
     "output_type": "stream",
     "text": [
      "Grade=C\n"
     ]
    }
   ],
   "source": [
    "n=int(input(\"enter ur percentage\"))\n",
    "if n>90:\n",
    "    print(\"Grade=A\")\n",
    "elif n>80 and n<=90:\n",
    "    print(\"Grade=B\")\n",
    "elif n>=60 and n<=80:\n",
    "    print(\"Grade=C\")\n",
    "else:\n",
    "    print(\"Grade=D\")"
   ]
  },
  {
   "cell_type": "markdown",
   "id": "ebc69138-2a8e-4121-a43b-31046f19f29c",
   "metadata": {},
   "source": [
    "ANSWER-2"
   ]
  },
  {
   "cell_type": "code",
   "execution_count": 37,
   "id": "ed05a941-1786-4845-be1c-7f961d2a15d2",
   "metadata": {},
   "outputs": [
    {
     "name": "stdin",
     "output_type": "stream",
     "text": [
      "Enter the cost price of the bike (in Rs):  899000\n"
     ]
    },
    {
     "name": "stdout",
     "output_type": "stream",
     "text": [
      "Road tax to be paid: Rs 134850.0\n"
     ]
    }
   ],
   "source": [
    "cost_price = float(input(\"Enter the cost price of the bike (in Rs): \"))\n",
    "\n",
    "if cost_price > 100000:\n",
    "    tax_percentage = 15\n",
    "elif cost_price > 50000 and cost_price <= 100000:\n",
    "    tax_percentage = 10\n",
    "else:\n",
    "    tax_percentage = 5\n",
    "road_tax = (cost_price * tax_percentage) / 100\n",
    "print(\"Road tax to be paid: Rs\", road_tax)\n"
   ]
  },
  {
   "cell_type": "markdown",
   "id": "8afd003f-299f-461a-a98e-01b09e97e550",
   "metadata": {},
   "source": [
    "Answer-3"
   ]
  },
  {
   "cell_type": "code",
   "execution_count": 39,
   "id": "af9a3b42-79f5-4d59-89ba-551e0fc1e739",
   "metadata": {},
   "outputs": [
    {
     "name": "stdin",
     "output_type": "stream",
     "text": [
      "Enter the city of yor choice:  Agra\n"
     ]
    },
    {
     "name": "stdout",
     "output_type": "stream",
     "text": [
      "monument is Taj Mahal\n"
     ]
    }
   ],
   "source": [
    "n = input(\"Enter the city of yor choice: \")\n",
    "if n == \"Delhi\":\n",
    "    print(\"monument is Red Fort\")\n",
    "elif n == \"Agra\":\n",
    "    print(\"monument is Taj Mahal\")\n",
    "elif n == \"Jaipur\":\n",
    "    print(\"monument is Jai Mahal\")\n",
    "\n",
    "    "
   ]
  },
  {
   "cell_type": "markdown",
   "id": "d97d1937-32c4-40d1-b11f-9277fe9a1024",
   "metadata": {},
   "source": [
    "ANSWER-4"
   ]
  },
  {
   "cell_type": "code",
   "execution_count": 40,
   "id": "7b864d01-5d61-45d8-850b-0066ed4c88e3",
   "metadata": {},
   "outputs": [
    {
     "name": "stdin",
     "output_type": "stream",
     "text": [
      "Enter the number:  8998\n"
     ]
    },
    {
     "name": "stdout",
     "output_type": "stream",
     "text": [
      "Number of divisions by 3 before reaching 10 or less: 7\n"
     ]
    }
   ],
   "source": [
    "n = int(input(\"Enter the number: \"))\n",
    "c = 0\n",
    "\n",
    "while n > 10:\n",
    "    n /= 3\n",
    "    c += 1\n",
    "\n",
    "print(\"Number of divisions by 3 before reaching 10 or less:\", c)\n"
   ]
  },
  {
   "cell_type": "markdown",
   "id": "f6a55d18-f03a-4ebf-90e5-0e1ae461596d",
   "metadata": {
    "jp-MarkdownHeadingCollapsed": true,
    "tags": []
   },
   "source": [
    "ANSWER-5"
   ]
  },
  {
   "cell_type": "markdown",
   "id": "12c3d7cf-afba-4659-850a-aea17d4d3076",
   "metadata": {},
   "source": [
    "The while loop in Python is used when you want to execute a block of code repeatedly as long as a certain condition is true. It is a type of indefinite loop because the number of iterations is not known in advance.\n",
    "\n",
    "The condition is checked before each iteration. If the condition is true, the code block is executed, and then the condition is checked again. This process continues until the condition becomes false, at which point the loop is exited, and the program execution moves to the next statement after the loop.\n",
    "\n",
    "It's important to ensure that the condition within a while loop will eventually become false; otherwise, the loop will run indefinitely, leading to an infinite loop. To prevent infinite loops, you can include additional code inside the loop that modifies the variables or conditions being checked, ensuring that the loop will eventually terminate."
   ]
  },
  {
   "cell_type": "code",
   "execution_count": 41,
   "id": "ca145c4e-1bb9-440b-8f88-3fd59dd5e893",
   "metadata": {},
   "outputs": [
    {
     "name": "stdout",
     "output_type": "stream",
     "text": [
      "Count: 0\n",
      "Count: 1\n",
      "Count: 2\n",
      "Count: 3\n",
      "Count: 4\n"
     ]
    }
   ],
   "source": [
    "count = 0\n",
    "while count < 5:\n",
    "    print(\"Count:\", count)\n",
    "    count += 1\n"
   ]
  },
  {
   "cell_type": "markdown",
   "id": "ef6767b4-9ae0-47c8-96e2-65aa18e83105",
   "metadata": {},
   "source": [
    "ANSWER-6"
   ]
  },
  {
   "cell_type": "code",
   "execution_count": 42,
   "id": "a27edd5e-ea2d-47cb-a128-540a72cc493b",
   "metadata": {},
   "outputs": [
    {
     "name": "stdout",
     "output_type": "stream",
     "text": [
      "* \n",
      "* * \n",
      "* * * \n",
      "* * * * \n",
      "* * * * * \n"
     ]
    }
   ],
   "source": [
    "#Pattern 1: Triangle\n",
    "rows = 5\n",
    "i = 1\n",
    "\n",
    "while i <= rows:\n",
    "    j = 1\n",
    "    while j <= i:\n",
    "        print(\"*\", end=\" \")\n",
    "        j += 1\n",
    "    print()\n",
    "    i += 1\n"
   ]
  },
  {
   "cell_type": "code",
   "execution_count": 43,
   "id": "9b3da21e-a880-408d-8303-a6431b0330ec",
   "metadata": {},
   "outputs": [
    {
     "name": "stdout",
     "output_type": "stream",
     "text": [
      "* * * * \n",
      "* * * * \n",
      "* * * * \n",
      "* * * * \n"
     ]
    }
   ],
   "source": [
    "#Pattern 2: Square\n",
    "size = 4\n",
    "row = 1\n",
    "\n",
    "while row <= size:\n",
    "    col = 1\n",
    "    while col <= size:\n",
    "        print(\"*\", end=\" \")\n",
    "        col += 1\n",
    "    print()\n",
    "    row += 1\n"
   ]
  },
  {
   "cell_type": "code",
   "execution_count": 44,
   "id": "b6334134-5693-4657-9096-223c71d0efbb",
   "metadata": {},
   "outputs": [
    {
     "name": "stdout",
     "output_type": "stream",
     "text": [
      "    *\n",
      "   ***\n",
      "  *****\n",
      " *******\n",
      "*********\n"
     ]
    }
   ],
   "source": [
    "#Pattern 3: Pyramid\n",
    "height = 5\n",
    "row = 1\n",
    "spaces = height - 1\n",
    "\n",
    "while row <= height:\n",
    "    # Print spaces\n",
    "    col = 1\n",
    "    while col <= spaces:\n",
    "        print(\" \", end=\"\")\n",
    "        col += 1\n",
    "\n",
    "    # Print asterisks\n",
    "    col = 1\n",
    "    while col <= (2 * row - 1):\n",
    "        print(\"*\", end=\"\")\n",
    "        col += 1\n",
    "\n",
    "    print()\n",
    "    spaces -= 1\n",
    "    row += 1\n",
    "\n",
    "    "
   ]
  },
  {
   "cell_type": "markdown",
   "id": "db32f017-5fc6-4bcd-9a97-6201fe916a3e",
   "metadata": {},
   "source": [
    "ANSWER-7"
   ]
  },
  {
   "cell_type": "code",
   "execution_count": 45,
   "id": "dcf4e30d-b551-4fae-ba19-c45f742a866f",
   "metadata": {},
   "outputs": [
    {
     "name": "stdout",
     "output_type": "stream",
     "text": [
      "10\n",
      "9\n",
      "8\n",
      "7\n",
      "6\n",
      "5\n",
      "4\n",
      "3\n",
      "2\n",
      "1\n"
     ]
    }
   ],
   "source": [
    "num = 10\n",
    "while num >= 1:\n",
    "    print(num)\n",
    "    num -= 1\n",
    "\n"
   ]
  },
  {
   "cell_type": "code",
   "execution_count": null,
   "id": "0cbec9e4-e0c7-4e64-94c7-4624c20a201f",
   "metadata": {},
   "outputs": [],
   "source": []
  },
  {
   "cell_type": "code",
   "execution_count": null,
   "id": "ad5d4981-2f1a-4b16-a0a6-6c853483d552",
   "metadata": {},
   "outputs": [],
   "source": []
  }
 ],
 "metadata": {
  "kernelspec": {
   "display_name": "Python 3 (ipykernel)",
   "language": "python",
   "name": "python3"
  },
  "language_info": {
   "codemirror_mode": {
    "name": "ipython",
    "version": 3
   },
   "file_extension": ".py",
   "mimetype": "text/x-python",
   "name": "python",
   "nbconvert_exporter": "python",
   "pygments_lexer": "ipython3",
   "version": "3.10.8"
  }
 },
 "nbformat": 4,
 "nbformat_minor": 5
}

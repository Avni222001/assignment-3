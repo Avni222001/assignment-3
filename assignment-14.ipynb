{
 "cells": [
  {
   "cell_type": "markdown",
   "id": "a4649811-78c1-4e38-abe5-ef7b8b86f7a3",
   "metadata": {},
   "source": [
    "ANSWER-1"
   ]
  },
  {
   "cell_type": "markdown",
   "id": "1f419438-11a1-4048-93a6-51864c55d6e2",
   "metadata": {},
   "source": [
    "Multithreading in Python refers to the concurrent execution of multiple threads within a single process. A thread is a lightweight sub-process that shares the same memory space as the parent process, enabling parallel execution of tasks. Python's Global Interpreter Lock (GIL) can, however, limit the true parallelism of threads in CPU-bound tasks, but it can still be effective in I/O-bound tasks.\n",
    "\n",
    "Multithreading is used primarily to improve the efficiency of programs that involve I/O-bound operations such as reading/writing files, network communication, database interactions, and other tasks that spend a significant amount of time waiting for external resources. By using threads, these tasks can be performed concurrently, potentially reducing the overall execution time of the program.\n",
    "\n",
    "The threading module in Python is used to handle threads. It provides classes and functions for creating, managing, and synchronizing threads. "
   ]
  },
  {
   "cell_type": "markdown",
   "id": "372237ea-8fa1-4602-b79c-7a988bf0ee60",
   "metadata": {},
   "source": [
    "ANSWER-2"
   ]
  },
  {
   "cell_type": "markdown",
   "id": "0e7a9c42-acd2-482d-a8cc-e2ae7ae918ae",
   "metadata": {},
   "source": [
    "The threading module in Python is used for creating, managing, and synchronizing threads. It provides a way to achieve concurrent execution in a program, which can be particularly useful when dealing with I/O-bound tasks or tasks that can be parallelized. Here are the use cases of the functions you've mentioned from the threading module:\n",
    "\n",
    "activeCount():\n",
    "This function returns the number of Thread objects currently alive.\n",
    "It's useful to determine how many threads are actively running or exist in the program at a given moment.\n",
    "\n",
    "currentThread():\n",
    "This function returns the current Thread object corresponding to the caller's thread.\n",
    "It's useful to identify the currently executing thread within the program.\n",
    "\n",
    "enumerate():\n",
    "This function returns a list of all Thread objects currently alive.\n",
    "It can be used to iterate through and manage all active threads in the program."
   ]
  },
  {
   "cell_type": "code",
   "execution_count": 9,
   "id": "082311d6-4b93-4e19-b17e-ff6ef64f8d78",
   "metadata": {},
   "outputs": [
    {
     "name": "stdout",
     "output_type": "stream",
     "text": [
      "Working...\n",
      "Working...\n",
      "Working...\n",
      "Working...\n",
      "Working...\n",
      "Active threads: 8\n"
     ]
    },
    {
     "name": "stderr",
     "output_type": "stream",
     "text": [
      "/tmp/ipykernel_109/2327186091.py:12: DeprecationWarning: activeCount() is deprecated, use active_count() instead\n",
      "  print(\"Active threads:\", threading.activeCount())\n"
     ]
    }
   ],
   "source": [
    "import threading\n",
    "\n",
    "def worker():\n",
    "    print(\"Working...\")\n",
    "\n",
    "thread_list = []\n",
    "for _ in range(5):\n",
    "    t = threading.Thread(target=worker)\n",
    "    t.start()\n",
    "    thread_list.append(t)\n",
    "\n",
    "print(\"Active threads:\", threading.activeCount())\n"
   ]
  },
  {
   "cell_type": "code",
   "execution_count": 10,
   "id": "67d6dc30-e71f-4a0e-97db-89f6f3301508",
   "metadata": {},
   "outputs": [
    {
     "name": "stdout",
     "output_type": "stream",
     "text": [
      "Current thread: Thread-27 (print_current_thread)\n"
     ]
    },
    {
     "name": "stderr",
     "output_type": "stream",
     "text": [
      "/tmp/ipykernel_109/329995368.py:4: DeprecationWarning: currentThread() is deprecated, use current_thread() instead\n",
      "  current_thread = threading.currentThread()\n"
     ]
    }
   ],
   "source": [
    "import threading\n",
    "\n",
    "def print_current_thread():\n",
    "    current_thread = threading.currentThread()\n",
    "    print(\"Current thread:\", current_thread.name)\n",
    "\n",
    "t = threading.Thread(target=print_current_thread)\n",
    "t.start()\n",
    "t.join()\n"
   ]
  },
  {
   "cell_type": "code",
   "execution_count": 11,
   "id": "b5152add-6cb5-4aca-9c94-01d029956fcf",
   "metadata": {},
   "outputs": [
    {
     "name": "stdout",
     "output_type": "stream",
     "text": [
      "Working...\n",
      "Working...\n",
      "Working...\n",
      "Working...\n",
      "Working...\n",
      "Thread: MainThread\n",
      "Thread: IOPub\n",
      "Thread: Heartbeat\n",
      "Thread: Thread-3 (_watch_pipe_fd)\n",
      "Thread: Thread-4 (_watch_pipe_fd)\n",
      "Thread: Control\n",
      "Thread: IPythonHistorySavingThread\n",
      "Thread: Thread-2\n"
     ]
    }
   ],
   "source": [
    "import threading\n",
    "\n",
    "def worker():\n",
    "    print(\"Working...\")\n",
    "\n",
    "thread_list = []\n",
    "for _ in range(5):\n",
    "    t = threading.Thread(target=worker)\n",
    "    t.start()\n",
    "    thread_list.append(t)\n",
    "\n",
    "for thread in threading.enumerate():\n",
    "    print(\"Thread:\", thread.name)\n",
    "\n",
    "# Wait for all threads to finish\n",
    "for t in thread_list:\n",
    "    t.join()\n"
   ]
  },
  {
   "cell_type": "markdown",
   "id": "cac03958-f5c2-4cd0-b584-60cbeb2f378d",
   "metadata": {},
   "source": [
    "ANSWER-3"
   ]
  },
  {
   "cell_type": "markdown",
   "id": "8d9a0997-714b-4d6b-abbb-b981d593c7f1",
   "metadata": {},
   "source": [
    "run() method:\n",
    "The run() method is typically overridden in a custom thread class that subclasses threading.Thread. It contains the code that the thread should execute when started.\n",
    "When you create a custom thread class, you define the behavior of the thread by overriding the run() method with the desired functionality.\n",
    "\n",
    "start() method:\n",
    "The start() method is used to initiate the execution of a thread by calling the run() method of the thread.\n",
    "It creates a new thread of execution, and the run() method is executed concurrently in that thread.\n",
    "Calling start() on a thread object is what actually triggers the thread's execution.\n",
    "\n",
    "join() method:\n",
    "The join() method is used to wait for a thread to complete its execution before continuing with the main program.\n",
    "It blocks the execution of the calling thread until the thread on which it's called (the target thread) finishes.\n",
    "This is often used to ensure that the main program doesn't proceed until a specific thread has completed its task.\n",
    "\n",
    "isAlive() method:\n",
    "The isAlive() method is used to check if a thread is currently running or active.\n",
    "It returns True if the thread is currently executing and has not yet finished, and False otherwise.\n",
    "This method can be helpful when you want to monitor the status of a thread and make decisions based on whether it's still active."
   ]
  },
  {
   "cell_type": "code",
   "execution_count": 12,
   "id": "2059cfca-f614-4eb1-9551-fba4bd8b671b",
   "metadata": {},
   "outputs": [
    {
     "name": "stdout",
     "output_type": "stream",
     "text": [
      "Thread is running.\n"
     ]
    }
   ],
   "source": [
    "import threading\n",
    "\n",
    "class MyThread(threading.Thread):\n",
    "    def run(self):\n",
    "        print(\"Thread is running.\")\n",
    "\n",
    "t = MyThread()\n",
    "t.start()  # This will call the overridden run() method\n"
   ]
  },
  {
   "cell_type": "code",
   "execution_count": 13,
   "id": "72211c3c-ed69-49f0-a54b-874a92b7fc1f",
   "metadata": {},
   "outputs": [
    {
     "name": "stdout",
     "output_type": "stream",
     "text": [
      "Thread is running.\n"
     ]
    }
   ],
   "source": [
    "import threading\n",
    "\n",
    "def worker():\n",
    "    print(\"Thread is running.\")\n",
    "\n",
    "t = threading.Thread(target=worker)\n",
    "t.start()  # This starts the new thread and executes the worker function\n"
   ]
  },
  {
   "cell_type": "code",
   "execution_count": 14,
   "id": "2dd16976-956f-4ea8-8c7a-49b947f905ef",
   "metadata": {},
   "outputs": [
    {
     "name": "stdout",
     "output_type": "stream",
     "text": [
      "Thread is running.\n",
      "Thread has finished.\n"
     ]
    }
   ],
   "source": [
    "import threading\n",
    "\n",
    "def worker():\n",
    "    print(\"Thread is running.\")\n",
    "\n",
    "t = threading.Thread(target=worker)\n",
    "t.start()  # Start the thread\n",
    "t.join()   # Wait for the thread to finish before continuing\n",
    "print(\"Thread has finished.\")\n"
   ]
  },
  {
   "cell_type": "code",
   "execution_count": 15,
   "id": "b00cf403-3ba0-49f2-bb3a-363f4f1547d5",
   "metadata": {},
   "outputs": [
    {
     "ename": "AttributeError",
     "evalue": "'Thread' object has no attribute 'isAlive'",
     "output_type": "error",
     "traceback": [
      "\u001b[0;31m---------------------------------------------------------------------------\u001b[0m",
      "\u001b[0;31mAttributeError\u001b[0m                            Traceback (most recent call last)",
      "Cell \u001b[0;32mIn[15], line 10\u001b[0m\n\u001b[1;32m      8\u001b[0m t \u001b[38;5;241m=\u001b[39m threading\u001b[38;5;241m.\u001b[39mThread(target\u001b[38;5;241m=\u001b[39mworker)\n\u001b[1;32m      9\u001b[0m t\u001b[38;5;241m.\u001b[39mstart()\n\u001b[0;32m---> 10\u001b[0m \u001b[38;5;28mprint\u001b[39m(\u001b[38;5;124m\"\u001b[39m\u001b[38;5;124mThread is alive:\u001b[39m\u001b[38;5;124m\"\u001b[39m, \u001b[43mt\u001b[49m\u001b[38;5;241;43m.\u001b[39;49m\u001b[43misAlive\u001b[49m())  \u001b[38;5;66;03m# Output: True\u001b[39;00m\n\u001b[1;32m     11\u001b[0m t\u001b[38;5;241m.\u001b[39mjoin()  \u001b[38;5;66;03m# Wait for the thread to finish\u001b[39;00m\n\u001b[1;32m     12\u001b[0m \u001b[38;5;28mprint\u001b[39m(\u001b[38;5;124m\"\u001b[39m\u001b[38;5;124mThread is alive:\u001b[39m\u001b[38;5;124m\"\u001b[39m, t\u001b[38;5;241m.\u001b[39misAlive())  \u001b[38;5;66;03m# Output: False\u001b[39;00m\n",
      "\u001b[0;31mAttributeError\u001b[0m: 'Thread' object has no attribute 'isAlive'"
     ]
    }
   ],
   "source": [
    "import threading\n",
    "import time\n",
    "\n",
    "def worker():\n",
    "    time.sleep(2)\n",
    "    print(\"Thread is done.\")\n",
    "\n",
    "t = threading.Thread(target=worker)\n",
    "t.start()\n",
    "print(\"Thread is alive:\", t.isAlive())  # Output: True\n",
    "t.join()  # Wait for the thread to finish\n",
    "print(\"Thread is alive:\", t.isAlive())  # Output: False\n"
   ]
  },
  {
   "cell_type": "markdown",
   "id": "7daa87c6-3baf-452d-bf5b-792c762c4d8f",
   "metadata": {},
   "source": [
    "ANSWER-4"
   ]
  },
  {
   "cell_type": "code",
   "execution_count": 16,
   "id": "d2426945-5862-4cbd-84b3-2134730773c4",
   "metadata": {},
   "outputs": [
    {
     "name": "stdout",
     "output_type": "stream",
     "text": [
      "List of squares: [1, 4, 9, 16, 25]\n",
      "List of cubes: [1, 8, 27, 64, 125]\n",
      "Both threads have finished.\n",
      "Thread is done.\n"
     ]
    }
   ],
   "source": [
    "import threading\n",
    "\n",
    "def print_squares():\n",
    "    squares = [x * x for x in range(1, 6)]\n",
    "    print(\"List of squares:\", squares)\n",
    "\n",
    "def print_cubes():\n",
    "    cubes = [x * x * x for x in range(1, 6)]\n",
    "    print(\"List of cubes:\", cubes)\n",
    "\n",
    "# Create thread objects\n",
    "t1 = threading.Thread(target=print_squares)\n",
    "t2 = threading.Thread(target=print_cubes)\n",
    "\n",
    "# Start the threads\n",
    "t1.start()\n",
    "t2.start()\n",
    "\n",
    "# Wait for both threads to finish\n",
    "t1.join()\n",
    "t2.join()\n",
    "\n",
    "print(\"Both threads have finished.\")\n"
   ]
  },
  {
   "cell_type": "markdown",
   "id": "afc3a8e6-678f-47f3-97e0-ac7dc9df6987",
   "metadata": {},
   "source": [
    "ANSWER-5"
   ]
  },
  {
   "cell_type": "markdown",
   "id": "c5827297-7375-478e-9c4b-3491272e93b4",
   "metadata": {},
   "source": [
    "Multithreading offers several advantages and disadvantages, depending on the context and the specific goals of a program. Here's a breakdown of some key advantages and disadvantages of multithreading:\n",
    "\n",
    "**Advantages of Multithreading:**\n",
    "\n",
    "1. **Concurrency and Parallelism:** Multithreading allows multiple tasks or parts of a program to run concurrently, taking full advantage of multi-core processors. This can lead to improved performance and responsiveness, especially in programs that involve I/O-bound operations.\n",
    "\n",
    "2. **Efficient Resource Utilization:** Threads share the same memory space within a process, reducing the overhead of creating new processes for each task. This efficient utilization of resources can lead to lower memory and context-switching overhead compared to using separate processes.\n",
    "\n",
    "3. **Responsive User Interfaces:** In GUI applications, multithreading can prevent the user interface from becoming unresponsive while waiting for long-running tasks to complete. User interactions can be handled in one thread while another thread handles background tasks.\n",
    "\n",
    "4. **Shared Memory:** Threads within the same process can easily share data and communicate through shared memory, which simplifies data exchange between threads. This can enhance communication and coordination between different parts of a program.\n",
    "\n",
    "5. **Cost-Efficient:** Creating and managing threads is generally less resource-intensive compared to creating and managing separate processes. This can lead to cost savings in terms of system resources and performance.\n",
    "\n",
    "**Disadvantages of Multithreading:**\n",
    "\n",
    "1. **Complexity and Debugging:** Multithreaded programs can be challenging to design, implement, and debug due to issues like race conditions, deadlocks, and synchronization problems. Debugging these issues can be particularly difficult.\n",
    "\n",
    "2. **Synchronization Overhead:** When multiple threads access shared resources, careful synchronization is required to avoid race conditions. Implementing synchronization mechanisms like locks and semaphores can introduce overhead and reduce overall performance gains.\n",
    "\n",
    "3. **GIL Limitation:** In Python, the Global Interpreter Lock (GIL) can limit the true parallelism of threads in CPU-bound tasks. Only one thread can execute Python bytecode at a time, which may reduce the benefits of multithreading in certain cases.\n",
    "\n",
    "4. **Scalability:** As the number of threads increases, the overhead of thread management and synchronization can become a bottleneck. There's a point at which adding more threads doesn't necessarily lead to improved performance due to contention and scheduling overhead.\n",
    "\n",
    "5. **Deadlocks and Race Conditions:** If not properly managed, multithreaded programs can suffer from deadlocks (where threads wait indefinitely for each other) and race conditions (where unpredictable behavior arises due to uncontrolled access to shared resources).\n",
    "\n",
    "6. **Platform Dependence:** Thread behavior and performance can vary across different operating systems and hardware architectures. This can make it challenging to write cross-platform multithreaded code that behaves consistently.\n",
    "\n"
   ]
  },
  {
   "cell_type": "markdown",
   "id": "d812a12b-cada-4e92-964c-90cf7cb67c6f",
   "metadata": {},
   "source": [
    "ANSWER-6"
   ]
  },
  {
   "cell_type": "markdown",
   "id": "417bdb73-4242-47f1-a839-ff100f5195ba",
   "metadata": {},
   "source": [
    "Deadlocks:\n",
    "A deadlock is a situation in which two or more threads are blocked indefinitely, each waiting for a resource that another thread holds. In other words, threads are stuck in a circular waiting state, unable to proceed, because they are all waiting for resources that will never be released. Deadlocks can effectively halt the progress of a program.\n",
    "\n",
    "Race Conditions:\n",
    "A race condition occurs when multiple threads access shared resources or variables simultaneously, and the final outcome depends on the timing and order of execution. Race conditions can result in unpredictable behavior and incorrect results.\n",
    "\n",
    "Race conditions are typically seen in situations where threads perform read-modify-write operations on shared variables without proper synchronization. These situations can lead to data corruption and inconsistent states."
   ]
  },
  {
   "cell_type": "code",
   "execution_count": null,
   "id": "b76b286b-5b9d-42b4-bc9b-c1131409004f",
   "metadata": {},
   "outputs": [],
   "source": []
  },
  {
   "cell_type": "code",
   "execution_count": null,
   "id": "30ce7b6e-72c1-4248-8628-e974c0cfa3bf",
   "metadata": {},
   "outputs": [],
   "source": []
  },
  {
   "cell_type": "code",
   "execution_count": null,
   "id": "fa0e94e7-aa55-460d-8843-897fd96b5586",
   "metadata": {},
   "outputs": [],
   "source": []
  },
  {
   "cell_type": "code",
   "execution_count": null,
   "id": "8939f89a-6a88-4108-bcc7-3b2a65f8aece",
   "metadata": {},
   "outputs": [],
   "source": []
  }
 ],
 "metadata": {
  "kernelspec": {
   "display_name": "Python 3 (ipykernel)",
   "language": "python",
   "name": "python3"
  },
  "language_info": {
   "codemirror_mode": {
    "name": "ipython",
    "version": 3
   },
   "file_extension": ".py",
   "mimetype": "text/x-python",
   "name": "python",
   "nbconvert_exporter": "python",
   "pygments_lexer": "ipython3",
   "version": "3.10.8"
  }
 },
 "nbformat": 4,
 "nbformat_minor": 5
}

{
 "cells": [
  {
   "cell_type": "markdown",
   "id": "ffedc36b-1937-41c5-844c-cefbc259d9f8",
   "metadata": {},
   "source": [
    "ANSWER-1"
   ]
  },
  {
   "cell_type": "code",
   "execution_count": 10,
   "id": "b5f8b6c6-ce18-438a-bddb-c3a40c6477f9",
   "metadata": {},
   "outputs": [
    {
     "name": "stdout",
     "output_type": "stream",
     "text": [
      "[1, 5]\n"
     ]
    }
   ],
   "source": [
    "def commonElements(arr1, arr2, arr3):\n",
    "    result = []\n",
    "    i, j, k = 0, 0, 0\n",
    "\n",
    "    while i < len(arr1) and j < len(arr2) and k < len(arr3):\n",
    "        if arr1[i] == arr2[j] == arr3[k]:\n",
    "            result.append(arr1[i])\n",
    "            i += 1\n",
    "            j += 1\n",
    "            k += 1\n",
    "        elif arr1[i] < arr2[j]:\n",
    "            i += 1\n",
    "        elif arr2[j] < arr3[k]:\n",
    "            j += 1\n",
    "        else:\n",
    "            k += 1\n",
    "\n",
    "    return result\n",
    "\n",
    "arr1 = [1, 2, 3, 4, 5]\n",
    "arr2 = [1, 2, 5, 7, 9]\n",
    "arr3 = [1, 3, 4, 5, 8]\n",
    "\n",
    "common = commonElements(arr1, arr2, arr3)\n",
    "print(common)\n"
   ]
  },
  {
   "cell_type": "markdown",
   "id": "506f426c-858a-48ab-8790-1b91ba559d6e",
   "metadata": {},
   "source": [
    "ANSWER-2"
   ]
  },
  {
   "cell_type": "code",
   "execution_count": 11,
   "id": "13521857-b2b8-43f5-9335-8931e9d598c8",
   "metadata": {},
   "outputs": [
    {
     "name": "stdout",
     "output_type": "stream",
     "text": [
      "[[1, 3], [4, 6]]\n"
     ]
    }
   ],
   "source": [
    "def distinctIntegers(nums1, nums2):\n",
    "    distinct_nums1 = list(set(nums1) - set(nums2))\n",
    "    distinct_nums2 = list(set(nums2) - set(nums1))\n",
    "    return [distinct_nums1, distinct_nums2]\n",
    "\n",
    "\n",
    "nums1 = [1, 2, 3]\n",
    "nums2 = [2, 4, 6]\n",
    "\n",
    "result = distinctIntegers(nums1, nums2)\n",
    "print(result)\n"
   ]
  },
  {
   "cell_type": "markdown",
   "id": "d159b372-c59c-44a8-a64c-4ac428cf8802",
   "metadata": {},
   "source": [
    "ANSWER-3"
   ]
  },
  {
   "cell_type": "code",
   "execution_count": 12,
   "id": "0e4d2cad-1fe1-44c1-bb95-f39ff1d5eaa7",
   "metadata": {},
   "outputs": [
    {
     "name": "stdout",
     "output_type": "stream",
     "text": [
      "[[1, 4, 7], [2, 5, 8], [3, 6, 9]]\n"
     ]
    }
   ],
   "source": [
    "class Solution:\n",
    "    def transpose(self, mat):\n",
    "        n = len(mat)\n",
    "        for i in range(n):\n",
    "            for j in range(i + 1, n):\n",
    "                # swap between mat[i][j] and mat[j][i]\n",
    "                temp = mat[i][j]\n",
    "                mat[i][j] = mat[j][i]\n",
    "                mat[j][i] = temp\n",
    "\n",
    "        return mat\n",
    "\n",
    "matrix = [[1, 2, 3], [4, 5, 6], [7, 8, 9]]\n",
    "\n",
    "obj = Solution()\n",
    "transposed_matrix = obj.transpose(matrix)\n",
    "print(transposed_matrix)\n"
   ]
  },
  {
   "cell_type": "markdown",
   "id": "47e180fe-11a7-4ab5-908b-489efeefab17",
   "metadata": {},
   "source": [
    "ANSWER-4"
   ]
  },
  {
   "cell_type": "code",
   "execution_count": 13,
   "id": "6c419204-7b61-4765-903f-70aaced60a6e",
   "metadata": {},
   "outputs": [
    {
     "name": "stdout",
     "output_type": "stream",
     "text": [
      "4\n"
     ]
    }
   ],
   "source": [
    "def arrayPairSum(nums):\n",
    "    nums.sort()  # Sort the array in ascending order\n",
    "    result = 0\n",
    "    for i in range(0, len(nums), 2):\n",
    "        result += min(nums[i],nums[i+1])\n",
    "    return result\n",
    "\n",
    "nums = [1, 4, 3, 2]\n",
    "maximized_sum = arrayPairSum(nums)\n",
    "print(maximized_sum)\n"
   ]
  },
  {
   "cell_type": "markdown",
   "id": "d7919903-e53c-469b-abeb-4e7f9e5a171b",
   "metadata": {},
   "source": [
    "ANSWER-5"
   ]
  },
  {
   "cell_type": "code",
   "execution_count": 14,
   "id": "69d36e44-83c2-4a56-81dc-95b9ba12e0a4",
   "metadata": {},
   "outputs": [
    {
     "name": "stdout",
     "output_type": "stream",
     "text": [
      "2\n"
     ]
    }
   ],
   "source": [
    "def arrangeCoins(n):\n",
    "    left = 0\n",
    "    right = n\n",
    "\n",
    "    while left <= right:\n",
    "        k = (left + right) // 2\n",
    "        total_coins = (k * (k + 1)) // 2\n",
    "\n",
    "        if total_coins == n:\n",
    "            return k\n",
    "        elif total_coins < n:\n",
    "            left = k + 1\n",
    "        else:\n",
    "            right = k - 1\n",
    "\n",
    "    return right\n",
    "n = 5\n",
    "result = arrangeCoins(n)\n",
    "print(result)\n"
   ]
  },
  {
   "cell_type": "markdown",
   "id": "50f076bb-6144-4e74-a23e-f14a810262b7",
   "metadata": {},
   "source": [
    "ANSWER-6"
   ]
  },
  {
   "cell_type": "code",
   "execution_count": 15,
   "id": "7c85e9d9-d28c-4572-b03e-e565c0d19b8b",
   "metadata": {},
   "outputs": [
    {
     "name": "stdout",
     "output_type": "stream",
     "text": [
      "[0, 1, 9, 16, 100]\n"
     ]
    }
   ],
   "source": [
    "def sortedSquares(nums):\n",
    "    n = len(nums)\n",
    "    result = [0] * n  # Initialize an array to store the squared values\n",
    "    left = 0  # Pointer for the leftmost element\n",
    "    right = n - 1  # Pointer for the rightmost element\n",
    "\n",
    "    for i in range(n - 1, -1, -1):\n",
    "        if abs(nums[left]) > abs(nums[right]):\n",
    "            result[i] = nums[left] ** 2\n",
    "            left += 1\n",
    "        else:\n",
    "            result[i] = nums[right] ** 2\n",
    "            right -= 1\n",
    "\n",
    "    return result\n",
    "nums = [-4, -1, 0, 3, 10]\n",
    "result = sortedSquares(nums)\n",
    "print(result)\n"
   ]
  },
  {
   "cell_type": "markdown",
   "id": "e91da4f1-c894-403f-8c5c-075a54cb037d",
   "metadata": {},
   "source": [
    "ANSWER-7"
   ]
  },
  {
   "cell_type": "code",
   "execution_count": 16,
   "id": "7d8193cf-8ccd-4ddf-89ee-b63ebc293aed",
   "metadata": {},
   "outputs": [
    {
     "name": "stdout",
     "output_type": "stream",
     "text": [
      "4\n"
     ]
    }
   ],
   "source": [
    "def maxCount(m, n, ops):\n",
    "    min_row = m\n",
    "    min_col = n\n",
    "\n",
    "    for op in ops:\n",
    "        min_row = min(min_row, op[0])\n",
    "        min_col = min(min_col, op[1])\n",
    "\n",
    "    return min_row * min_col\n",
    "m = 3\n",
    "n = 3\n",
    "ops = [[2, 2], [3, 3]]\n",
    "result = maxCount(m, n, ops)\n",
    "print(result)\n"
   ]
  },
  {
   "cell_type": "markdown",
   "id": "ee1bca0b-80a6-47f6-ab4e-c4334fbb74e4",
   "metadata": {},
   "source": [
    "ANSWER-8"
   ]
  },
  {
   "cell_type": "code",
   "execution_count": 17,
   "id": "b31d41d2-7b32-4d8c-bec7-091dea9d0cd2",
   "metadata": {},
   "outputs": [
    {
     "name": "stdout",
     "output_type": "stream",
     "text": [
      "[2, 3, 5, 4, 1, 7]\n"
     ]
    }
   ],
   "source": [
    "def shuffle(nums, n):\n",
    "    result = []\n",
    "    for i in range(n):\n",
    "        result.append(nums[i])          # Append xi\n",
    "        result.append(nums[i + n])      # Append yi\n",
    "    return result\n",
    "nums = [2, 5, 1, 3, 4, 7]\n",
    "n = 3\n",
    "result = shuffle(nums, n)\n",
    "print(result)\n"
   ]
  },
  {
   "cell_type": "code",
   "execution_count": null,
   "id": "c24c70ff-8e2f-4bda-b832-8ff2990bb953",
   "metadata": {},
   "outputs": [],
   "source": []
  },
  {
   "cell_type": "code",
   "execution_count": null,
   "id": "afd0f4a5-3e2f-4e31-bbbb-d7f00ad42dd6",
   "metadata": {},
   "outputs": [],
   "source": []
  },
  {
   "cell_type": "code",
   "execution_count": null,
   "id": "f971cc8c-bc96-4742-91b6-cb8fd5b303a7",
   "metadata": {},
   "outputs": [],
   "source": []
  },
  {
   "cell_type": "code",
   "execution_count": null,
   "id": "d430bf72-249a-4b39-960d-b9814725bae2",
   "metadata": {},
   "outputs": [],
   "source": []
  }
 ],
 "metadata": {
  "kernelspec": {
   "display_name": "Python 3 (ipykernel)",
   "language": "python",
   "name": "python3"
  },
  "language_info": {
   "codemirror_mode": {
    "name": "ipython",
    "version": 3
   },
   "file_extension": ".py",
   "mimetype": "text/x-python",
   "name": "python",
   "nbconvert_exporter": "python",
   "pygments_lexer": "ipython3",
   "version": "3.10.8"
  }
 },
 "nbformat": 4,
 "nbformat_minor": 5
}

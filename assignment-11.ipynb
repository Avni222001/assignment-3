{
 "cells": [
  {
   "cell_type": "markdown",
   "id": "441716f7-76d9-4f35-89e0-bfe80577ea4f",
   "metadata": {},
   "source": [
    "ANSWER-1"
   ]
  },
  {
   "cell_type": "markdown",
   "id": "fa02eb2f-6c0b-4f8d-86d1-266e0cc48b8f",
   "metadata": {},
   "source": [
    "In Python, the  \"open()\" function is used to open a file. It is a built-in function that takes two parameters: the file path or name, and the mode in which the file should be opened. The basic syntax for opening a file is as follows:\n",
    "\n",
    "\n",
    "\n",
    "Here, \"file_object\" is the variable that will hold the file object, \"file_path\" is the path to the file (including the file name and extension), and \"mode\" is a string specifying the mode in which the file should be opened.\n",
    "\n",
    "The different modes for opening a file in Python are:\n",
    "\n",
    "1. **\"r\"** - Read mode: This is the default mode. It opens the file for reading. If the file does not exist, it raises a FileNotFoundError.\n",
    "\n",
    "2. **\"w\"** - Write mode: It opens the file for writing. If the file does not exist, it creates a new file. If the file already exists, it truncates the file to zero length (erasing the contents) before writing. If successful, it returns a file object.\n",
    "\n",
    "3. **\"a\"** - Append mode: It opens the file for appending. If the file does not exist, it creates a new file. If the file already exists, it appends the new data to the end of the file. If successful, it returns a file object.\n",
    "\n",
    "4. **\"x\"** - Exclusive creation mode: It opens the file for exclusive creation, failing if the file already exists. If the file does not exist, it creates a new file. If successful, it returns a file object.\n",
    "\n",
    "5. **\"b\"** - Binary mode: It opens the file in binary mode, which is used for non-text files such as images, audio, video, etc. It can be added to any of the above modes, such as \"rb\", \"wb\", \"ab\", or \"xb\", to specify binary mode.\n",
    "\n",
    "6. **\"t\"** - Text mode: It opens the file in text mode, which is the default mode. Text mode is used for reading or writing text files. It can be added to any of the above modes, such as \"rt\", \"wt\", \"at\", or \"xt\", to specify text mode.\n",
    "\n",
    "7. **\"+\"** - Update mode: It opens the file for both reading and writing. It can be added to any of the above modes, such as \"r+\", \"w+\", \"a+\", or \"x+\", to enable read and write operations.\n",
    "\n",
    "It's important to note that the \"open()\" function returns a file object, which should be closed using the \"close()\" method when you're done working with the file. "
   ]
  },
  {
   "cell_type": "code",
   "execution_count": 21,
   "id": "70d7c9f4-0781-4b7d-b029-1e91df9eebbf",
   "metadata": {},
   "outputs": [],
   "source": [
    "f=open(\"hiii.txt\",\"w\")"
   ]
  },
  {
   "cell_type": "markdown",
   "id": "93df88f1-a886-4cc3-affe-eb7f79565ddb",
   "metadata": {},
   "source": [
    "ANSWER-2"
   ]
  },
  {
   "cell_type": "markdown",
   "id": "e8528110-5744-4f78-8168-aae859d36aae",
   "metadata": {},
   "source": [
    "The \"close()\" function in Python is used to close an open file. It is important to close a file after you have finished working with it for several reasons:\n",
    "\n",
    "1. **Resource management**: When you open a file, the operating system allocates certain resources to maintain the connection between your program and the file. These resources are limited, and if you keep a large number of files open without closing them, you may run out of available resources. Closing the file releases these resources and ensures efficient resource management.\n",
    "\n",
    "2. **Data integrity**: When you write or modify a file, the changes are typically stored in a buffer before being written to the disk. By calling the \"close()\" function, you ensure that any remaining data in the buffer is written to the file before it is closed. If you don't close the file properly, there is a risk that some data may not be written, leading to data loss or corruption.\n",
    "\n",
    "3. **Availability**: When a file is opened, it may be locked by the operating system or other programs, preventing other processes from accessing it. By closing the file, you release the lock, making the file available for other operations or programs that may need to access it.\n",
    "\n",
    "\n",
    "\n"
   ]
  },
  {
   "cell_type": "code",
   "execution_count": 22,
   "id": "5e1c626a-a264-40d1-a37c-7b4df10df464",
   "metadata": {},
   "outputs": [],
   "source": [
    "f.close()"
   ]
  },
  {
   "cell_type": "markdown",
   "id": "812ab89e-045b-45e2-b5d7-45bea9b47159",
   "metadata": {},
   "source": [
    "ANSWER-3"
   ]
  },
  {
   "cell_type": "code",
   "execution_count": 23,
   "id": "403762ae-9e6f-47b5-a2c1-b4badb92be4a",
   "metadata": {},
   "outputs": [
    {
     "name": "stdout",
     "output_type": "stream",
     "text": [
      "I want to become a Data Scientist\n"
     ]
    }
   ],
   "source": [
    "f=open(\"assign.txt\",\"w\")\n",
    "f.write(\"I want to become a Data Scientist\")\n",
    "\n",
    "f=open(\"assign.txt\",\"r\")\n",
    "print(f.read())\n",
    "f.close()"
   ]
  },
  {
   "cell_type": "markdown",
   "id": "8f6f7d7c-ae35-4a73-8c30-9738bd3ba426",
   "metadata": {},
   "source": [
    "ANSWER-4"
   ]
  },
  {
   "cell_type": "markdown",
   "id": "f7562f82-21e7-4d47-8623-672a8ee10834",
   "metadata": {},
   "source": [
    "read():\n",
    "The read() method is used to read the entire contents of a file as a string. It reads and returns the specified number of characters from the file, or if no argument is provided, it reads the entire file.\n",
    "\n",
    "readline():\n",
    "The readline() method is used to read a single line from a file. It reads characters from the file until it reaches a newline character ('\\n') or the end of the file.\n",
    "\n",
    "readlines():\n",
    "The readlines() method is used to read all the lines of a file and return them as a list of strings. Each element of the list represents a line from the file."
   ]
  },
  {
   "cell_type": "code",
   "execution_count": 24,
   "id": "7ea28377-cc96-4b88-bc28-29ee33ba0fb5",
   "metadata": {},
   "outputs": [
    {
     "name": "stdout",
     "output_type": "stream",
     "text": [
      "Data Science Masters course is highly curated and uniquely designed according to the latest industry standards. This program instills students the skills essential to knowledge discovery efforts to identify standard, novel, and truly differentiated solutions and decision-making, including skills in managing, querying, analyzing, visualizing, and extracting meaning from extremely large data sets. This trending program provides students with the statistical, mathematical and computational skills needed to meet the large-scale data science challenges of today's professional world. You will learn all the stack required to work in data science industry including cloud infrastructure and real-time industry projects. This course will be taught in Hindi language.\n"
     ]
    }
   ],
   "source": [
    "file_object=open(\"example.txt\",'w')\n",
    "file_object.write(\"Data Science Masters course is highly curated and uniquely designed according to the latest industry standards. This program instills students the skills essential to knowledge discovery efforts to identify standard, novel, and truly differentiated solutions and decision-making, including skills in managing, querying, analyzing, visualizing, and extracting meaning from extremely large data sets. This trending program provides students with the statistical, mathematical and computational skills needed to meet the large-scale data science challenges of today's professional world. You will learn all the stack required to work in data science industry including cloud infrastructure and real-time industry projects. This course will be taught in Hindi language.\")\n",
    "file_object = open(\"example.txt\", \"r\")\n",
    "\n",
    "file_content = file_object.read()\n",
    "\n",
    "print(file_content)\n",
    "\n",
    "file_object.close()"
   ]
  },
  {
   "cell_type": "code",
   "execution_count": 25,
   "id": "8fc468bf-a174-49f1-91a4-99a3137d1f04",
   "metadata": {},
   "outputs": [
    {
     "name": "stdout",
     "output_type": "stream",
     "text": [
      "Data Science Masters course is highly curated and uniquely designed according to the latest industry standards. This program instills students the skills essential to knowledge discovery efforts to identify standard, novel, and truly differentiated solutions and decision-making, including skills in managing, querying, analyzing, visualizing, and extracting meaning from extremely large data sets. This trending program provides students with the statistical, mathematical and computational skills needed to meet the large-scale data science challenges of today's professional world. You will learn all the stack required to work in data science industry including cloud infrastructure and real-time industry projects. This course will be taught in Hindi language.\n",
      "\n"
     ]
    }
   ],
   "source": [
    "\n",
    "file_path = \"example.txt\"\n",
    "file_object = open(file_path, \"r\")\n",
    "\n",
    "line1 = file_object.readline()\n",
    "print(line1)\n",
    "\n",
    "line2 = file_object.readline()\n",
    "print(line2)\n",
    "\n",
    "file_object.close()\n"
   ]
  },
  {
   "cell_type": "code",
   "execution_count": 26,
   "id": "7c37c3d2-d002-46e6-a4f5-a2f3038e719d",
   "metadata": {},
   "outputs": [
    {
     "name": "stdout",
     "output_type": "stream",
     "text": [
      "Data Science Masters course is highly curated and uniquely designed according to the latest industry standards. This program instills students the skills essential to knowledge discovery efforts to identify standard, novel, and truly differentiated solutions and decision-making, including skills in managing, querying, analyzing, visualizing, and extracting meaning from extremely large data sets. This trending program provides students with the statistical, mathematical and computational skills needed to meet the large-scale data science challenges of today's professional world. You will learn all the stack required to work in data science industry including cloud infrastructure and real-time industry projects. This course will be taught in Hindi language.\n"
     ]
    }
   ],
   "source": [
    "\n",
    "file_path = \"example.txt\"\n",
    "file_object = open(file_path, \"r\")\n",
    "\n",
    "lines = file_object.readlines()\n",
    "\n",
    "for line in lines:\n",
    "    print(line)\n",
    "\n",
    "file_object.close()\n"
   ]
  },
  {
   "cell_type": "markdown",
   "id": "8420e48c-5948-40b7-8a0e-1eb920447895",
   "metadata": {},
   "source": [
    "ANSWER-5"
   ]
  },
  {
   "cell_type": "markdown",
   "id": "7532457f-c0e8-48f3-a660-b3ace8e803e4",
   "metadata": {},
   "source": [
    "The with statement in Python is used in conjunction with the open() function to provide better resource management and automatic handling of file operations. When used together, the with statement and open() function offer several advantages:\n",
    "\n",
    "Automatic resource cleanup: The with statement automatically takes care of closing the file after you are done working with it. This ensures that system resources associated with the file, such as memory buffers or locks, are properly released, regardless of whether an exception occurs or not. It eliminates the need for explicitly calling the close() method, reducing the chances of resource leaks.\n",
    "\n",
    "Cleaner and more readable code: By using the with statement, you can encapsulate the file operations within a block, clearly indicating the scope of file usage. This makes the code more readable and maintainable, as it eliminates the need for explicit opening and closing of the file in separate statements.\n",
    "\n",
    "Error handling: The with statement automatically handles any exceptions that may occur within the block of code, including file-related errors. If an exception occurs, the file is still properly closed, preventing any potential issues with resource management. It simplifies error handling and ensures that the file is closed correctly, even in exceptional cases."
   ]
  },
  {
   "cell_type": "code",
   "execution_count": 27,
   "id": "125231ea-2659-4a5c-a844-f95a7f67e952",
   "metadata": {},
   "outputs": [
    {
     "name": "stdout",
     "output_type": "stream",
     "text": [
      "Data Science Masters course is highly curated and uniquely designed according to the latest industry standards. This program instills students the skills essential to knowledge discovery efforts to identify standard, novel, and truly differentiated solutions and decision-making, including skills in managing, querying, analyzing, visualizing, and extracting meaning from extremely large data sets. This trending program provides students with the statistical, mathematical and computational skills needed to meet the large-scale data science challenges of today's professional world. You will learn all the stack required to work in data science industry including cloud infrastructure and real-time industry projects. This course will be taught in Hindi language.\n"
     ]
    }
   ],
   "source": [
    "file_path = \"example.txt\"\n",
    "with open(file_path, \"r\") as file_object:\n",
    "    file_content = file_object.read()\n",
    "    print(file_content)"
   ]
  },
  {
   "cell_type": "markdown",
   "id": "5205de71-07eb-47b0-9a95-a596310c904c",
   "metadata": {},
   "source": [
    "ANSWER-6"
   ]
  },
  {
   "cell_type": "markdown",
   "id": "d17b72eb-5583-4fde-9b7c-7a98dc7bfd5b",
   "metadata": {},
   "source": [
    "write():\n",
    "The write() method is used to write a string of characters to a file. It takes a string as an argument and appends it to the end of the file.\n",
    "\n",
    "writelines():\n",
    "The writelines() method is used to write a list of strings to a file. Each string in the list represents a line, and the lines are written sequentially to the file.\n"
   ]
  },
  {
   "cell_type": "code",
   "execution_count": 28,
   "id": "04525262-0d0f-42cb-88f7-83e804528405",
   "metadata": {},
   "outputs": [],
   "source": [
    "\n",
    "file_path = \"example.txt\"\n",
    "file_object = open(file_path, \"w\")\n",
    "\n",
    "\n",
    "file_object.write(\"Hello, world!\")\n",
    "\n",
    "\n",
    "file_object.close()\n"
   ]
  },
  {
   "cell_type": "code",
   "execution_count": 29,
   "id": "b03da1fa-03cc-48a9-9f9d-c7995e94eb36",
   "metadata": {},
   "outputs": [],
   "source": [
    "\n",
    "file_path = \"example.txt\"\n",
    "file_object = open(file_path, \"w\")\n",
    "\n",
    "\n",
    "lines = [\"Line 1\\n\", \"Line 2\\n\", \"Line 3\\n\"]\n",
    "\n",
    "file_object.writelines(lines)\n",
    "\n",
    "file_object.close()\n"
   ]
  },
  {
   "cell_type": "code",
   "execution_count": null,
   "id": "0e4c8868-c030-44ad-88db-92e34fc93a2b",
   "metadata": {},
   "outputs": [],
   "source": []
  },
  {
   "cell_type": "code",
   "execution_count": null,
   "id": "82314562-8df5-41ff-81c3-81b38d518f87",
   "metadata": {},
   "outputs": [],
   "source": []
  },
  {
   "cell_type": "code",
   "execution_count": null,
   "id": "2de7cda8-1664-431f-a7a3-4fd73d1587d5",
   "metadata": {},
   "outputs": [],
   "source": []
  },
  {
   "cell_type": "code",
   "execution_count": null,
   "id": "0400373f-6b6d-44dd-b79b-2dac5d64f2bb",
   "metadata": {},
   "outputs": [],
   "source": []
  }
 ],
 "metadata": {
  "kernelspec": {
   "display_name": "Python 3 (ipykernel)",
   "language": "python",
   "name": "python3"
  },
  "language_info": {
   "codemirror_mode": {
    "name": "ipython",
    "version": 3
   },
   "file_extension": ".py",
   "mimetype": "text/x-python",
   "name": "python",
   "nbconvert_exporter": "python",
   "pygments_lexer": "ipython3",
   "version": "3.10.8"
  }
 },
 "nbformat": 4,
 "nbformat_minor": 5
}

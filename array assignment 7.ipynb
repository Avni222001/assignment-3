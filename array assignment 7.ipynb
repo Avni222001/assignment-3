{
 "cells": [
  {
   "cell_type": "markdown",
   "id": "03825b75-5a6e-4d4d-8ffd-22afcc165ec2",
   "metadata": {},
   "source": [
    "ANSWER-1"
   ]
  },
  {
   "cell_type": "code",
   "execution_count": 1,
   "id": "6a6174b0-651f-4e90-ba88-9b1ce6cc5f5f",
   "metadata": {},
   "outputs": [
    {
     "name": "stdout",
     "output_type": "stream",
     "text": [
      "True\n"
     ]
    }
   ],
   "source": [
    "def isIsomorphic(s, t):\n",
    "    if len(s) != len(t):\n",
    "        return False\n",
    "\n",
    "    s_to_t = {}  # Mapping from s to t\n",
    "    t_to_s = {}  # Mapping from t to s\n",
    "\n",
    "    for i in range(len(s)):\n",
    "        char_s, char_t = s[i], t[i]\n",
    "\n",
    "        if char_s in s_to_t and s_to_t[char_s] != char_t:\n",
    "            return False\n",
    "        if char_t in t_to_s and t_to_s[char_t] != char_s:\n",
    "            return False\n",
    "\n",
    "        s_to_t[char_s] = char_t\n",
    "        t_to_s[char_t] = char_s\n",
    "\n",
    "    return True\n",
    "s = \"egg\"\n",
    "t = \"add\"\n",
    "print(isIsomorphic(s, t))\n"
   ]
  },
  {
   "cell_type": "markdown",
   "id": "0123f851-7343-4132-a31b-a9c4510fdb21",
   "metadata": {},
   "source": [
    "ANSWER-2"
   ]
  },
  {
   "cell_type": "code",
   "execution_count": 2,
   "id": "1e0a899b-a8b9-4669-87d2-8254beb4d213",
   "metadata": {},
   "outputs": [
    {
     "name": "stdout",
     "output_type": "stream",
     "text": [
      "True\n"
     ]
    }
   ],
   "source": [
    "def isStrobogrammatic(num):\n",
    "    strob_pairs = {'0': '0', '1': '1', '6': '9', '8': '8', '9': '6'}\n",
    "    left, right = 0, len(num) - 1\n",
    "\n",
    "    while left <= right:\n",
    "        if num[left] not in strob_pairs or num[right] != strob_pairs[num[left]]:\n",
    "            return False\n",
    "        left += 1\n",
    "        right -= 1\n",
    "\n",
    "    return True\n",
    "num = \"69\"\n",
    "print(isStrobogrammatic(num))\n"
   ]
  },
  {
   "cell_type": "markdown",
   "id": "f9abb2e9-4688-48f4-9895-b5b405692716",
   "metadata": {},
   "source": [
    "ANSWER-3"
   ]
  },
  {
   "cell_type": "code",
   "execution_count": 3,
   "id": "f2e98329-a724-4ee9-ba50-304c986fd4b0",
   "metadata": {},
   "outputs": [
    {
     "name": "stdout",
     "output_type": "stream",
     "text": [
      "134\n"
     ]
    }
   ],
   "source": [
    "def addStrings(num1, num2):\n",
    "    carry = 0\n",
    "    result = []\n",
    "    i, j = len(num1) - 1, len(num2) - 1\n",
    "\n",
    "    while i >= 0 or j >= 0 or carry:\n",
    "        digit1 = int(num1[i]) if i >= 0 else 0\n",
    "        digit2 = int(num2[j]) if j >= 0 else 0\n",
    "\n",
    "        current_sum = digit1 + digit2 + carry\n",
    "        carry = current_sum // 10\n",
    "        digit = current_sum % 10\n",
    "\n",
    "        result.append(str(digit))\n",
    "\n",
    "        i -= 1\n",
    "        j -= 1\n",
    "\n",
    "    return ''.join(result[::-1])\n",
    "num1 = \"11\"\n",
    "num2 = \"123\"\n",
    "print(addStrings(num1, num2))\n"
   ]
  },
  {
   "cell_type": "markdown",
   "id": "5f9af1b8-2ed8-467a-9737-2353c3c4e9db",
   "metadata": {},
   "source": [
    "ANSWER-4"
   ]
  },
  {
   "cell_type": "code",
   "execution_count": 4,
   "id": "39b9b372-3e58-4c3b-bf78-c1bd9caed5f7",
   "metadata": {},
   "outputs": [
    {
     "name": "stdout",
     "output_type": "stream",
     "text": [
      "s'teL ekat edoCteeL tsetnoc\n"
     ]
    }
   ],
   "source": [
    "def reverseWords(s):\n",
    "    words = s.split()  # Split the sentence into words\n",
    "    reversed_words = [word[::-1] for word in words]  # Reverse each word\n",
    "    reversed_sentence = ' '.join(reversed_words)  # Join the reversed words back into a sentence\n",
    "    return reversed_sentence\n",
    "s = \"Let's take LeetCode contest\"\n",
    "print(reverseWords(s))\n"
   ]
  },
  {
   "cell_type": "markdown",
   "id": "5a0c521c-e024-4458-9157-29333fae0e88",
   "metadata": {},
   "source": [
    "ANSWER-5"
   ]
  },
  {
   "cell_type": "code",
   "execution_count": 5,
   "id": "83192822-bc1d-434b-bda3-f9c57c2cd940",
   "metadata": {},
   "outputs": [
    {
     "name": "stdout",
     "output_type": "stream",
     "text": [
      "bacdfeg\n"
     ]
    }
   ],
   "source": [
    "def reverseStr(s, k):\n",
    "    n = len(s)\n",
    "    result = list(s)\n",
    "\n",
    "    for i in range(0, n, 2 * k):\n",
    "        left = i\n",
    "        right = min(i + k - 1, n - 1)  # Index of the last character to reverse\n",
    "\n",
    "        while left < right:\n",
    "            result[left], result[right] = result[right], result[left]\n",
    "            left += 1\n",
    "            right -= 1\n",
    "\n",
    "    return ''.join(result)\n",
    "s = \"abcdefg\"\n",
    "k = 2\n",
    "print(reverseStr(s, k))\n"
   ]
  },
  {
   "cell_type": "markdown",
   "id": "c3c80986-2ff6-4107-8dbf-5e50979753c5",
   "metadata": {},
   "source": [
    "ANSWER-6"
   ]
  },
  {
   "cell_type": "code",
   "execution_count": 6,
   "id": "c6cd37fc-d645-46aa-bba9-89f10fb81b15",
   "metadata": {},
   "outputs": [
    {
     "name": "stdout",
     "output_type": "stream",
     "text": [
      "True\n"
     ]
    }
   ],
   "source": [
    "def rotateString(s, goal):\n",
    "    return len(s) == len(goal) and goal in s + s\n",
    "s = \"abcde\"\n",
    "goal = \"cdeab\"\n",
    "print(rotateString(s, goal))\n"
   ]
  },
  {
   "cell_type": "markdown",
   "id": "3a220d31-6d4d-40c0-9916-5a46c5306e1c",
   "metadata": {},
   "source": [
    "ANSWER-7"
   ]
  },
  {
   "cell_type": "code",
   "execution_count": 7,
   "id": "128f04dc-1e2b-4658-aab0-72100e7acc39",
   "metadata": {},
   "outputs": [
    {
     "name": "stdout",
     "output_type": "stream",
     "text": [
      "True\n"
     ]
    }
   ],
   "source": [
    "def processString(s):\n",
    "    result = []\n",
    "    for char in s:\n",
    "        if char != '#':\n",
    "            result.append(char)\n",
    "        elif result:\n",
    "            result.pop()\n",
    "    return ''.join(result)\n",
    "\n",
    "def backspaceCompare(s, t):\n",
    "    return processString(s) == processString(t)\n",
    "s = \"ab#c\"\n",
    "t = \"ad#c\"\n",
    "print(backspaceCompare(s, t))\n"
   ]
  },
  {
   "cell_type": "markdown",
   "id": "c9ba7c82-965c-4fff-9d96-629ca783c577",
   "metadata": {},
   "source": [
    "ANSWER-8"
   ]
  },
  {
   "cell_type": "code",
   "execution_count": 8,
   "id": "15a0c6bb-eed1-4e77-a35b-3cd0b1dda705",
   "metadata": {},
   "outputs": [
    {
     "name": "stdout",
     "output_type": "stream",
     "text": [
      "True\n"
     ]
    }
   ],
   "source": [
    "def checkStraightLine(coordinates):\n",
    "    x0, y0 = coordinates[0]\n",
    "    x1, y1 = coordinates[1]\n",
    "\n",
    "    for i in range(2, len(coordinates)):\n",
    "        x, y = coordinates[i]\n",
    "        if (y1 - y0) * (x - x0) != (y - y0) * (x1 - x0):\n",
    "            return False\n",
    "\n",
    "    return True\n",
    "coordinates = [[1, 2], [2, 3], [3, 4], [4, 5], [5, 6], [6, 7]]\n",
    "print(checkStraightLine(coordinates))\n"
   ]
  },
  {
   "cell_type": "code",
   "execution_count": null,
   "id": "5d66ebd2-934f-4298-a433-0784e1ba1806",
   "metadata": {},
   "outputs": [],
   "source": []
  }
 ],
 "metadata": {
  "kernelspec": {
   "display_name": "Python 3 (ipykernel)",
   "language": "python",
   "name": "python3"
  },
  "language_info": {
   "codemirror_mode": {
    "name": "ipython",
    "version": 3
   },
   "file_extension": ".py",
   "mimetype": "text/x-python",
   "name": "python",
   "nbconvert_exporter": "python",
   "pygments_lexer": "ipython3",
   "version": "3.10.8"
  }
 },
 "nbformat": 4,
 "nbformat_minor": 5
}

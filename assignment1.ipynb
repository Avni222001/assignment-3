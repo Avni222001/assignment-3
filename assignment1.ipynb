{
 "cells": [
  {
   "cell_type": "markdown",
   "id": "64698681-15bb-464f-abcd-890487028122",
   "metadata": {},
   "source": [
    "ANSWER-1"
   ]
  },
  {
   "cell_type": "markdown",
   "id": "c30535aa-b0ea-4105-b235-633acf1f3870",
   "metadata": {},
   "source": [
    "For loop: Used to iterate over a sequence of elements, such as a list, string, or dictionary.\n",
    "Executes a block of code a fixed number of times, based on the length of the sequence.\n",
    "While loop: Used to repeat a block of code until a certain condition is met.\n",
    "Executes a block of code as long as a condition is True."
   ]
  },
  {
   "cell_type": "code",
   "execution_count": 18,
   "id": "05c757ac-0209-45fc-811b-2e9300ff67c0",
   "metadata": {},
   "outputs": [
    {
     "name": "stdout",
     "output_type": "stream",
     "text": [
      "Sum: 15\n"
     ]
    }
   ],
   "source": [
    "#for loop example\n",
    "numbers = [1, 2, 3, 4, 5]\n",
    "sum = 0\n",
    "for num in numbers:\n",
    "    sum += num\n",
    "print(\"Sum:\", sum)"
   ]
  },
  {
   "cell_type": "code",
   "execution_count": 19,
   "id": "621aca31-8196-49a4-89bf-064e95c58543",
   "metadata": {},
   "outputs": [
    {
     "name": "stdout",
     "output_type": "stream",
     "text": [
      "1\n",
      "2\n",
      "3\n",
      "4\n",
      "5\n"
     ]
    }
   ],
   "source": [
    "#while loop example\n",
    "num = 1\n",
    "while num <= 5:\n",
    "    print(num)\n",
    "    num += 1"
   ]
  },
  {
   "cell_type": "markdown",
   "id": "63259641-23d9-419a-a0b0-9122a31f0fed",
   "metadata": {},
   "source": [
    "ANSWER-2"
   ]
  },
  {
   "cell_type": "code",
   "execution_count": 3,
   "id": "ad5cfb95-0f30-4746-9921-18cb01850d68",
   "metadata": {},
   "outputs": [],
   "source": [
    "l4=[1,2,3,4,5,6,7,8,9,10]"
   ]
  },
  {
   "cell_type": "code",
   "execution_count": 4,
   "id": "499eb4ae-0f89-48f1-b104-f5f634d02875",
   "metadata": {},
   "outputs": [
    {
     "data": {
      "text/plain": [
       "55"
      ]
     },
     "execution_count": 4,
     "metadata": {},
     "output_type": "execute_result"
    }
   ],
   "source": [
    "l5=0\n",
    "for i in l4:\n",
    "    l5=l5+i\n",
    "l5"
   ]
  },
  {
   "cell_type": "code",
   "execution_count": 5,
   "id": "69459922-eda3-48d4-abcc-9ccd7fe9a732",
   "metadata": {},
   "outputs": [
    {
     "data": {
      "text/plain": [
       "3628800"
      ]
     },
     "execution_count": 5,
     "metadata": {},
     "output_type": "execute_result"
    }
   ],
   "source": [
    "l5=1\n",
    "for i in l4:\n",
    "    l5=l5*i\n",
    "l5"
   ]
  },
  {
   "cell_type": "code",
   "execution_count": 6,
   "id": "ea6464bb-dd41-426e-b379-c1125604bec7",
   "metadata": {},
   "outputs": [
    {
     "name": "stdout",
     "output_type": "stream",
     "text": [
      "55\n"
     ]
    }
   ],
   "source": [
    "num=10\n",
    "sum=0\n",
    "while num>0:\n",
    "    sum+=num\n",
    "    num-=1\n",
    "print(sum)"
   ]
  },
  {
   "cell_type": "code",
   "execution_count": 7,
   "id": "43aea875-bc6c-43d3-90fe-5194a6d56dfe",
   "metadata": {},
   "outputs": [
    {
     "name": "stdout",
     "output_type": "stream",
     "text": [
      "3628800\n"
     ]
    }
   ],
   "source": [
    "num=10\n",
    "sum=1\n",
    "while num>0:\n",
    "    sum*=num\n",
    "    num-=1\n",
    "print(sum)"
   ]
  },
  {
   "cell_type": "markdown",
   "id": "ff01318c-b9b6-42ba-9781-23c00b8955ec",
   "metadata": {},
   "source": [
    "ANSWER-3"
   ]
  },
  {
   "cell_type": "code",
   "execution_count": 20,
   "id": "8a28bb62-b321-4e5c-9571-140573a5aafb",
   "metadata": {},
   "outputs": [
    {
     "name": "stdin",
     "output_type": "stream",
     "text": [
      "enter units 310\n"
     ]
    },
    {
     "name": "stdout",
     "output_type": "stream",
     "text": [
      "the total bill is: 2250.0\n"
     ]
    }
   ],
   "source": [
    "units=int(input(\"enter units\"))\n",
    "user=0\n",
    "if units<= 100:\n",
    "    user= 4.5*units\n",
    "if units<= 200:\n",
    "    user= 6*(units-100)+4.5*units\n",
    "if units<= 300:\n",
    "    user= 10*(units-200)+4.5*100+6*100\n",
    "if units>=300:\n",
    "    user= 20*(units-300)+4.5*100+6*100+10*100\n",
    "print(\"the total bill is:\",user)"
   ]
  },
  {
   "cell_type": "markdown",
   "id": "d5d8e2f7-2994-4693-9e4d-09a395f9e2d6",
   "metadata": {},
   "source": [
    "ANSWER-4"
   ]
  },
  {
   "cell_type": "code",
   "execution_count": 8,
   "id": "c29074a4-8396-4df3-9078-57fe2ea451b0",
   "metadata": {},
   "outputs": [],
   "source": [
    "l1=list(range(0,101,1))"
   ]
  },
  {
   "cell_type": "code",
   "execution_count": 9,
   "id": "24335e6f-4210-4406-9d2d-90b8e1b6094d",
   "metadata": {},
   "outputs": [
    {
     "data": {
      "text/plain": [
       "[0,\n",
       " 8,\n",
       " 64,\n",
       " 125,\n",
       " 216,\n",
       " 512,\n",
       " 1000,\n",
       " 1728,\n",
       " 2744,\n",
       " 3375,\n",
       " 4096,\n",
       " 5832,\n",
       " 8000,\n",
       " 10648,\n",
       " 13824,\n",
       " 15625,\n",
       " 17576,\n",
       " 21952,\n",
       " 27000,\n",
       " 32768,\n",
       " 39304,\n",
       " 42875,\n",
       " 46656,\n",
       " 54872,\n",
       " 64000,\n",
       " 74088,\n",
       " 85184,\n",
       " 91125,\n",
       " 97336,\n",
       " 110592,\n",
       " 125000,\n",
       " 140608,\n",
       " 157464,\n",
       " 166375,\n",
       " 175616,\n",
       " 195112,\n",
       " 216000,\n",
       " 238328,\n",
       " 262144,\n",
       " 274625,\n",
       " 287496,\n",
       " 314432,\n",
       " 343000,\n",
       " 373248,\n",
       " 405224,\n",
       " 421875,\n",
       " 438976,\n",
       " 474552,\n",
       " 512000,\n",
       " 551368,\n",
       " 592704,\n",
       " 614125,\n",
       " 636056,\n",
       " 681472,\n",
       " 729000,\n",
       " 778688,\n",
       " 830584,\n",
       " 857375,\n",
       " 884736,\n",
       " 941192,\n",
       " 1000000]"
      ]
     },
     "execution_count": 9,
     "metadata": {},
     "output_type": "execute_result"
    }
   ],
   "source": [
    "c=1\n",
    "l=[]\n",
    "for i in l1:\n",
    "    c=i**3\n",
    "    if c %4==0  or c%5==0 :\n",
    "        l.append(c)\n",
    "l\n",
    "        "
   ]
  },
  {
   "cell_type": "code",
   "execution_count": 10,
   "id": "f734ea69-639d-47bf-b565-7430d64a1f3b",
   "metadata": {},
   "outputs": [
    {
     "data": {
      "text/plain": [
       "[0,\n",
       " 8,\n",
       " 64,\n",
       " 125,\n",
       " 216,\n",
       " 512,\n",
       " 1000,\n",
       " 1728,\n",
       " 2744,\n",
       " 3375,\n",
       " 4096,\n",
       " 5832,\n",
       " 8000,\n",
       " 10648,\n",
       " 13824,\n",
       " 15625,\n",
       " 17576,\n",
       " 21952,\n",
       " 27000,\n",
       " 32768,\n",
       " 39304,\n",
       " 42875,\n",
       " 46656,\n",
       " 54872,\n",
       " 64000,\n",
       " 74088,\n",
       " 85184,\n",
       " 91125,\n",
       " 97336,\n",
       " 110592,\n",
       " 125000,\n",
       " 140608,\n",
       " 157464,\n",
       " 166375,\n",
       " 175616,\n",
       " 195112,\n",
       " 216000,\n",
       " 238328,\n",
       " 262144,\n",
       " 274625,\n",
       " 287496,\n",
       " 314432,\n",
       " 343000,\n",
       " 373248,\n",
       " 405224,\n",
       " 421875,\n",
       " 438976,\n",
       " 474552,\n",
       " 512000,\n",
       " 551368,\n",
       " 592704,\n",
       " 614125,\n",
       " 636056,\n",
       " 681472,\n",
       " 729000,\n",
       " 778688,\n",
       " 830584,\n",
       " 857375,\n",
       " 884736,\n",
       " 941192,\n",
       " 1000000]"
      ]
     },
     "execution_count": 10,
     "metadata": {},
     "output_type": "execute_result"
    }
   ],
   "source": [
    "c=1\n",
    "l=[]\n",
    "i=0\n",
    "while(i< len(l1)):\n",
    "    c=i**3\n",
    "    if c %4==0  or c%5==0 :\n",
    "        l.append(c)\n",
    "    i+=1\n",
    "l"
   ]
  },
  {
   "cell_type": "code",
   "execution_count": 25,
   "id": "8dfb6dd8-0278-4770-bcdb-1f84f4ab767b",
   "metadata": {},
   "outputs": [
    {
     "name": "stdout",
     "output_type": "stream",
     "text": [
      "12\n"
     ]
    }
   ],
   "source": [
    "s = \"I want to become a data scientist\"\n",
    "s=s.lower()\n",
    "c=0\n",
    "v=['a','e','i','o','u']\n",
    "for i in s:\n",
    "    if i in v:\n",
    "        c+=1\n",
    "print(c)"
   ]
  },
  {
   "cell_type": "code",
   "execution_count": null,
   "id": "611ba5ae-0f10-4db8-a702-deb25c386164",
   "metadata": {},
   "outputs": [],
   "source": []
  }
 ],
 "metadata": {
  "kernelspec": {
   "display_name": "Python 3 (ipykernel)",
   "language": "python",
   "name": "python3"
  },
  "language_info": {
   "codemirror_mode": {
    "name": "ipython",
    "version": 3
   },
   "file_extension": ".py",
   "mimetype": "text/x-python",
   "name": "python",
   "nbconvert_exporter": "python",
   "pygments_lexer": "ipython3",
   "version": "3.10.8"
  }
 },
 "nbformat": 4,
 "nbformat_minor": 5
}

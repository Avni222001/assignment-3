{
 "cells": [
  {
   "cell_type": "markdown",
   "id": "5a98b6ff-186e-4bc7-84c4-c5719b3b49ae",
   "metadata": {},
   "source": [
    "ANSWER-1"
   ]
  },
  {
   "cell_type": "code",
   "execution_count": 37,
   "id": "93517a99-29c5-41b6-a9e0-d5f5e8634ad1",
   "metadata": {},
   "outputs": [],
   "source": [
    "l=[('Sachin Tendulkar', 34357), ('Ricky Ponting', 27483), ('Jack Kallis', 25534), ('Virat Kohli', 24936)]"
   ]
  },
  {
   "cell_type": "code",
   "execution_count": 38,
   "id": "aac7fce2-a0ad-41f8-ab0a-b1245b5e0774",
   "metadata": {},
   "outputs": [
    {
     "name": "stdout",
     "output_type": "stream",
     "text": [
      "[('Virat Kohli', 24936), ('Jack Kallis', 25534), ('Ricky Ponting', 27483), ('Sachin Tendulkar', 34357)]\n"
     ]
    }
   ],
   "source": [
    "a = sorted(l, key=lambda x: x[1])\n",
    "print(a)"
   ]
  },
  {
   "cell_type": "markdown",
   "id": "a200b0e8-b2bd-44f4-86af-6862d7c70982",
   "metadata": {},
   "source": [
    "ANSWER-2"
   ]
  },
  {
   "cell_type": "code",
   "execution_count": 39,
   "id": "a3546edf-ab32-4d23-970d-4cae2d7cabda",
   "metadata": {},
   "outputs": [
    {
     "data": {
      "text/plain": [
       "[1, 4, 9, 16, 25, 36, 49, 64, 81, 100]"
      ]
     },
     "execution_count": 39,
     "metadata": {},
     "output_type": "execute_result"
    }
   ],
   "source": [
    "l1=[1, 2, 3, 4, 5, 6, 7, 8, 9, 10]\n",
    "list(map(lambda x: x**2,l1))"
   ]
  },
  {
   "cell_type": "markdown",
   "id": "176e2cef-d427-4cdd-809b-d4b589b82fd6",
   "metadata": {},
   "source": [
    "ANSWER-3"
   ]
  },
  {
   "cell_type": "code",
   "execution_count": 40,
   "id": "9f5b9885-e6b3-4e4e-b700-42769cb806f5",
   "metadata": {},
   "outputs": [
    {
     "data": {
      "text/plain": [
       "('1', '2', '3', '4', '5', '6', '7', '8', '9', '10')"
      ]
     },
     "execution_count": 40,
     "metadata": {},
     "output_type": "execute_result"
    }
   ],
   "source": [
    "l2=[1, 2, 3, 4, 5, 6, 7, 8, 9, 10]\n",
    "tuple(map(lambda x: str(x),l2))"
   ]
  },
  {
   "cell_type": "markdown",
   "id": "04a9310c-597f-4d48-bdb4-d9b8a11bfce7",
   "metadata": {},
   "source": [
    "ANSWER-4"
   ]
  },
  {
   "cell_type": "code",
   "execution_count": 41,
   "id": "90269500-8695-4cc9-a5e3-4422b9c86980",
   "metadata": {},
   "outputs": [
    {
     "data": {
      "text/plain": [
       "15511210043330985984000000"
      ]
     },
     "execution_count": 41,
     "metadata": {},
     "output_type": "execute_result"
    }
   ],
   "source": [
    "from functools import reduce\n",
    "l3=list(range(1,26))\n",
    "reduce(lambda x,y: x*y,l3)"
   ]
  },
  {
   "cell_type": "markdown",
   "id": "dc2b183b-637b-4c9c-83b2-e9a7039fe2ec",
   "metadata": {},
   "source": [
    "ANSWER-5"
   ]
  },
  {
   "cell_type": "code",
   "execution_count": 42,
   "id": "4bbfdae6-a3d6-4c61-a755-0b06dfc8af91",
   "metadata": {},
   "outputs": [
    {
     "data": {
      "text/plain": [
       "[6, 60, 90, 120]"
      ]
     },
     "execution_count": 42,
     "metadata": {},
     "output_type": "execute_result"
    }
   ],
   "source": [
    "l4=[2, 3, 6, 9, 27, 60, 90, 120, 55, 46]\n",
    "list(filter(lambda x: x%2==0 and x%3==0,l4))"
   ]
  },
  {
   "cell_type": "markdown",
   "id": "b5c06f0b-a043-485a-b86a-909919b24544",
   "metadata": {},
   "source": [
    "ANSWER-6"
   ]
  },
  {
   "cell_type": "code",
   "execution_count": 43,
   "id": "81296edb-3cef-4b33-bba1-be0717c7d462",
   "metadata": {},
   "outputs": [
    {
     "data": {
      "text/plain": [
       "['php', 'aba', 'radar', 'level']"
      ]
     },
     "execution_count": 43,
     "metadata": {},
     "output_type": "execute_result"
    }
   ],
   "source": [
    "st=['python', 'php', 'aba', 'radar', 'level']\n",
    "list(filter(lambda x: x==x[::-1],st))"
   ]
  },
  {
   "cell_type": "code",
   "execution_count": null,
   "id": "98ec54b2-89bb-47b9-b207-6a77e8ae0ef1",
   "metadata": {},
   "outputs": [],
   "source": []
  }
 ],
 "metadata": {
  "kernelspec": {
   "display_name": "Python 3 (ipykernel)",
   "language": "python",
   "name": "python3"
  },
  "language_info": {
   "codemirror_mode": {
    "name": "ipython",
    "version": 3
   },
   "file_extension": ".py",
   "mimetype": "text/x-python",
   "name": "python",
   "nbconvert_exporter": "python",
   "pygments_lexer": "ipython3",
   "version": "3.10.8"
  }
 },
 "nbformat": 4,
 "nbformat_minor": 5
}

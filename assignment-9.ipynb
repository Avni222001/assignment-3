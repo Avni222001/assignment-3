{
 "cells": [
  {
   "cell_type": "markdown",
   "id": "663b1944-c890-4c98-9dea-cfd8975a7630",
   "metadata": {},
   "source": [
    "ANSWER-1"
   ]
  },
  {
   "cell_type": "markdown",
   "id": "bc6dd169-846b-4314-a8bb-695244950059",
   "metadata": {},
   "source": [
    "In object-oriented programming (OOP), abstraction is a fundamental principle that focuses on representing the essential features of an object while hiding the unnecessary details. It allows you to create simplified models of real-world entities and interact with them based on their essential characteristics. Abstraction helps in managing complexity and enhances code reusability."
   ]
  },
  {
   "cell_type": "code",
   "execution_count": 20,
   "id": "e2463be3-1d04-4556-9fc9-063f5cd58d63",
   "metadata": {},
   "outputs": [],
   "source": [
    "import abc\n",
    "class vehicle:\n",
    "    \n",
    "    @abc.abstractmethod\n",
    "    def c(self):\n",
    "        pass\n",
    "    \n",
    "    @abc.abstractmethod\n",
    "    def s(self):\n",
    "        pass\n",
    "    \n",
    "    \n",
    "class cars(vehicle):\n",
    "    def c(self):\n",
    "        return \"this is my favourite car\"\n",
    "    \n",
    "class scooty(vehicle):\n",
    "    def s(self):\n",
    "        return \"this is my favourite scooty\""
   ]
  },
  {
   "cell_type": "code",
   "execution_count": 21,
   "id": "c366e253-51b5-418e-8210-ce05f7fc6df9",
   "metadata": {},
   "outputs": [],
   "source": [
    "obj= cars()"
   ]
  },
  {
   "cell_type": "code",
   "execution_count": 22,
   "id": "743cfd23-0438-42ab-9215-bab255cdd31a",
   "metadata": {},
   "outputs": [
    {
     "data": {
      "text/plain": [
       "'this is my favourite car'"
      ]
     },
     "execution_count": 22,
     "metadata": {},
     "output_type": "execute_result"
    }
   ],
   "source": [
    "obj.c()"
   ]
  },
  {
   "cell_type": "code",
   "execution_count": 23,
   "id": "95efe6ef-b640-4de5-b6c1-7c80a7c5bd48",
   "metadata": {},
   "outputs": [],
   "source": [
    "obj1=scooty()"
   ]
  },
  {
   "cell_type": "code",
   "execution_count": 24,
   "id": "d7efc6a6-cb5b-4097-a5dd-15f299ed9ce6",
   "metadata": {},
   "outputs": [
    {
     "data": {
      "text/plain": [
       "'this is my favourite scooty'"
      ]
     },
     "execution_count": 24,
     "metadata": {},
     "output_type": "execute_result"
    }
   ],
   "source": [
    "obj1.s()"
   ]
  },
  {
   "cell_type": "markdown",
   "id": "b9215490-4c17-4d2d-a4d6-2ec16f00e53b",
   "metadata": {},
   "source": [
    "ANSWER-2"
   ]
  },
  {
   "cell_type": "markdown",
   "id": "a283b115-9e54-4aa7-b122-e880d569b419",
   "metadata": {},
   "source": [
    "Abstraction:\n",
    "Abstraction focuses on representing the essential features of an object while hiding the unnecessary details. It allows you to create simplified models of real-world entities and interact with them based on their essential characteristics. Abstraction helps manage complexity and enhances code reusability.\n",
    "\n",
    "Encapsulation:\n",
    "Encapsulation is about bundling data and methods together within a class, and restricting direct access to the internal state of an object from outside. It provides data hiding and protects the internal representation of an object from external interference. The internal data is typically accessed and modified through well-defined public methods."
   ]
  },
  {
   "cell_type": "code",
   "execution_count": 25,
   "id": "e7786ba5-b0c8-449b-bbd9-a0b1c46a1e54",
   "metadata": {},
   "outputs": [
    {
     "name": "stdout",
     "output_type": "stream",
     "text": [
      "Circle area: 78.5\n",
      "Circle perimeter: 31.400000000000002\n"
     ]
    }
   ],
   "source": [
    "#Abstraction example\n",
    "class Shape:\n",
    "    def calculate_area(self):\n",
    "        pass\n",
    "\n",
    "    def calculate_perimeter(self):\n",
    "        pass\n",
    "\n",
    "class Circle(Shape):\n",
    "    def __init__(self, radius):\n",
    "        self.radius = radius\n",
    "\n",
    "    def calculate_area(self):\n",
    "        return 3.14 * self.radius**2\n",
    "\n",
    "    def calculate_perimeter(self):\n",
    "        return 2 * 3.14 * self.radius\n",
    "\n",
    "circle = Circle(5)\n",
    "area = circle.calculate_area()\n",
    "perimeter = circle.calculate_perimeter()\n",
    "print(\"Circle area:\", area)\n",
    "print(\"Circle perimeter:\", perimeter)\n"
   ]
  },
  {
   "cell_type": "code",
   "execution_count": 26,
   "id": "c12e5b83-bc4d-493c-8406-79b07adb2a8d",
   "metadata": {},
   "outputs": [
    {
     "data": {
      "text/plain": [
       "1443"
      ]
     },
     "execution_count": 26,
     "metadata": {},
     "output_type": "execute_result"
    }
   ],
   "source": [
    "#encapsulation example\n",
    "class bankacc:\n",
    "    def __init__(self,balance):\n",
    "        self.__balance=balance\n",
    "    def deposit(self,amount):\n",
    "        self.__balance=self.__balance+amount\n",
    "    def withdraw(self,amount):\n",
    "        if self.__balance >= amount:\n",
    "            self.__balance=self.__balance-amount\n",
    "            return True\n",
    "        else:\n",
    "            return False\n",
    "    def get_balance(self):\n",
    "        return self.__balance\n",
    "\n",
    "\n",
    "b=bankacc(676)\n",
    "b.deposit(767)\n",
    "b.get_balance()"
   ]
  },
  {
   "cell_type": "markdown",
   "id": "07dad2d5-9de9-45e7-bc54-b83bf0bb1a8a",
   "metadata": {},
   "source": [
    "ANSWER-3"
   ]
  },
  {
   "cell_type": "markdown",
   "id": "596ba33e-c314-4809-9448-b7726869fba9",
   "metadata": {},
   "source": [
    "\n",
    "The abc module in Python stands for \"Abstract Base Classes.\" It is a built-in module that provides the infrastructure for defining abstract base classes. Abstract base classes are classes that cannot be instantiated themselves but serve as a blueprint for other classes to inherit from.\n",
    "\n",
    "The abc module is used to create abstract base classes by utilizing the ABC metaclass. These abstract base classes can define abstract methods, which are methods without an implementation. Concrete classes that inherit from an abstract base class must provide implementations for all the abstract methods defined in the base class."
   ]
  },
  {
   "cell_type": "markdown",
   "id": "244e5278-ef6c-46c2-a83b-00eb94c43d6a",
   "metadata": {},
   "source": [
    "ANSWER-4"
   ]
  },
  {
   "cell_type": "markdown",
   "id": "15a119f5-be96-433f-bbbf-2895ddd172c0",
   "metadata": {},
   "source": [
    "We can achieve data abstraction through Abstract classes and interfaces. Through abstract classes, you can achieve partial or complete abstraction as abstract classes contain methods that have an implementation which can result in partial abstraction."
   ]
  },
  {
   "cell_type": "markdown",
   "id": "ff85cc46-0c1e-4414-8c19-1cd8dd1eb6f8",
   "metadata": {},
   "source": [
    "ANSWER-5"
   ]
  },
  {
   "cell_type": "markdown",
   "id": "8c9c4193-6b0b-41a6-a99c-e60142cb4ca7",
   "metadata": {},
   "source": [
    "No, we cannot create an instance of an abstract class directly. An abstract class is designed to be a blueprint or template for other classes to inherit from and provide implementations for its abstract methods.\n",
    "\n",
    "An abstract class typically contains one or more abstract methods, which are methods without any implementation. These methods are meant to be overridden by the concrete subclasses that inherit from the abstract class. Since abstract methods don't have an implementation, creating an instance of the abstract class would result in an incomplete object with missing functionality."
   ]
  },
  {
   "cell_type": "code",
   "execution_count": null,
   "id": "b0c7fddf-16b0-48bf-a873-957f965ad116",
   "metadata": {},
   "outputs": [],
   "source": []
  }
 ],
 "metadata": {
  "kernelspec": {
   "display_name": "Python 3 (ipykernel)",
   "language": "python",
   "name": "python3"
  },
  "language_info": {
   "codemirror_mode": {
    "name": "ipython",
    "version": 3
   },
   "file_extension": ".py",
   "mimetype": "text/x-python",
   "name": "python",
   "nbconvert_exporter": "python",
   "pygments_lexer": "ipython3",
   "version": "3.10.8"
  }
 },
 "nbformat": 4,
 "nbformat_minor": 5
}

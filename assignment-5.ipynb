{
 "cells": [
  {
   "cell_type": "markdown",
   "id": "23fa8c6d-6509-414e-ba93-57642ee32fab",
   "metadata": {},
   "source": [
    "ANSWER-1"
   ]
  },
  {
   "cell_type": "markdown",
   "id": "f44596f4-a5bc-4ff4-8ba5-e1212ca79804",
   "metadata": {},
   "source": [
    "Python programming language was developed by Guido van Rossum. He started working on Python in the late 1980s and released the first version, Python 0.9.0, in February 1991. "
   ]
  },
  {
   "cell_type": "markdown",
   "id": "a8bdc186-27f4-4e77-b7c6-c76f5f15251d",
   "metadata": {},
   "source": [
    "ANSWER-2"
   ]
  },
  {
   "cell_type": "markdown",
   "id": "cc46404a-3d70-436b-95ad-75e39ae40999",
   "metadata": {},
   "source": [
    "Python is a versatile language that supports object-oriented, procedural, and functional programming paradigms, allowing developers to choose the most suitable approach for their projects. Its flexibility, combined with a vast ecosystem of libraries, makes Python a powerful tool for a wide range of applications."
   ]
  },
  {
   "cell_type": "markdown",
   "id": "06024878-bffa-4881-bc75-6aeafdaa8e15",
   "metadata": {},
   "source": [
    "ANSWER-3"
   ]
  },
  {
   "cell_type": "markdown",
   "id": "07b80e85-a2f5-45de-91d6-0bd716a3ff13",
   "metadata": {},
   "source": [
    "Yes, Python is case-sensitive when dealing with identifiers. Identifiers in Python, such as variable names, function names, class names, and module names, are case-sensitive. This means that the capitalization of letters matters, and using different letter cases will result in distinct identifiers."
   ]
  },
  {
   "cell_type": "markdown",
   "id": "086428cb-e85a-4c63-a9f8-53381b756832",
   "metadata": {},
   "source": [
    "ANSWER-4"
   ]
  },
  {
   "cell_type": "markdown",
   "id": "f702a068-284e-490d-bfb0-f7dc9a7a6088",
   "metadata": {},
   "source": [
    "The correct extension for a Python file is \".py\"."
   ]
  },
  {
   "cell_type": "markdown",
   "id": "6807e945-9add-48d0-8aa3-1335394de499",
   "metadata": {},
   "source": [
    "ANSWER-5"
   ]
  },
  {
   "cell_type": "markdown",
   "id": "5adbfbe2-74c8-4893-9e49-d37167817505",
   "metadata": {},
   "source": [
    "Python is an interpreted programming language. When you write Python code, it is not compiled into machine code like some other programming languages. Instead, Python source code is directly executed by an interpreter."
   ]
  },
  {
   "cell_type": "markdown",
   "id": "ddc58d8d-64e0-48cd-aa38-b9bfab929204",
   "metadata": {},
   "source": [
    "ANSWER-6"
   ]
  },
  {
   "cell_type": "markdown",
   "id": "a24fe138-7eb7-4e56-9592-620b0d68559a",
   "metadata": {},
   "source": [
    "1.Function blocks\n",
    "\n",
    "2.Class blocks\n",
    "\n",
    "3.If blocks (conditional statements)\n",
    "\n",
    "4.For loops\n",
    "\n",
    "5.While loops\n",
    "\n",
    "6 Try/except blocks (exception handling)\n",
    "\n",
    "7.Lambda function blocks"
   ]
  },
  {
   "cell_type": "markdown",
   "id": "ffe6c042-a9dd-4d71-a9c0-219e5d20d202",
   "metadata": {},
   "source": [
    "ANSWER-7"
   ]
  },
  {
   "cell_type": "markdown",
   "id": "060bc2cd-4953-45d2-98a1-77cfb359e919",
   "metadata": {},
   "source": [
    "The character used to give single-line comments in Python is the hash symbol #. "
   ]
  },
  {
   "cell_type": "markdown",
   "id": "be39d0d9-bc05-421f-8e42-ebb33d5df882",
   "metadata": {},
   "source": [
    "ANSWER-8"
   ]
  },
  {
   "cell_type": "markdown",
   "id": "80770404-b77b-4700-bda7-2132b21eea20",
   "metadata": {},
   "source": [
    "In Python, you can use the following functions to find the version of Python you are currently working with:\n",
    "\n",
    "sys.version: This function from the sys module returns a string that represents the version number of the Python interpreter.\n",
    "\n",
    "platform.python_version(): This function from the platform module returns a string that represents the version of Python.\n",
    "\n",
    "sys.version_info: This function from the sys module returns a named tuple that contains detailed information about the version of Python, including major, minor, micro, releaselevel, and serial."
   ]
  },
  {
   "cell_type": "markdown",
   "id": "ca73e1d2-70ce-48e5-8861-2f3022030e7d",
   "metadata": {},
   "source": [
    "ANSWER-9"
   ]
  },
  {
   "cell_type": "markdown",
   "id": "f5f3f87a-6424-403c-a322-b8d7b8e8cf50",
   "metadata": {},
   "source": [
    "Python supports the creation of anonymous functions at runtime using a construct called \"lambda\" functions."
   ]
  },
  {
   "cell_type": "markdown",
   "id": "672a28e0-2f5b-4094-8936-0adc63f371bb",
   "metadata": {},
   "source": [
    "ANSWER-10"
   ]
  },
  {
   "cell_type": "markdown",
   "id": "1b67cc12-71ac-4d8f-a5d7-1fe11b5ab491",
   "metadata": {},
   "source": [
    "PIP stands for \"Pip Installs Packages\" or sometimes referred to as \"Pip Installs Python.\" It is a package manager for Python, used for installing, managing, and uninstalling software packages written in Python."
   ]
  },
  {
   "cell_type": "markdown",
   "id": "fa5cf69c-8b8c-4465-9151-40c1c419837a",
   "metadata": {},
   "source": [
    "ANSWER-11"
   ]
  },
  {
   "cell_type": "markdown",
   "id": "670152f2-1da3-41cf-88ef-993be184dcc5",
   "metadata": {},
   "source": [
    "len(): Returns the length (number of items) of an object such as a string, list, or tuple.\n",
    "\n",
    "input(): Reads user input from the console.\n",
    "\n",
    "type(): Returns the type of an object.\n",
    "\n",
    "range(): Generates a sequence of numbers within a specified range.\n",
    "\n",
    "int(): Converts a value to an integer.\n",
    "\n",
    "str(): Converts a value to a string.\n",
    "\n",
    "float(): Converts a value to a floating-point number.\n",
    "\n",
    "list(): Creates a list from an iterable object.\n",
    "\n",
    "dict(): Creates a dictionary object.\n",
    "\n",
    "max(): Returns the maximum value from a sequence.\n",
    "\n",
    "min(): Returns the minimum value from a sequence.\n",
    "\n",
    "sum(): Calculates the sum of all elements in a sequence."
   ]
  },
  {
   "cell_type": "markdown",
   "id": "48e560ce-038e-4955-9fd0-d7173f1d37f6",
   "metadata": {},
   "source": [
    "ANSWER-12"
   ]
  },
  {
   "cell_type": "markdown",
   "id": "4293a269-a8d4-4f42-977f-3f203a1c1021",
   "metadata": {},
   "source": [
    "In Python, the maximum possible length of an identifier is not explicitly defined. "
   ]
  },
  {
   "cell_type": "markdown",
   "id": "4238fe98-414a-433c-bb31-57fc1c53dc08",
   "metadata": {},
   "source": [
    "ANSWER-13"
   ]
  },
  {
   "cell_type": "markdown",
   "id": "ef79d985-55a3-4470-837c-0b11ddbcfff7",
   "metadata": {},
   "source": [
    "Python's simplicity, readability, extensive ecosystem, versatility, cross-platform compatibility, and strong community support make it a powerful and preferred language for a wide range of applications and industries."
   ]
  },
  {
   "cell_type": "markdown",
   "id": "ffeab231-918a-4b77-946c-1cb96d59bd1c",
   "metadata": {},
   "source": [
    "ANSWER-14"
   ]
  },
  {
   "cell_type": "markdown",
   "id": "a2ed1ed8-837b-40f8-bb40-5831918047be",
   "metadata": {},
   "source": [
    "In Python, memory management is primarily handled by an automatic memory management system called \"garbage collection.\" Python uses a technique known as reference counting to keep track of the number of references to an object. Each object in memory has a reference count, and when the count reaches zero, meaning there are no references to the object, it is considered no longer in use and eligible for deallocation."
   ]
  },
  {
   "cell_type": "markdown",
   "id": "f136034d-1453-4ba5-833c-3e8fb3de4b98",
   "metadata": {},
   "source": [
    "ANSWER-15"
   ]
  },
  {
   "cell_type": "markdown",
   "id": "f211cf0b-f89c-4ee0-b566-f83123912132",
   "metadata": {},
   "source": [
    "To install Python on Windows, you can follow these general steps:\n",
    "\n",
    "Download the Python installer: Visit the official Python website (python.org) and download the installer for the desired Python version that is compatible with your Windows operating system.\n",
    "\n",
    "Run the installer: Locate the downloaded installer file and run it. Make sure to select the option to install Python for all users and choose an appropriate installation directory.\n",
    "\n",
    "Customize installation (optional): During the installation process, you may have the option to customize the installation. You can choose to add Python to the system PATH, which allows you to run Python from any command prompt without specifying the full path.\n",
    "\n",
    "Set PATH variables (if not done automatically): If you did not select the option to add Python to the system PATH during installation, you can manually set the PATH variables. Go to \"Control Panel\" -> \"System and Security\" -> \"System\" -> \"Advanced system settings\" -> \"Environment Variables\". In the \"System variables\" section, locate the \"Path\" variable and edit it to include the path to the Python installation directory (e.g., C:\\Python39).\n",
    "\n",
    "Verify the installation: Open a new command prompt window and type \"python\" or \"python --version\" to verify that Python is installed correctly. You should see the Python version information printed."
   ]
  },
  {
   "cell_type": "markdown",
   "id": "20ad23d4-c815-4081-aafc-6cb9ce0d67a4",
   "metadata": {},
   "source": [
    "ANSWER-16"
   ]
  },
  {
   "cell_type": "code",
   "execution_count": null,
   "id": "411e4ec9-d445-43f6-8372-f0a971a5fc06",
   "metadata": {},
   "outputs": [],
   "source": []
  }
 ],
 "metadata": {
  "kernelspec": {
   "display_name": "Python 3 (ipykernel)",
   "language": "python",
   "name": "python3"
  },
  "language_info": {
   "codemirror_mode": {
    "name": "ipython",
    "version": 3
   },
   "file_extension": ".py",
   "mimetype": "text/x-python",
   "name": "python",
   "nbconvert_exporter": "python",
   "pygments_lexer": "ipython3",
   "version": "3.10.8"
  }
 },
 "nbformat": 4,
 "nbformat_minor": 5
}

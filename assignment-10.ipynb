{
 "cells": [
  {
   "cell_type": "markdown",
   "id": "a6fa0965-87a6-41fe-aa7d-ff593f4a6e7b",
   "metadata": {},
   "source": [
    "ANSWER-1 and ANSWER-2"
   ]
  },
  {
   "cell_type": "code",
   "execution_count": 1,
   "id": "6c468954-aa1a-4f73-9d10-3581939ea079",
   "metadata": {},
   "outputs": [
    {
     "data": {
      "text/plain": [
       "'the Tesla Model S has a seating capacity  of 5 people '"
      ]
     },
     "execution_count": 1,
     "metadata": {},
     "output_type": "execute_result"
    }
   ],
   "source": [
    "class vehicle:\n",
    "    def __init__(self,name_of_vehicle,max_speed,average_of_vehicle):\n",
    "        self.name_of_vehicle = name_of_vehicle\n",
    "        self.max_speed = max_speed\n",
    "        self.average_of_vehicle = average_of_vehicle\n",
    "\n",
    "class car(vehicle):\n",
    "    def seating_capacity(self,capacity):\n",
    "        return f\"the {self.name_of_vehicle} has a seating capacity  of {capacity} people \"\n",
    "\n",
    "obj=car(\"Tesla Model S\", 250, 30)\n",
    "obj.seating_capacity(5)"
   ]
  },
  {
   "cell_type": "markdown",
   "id": "ade47476-2c91-4a52-a8ac-e01f2f3d5798",
   "metadata": {},
   "source": [
    "ANSWER-3"
   ]
  },
  {
   "cell_type": "markdown",
   "id": "3c7b3a62-8da7-4376-b6f8-7c12ce121fc2",
   "metadata": {},
   "source": [
    "A class can derive attributes and behaviors from more than one base class. In multiple inheritance, a class can inherit attributes and methods from multiple parent classes, forming a hierarchy of inheritance. This enables the derived class to combine and reuse functionalities from different parent classes."
   ]
  },
  {
   "cell_type": "code",
   "execution_count": 2,
   "id": "2a1bf009-f413-4b3b-9ded-5dd465dd253b",
   "metadata": {},
   "outputs": [],
   "source": [
    "class parent1:\n",
    "    def method1(self):\n",
    "        return \"this is my first parent class\"\n",
    "    \n",
    "class parent2:\n",
    "    def method2(self):\n",
    "        return \"this is my second parent class\"\n",
    "    \n",
    "class child(parent1,parent2):\n",
    "    def method3(self):\n",
    "        return \"this is child class\""
   ]
  },
  {
   "cell_type": "code",
   "execution_count": 3,
   "id": "28e7803c-2544-4969-bde5-bcc258b45270",
   "metadata": {},
   "outputs": [],
   "source": [
    "obj=child()"
   ]
  },
  {
   "cell_type": "code",
   "execution_count": 4,
   "id": "b14defb9-b8b1-4b1d-a453-03b0ea39657e",
   "metadata": {},
   "outputs": [
    {
     "data": {
      "text/plain": [
       "'this is my first parent class'"
      ]
     },
     "execution_count": 4,
     "metadata": {},
     "output_type": "execute_result"
    }
   ],
   "source": [
    "obj.method1()"
   ]
  },
  {
   "cell_type": "code",
   "execution_count": 5,
   "id": "1a54e36b-8f2b-4b9e-ac4e-653f11e80dd8",
   "metadata": {},
   "outputs": [
    {
     "data": {
      "text/plain": [
       "'this is my second parent class'"
      ]
     },
     "execution_count": 5,
     "metadata": {},
     "output_type": "execute_result"
    }
   ],
   "source": [
    "obj.method2()"
   ]
  },
  {
   "cell_type": "code",
   "execution_count": 6,
   "id": "dad3cb03-3538-41c4-979c-9f273ce1a533",
   "metadata": {},
   "outputs": [
    {
     "data": {
      "text/plain": [
       "'this is child class'"
      ]
     },
     "execution_count": 6,
     "metadata": {},
     "output_type": "execute_result"
    }
   ],
   "source": [
    "obj.method3()"
   ]
  },
  {
   "cell_type": "markdown",
   "id": "5479b103-4134-44b0-b309-a82bec7fdf3e",
   "metadata": {},
   "source": [
    "ANSWER-4"
   ]
  },
  {
   "cell_type": "markdown",
   "id": "835aa95d-084d-41a2-8813-f0f4b42df53f",
   "metadata": {},
   "source": [
    "In Python, getters and setters are methods used to access (get) and modify (set) the values of class attributes respectively. They provide a controlled way to retrieve and update the values of private or protected attributes, allowing encapsulation and maintaining data integrity.\n",
    "\n"
   ]
  },
  {
   "cell_type": "code",
   "execution_count": 10,
   "id": "8d154b8c-d242-4677-8521-ee45b223f1d4",
   "metadata": {},
   "outputs": [],
   "source": [
    "class Person:\n",
    "    def __init__(self, name):\n",
    "        self.__name = name \n",
    "\n",
    "    def get_name(self):\n",
    "        return self.__name\n",
    "\n",
    "    def set_name(self, new_name):\n",
    "        self.__name = new_name\n"
   ]
  },
  {
   "cell_type": "code",
   "execution_count": 11,
   "id": "eea59337-2b3f-4cfb-86c0-328fa0b1eda0",
   "metadata": {},
   "outputs": [
    {
     "name": "stdout",
     "output_type": "stream",
     "text": [
      "John\n",
      "Mike\n"
     ]
    }
   ],
   "source": [
    "person = Person(\"John\")\n",
    "print(person.get_name())  \n",
    "\n",
    "person.set_name(\"Mike\")\n",
    "print(person.get_name())  \n"
   ]
  },
  {
   "cell_type": "markdown",
   "id": "244fe667-cdfd-4cc8-8894-8c24afa8e73f",
   "metadata": {},
   "source": [
    "ANSWER-5"
   ]
  },
  {
   "cell_type": "code",
   "execution_count": null,
   "id": "7bda95ec-e6f4-45d5-ad75-106b48091726",
   "metadata": {},
   "outputs": [],
   "source": []
  }
 ],
 "metadata": {
  "kernelspec": {
   "display_name": "Python 3 (ipykernel)",
   "language": "python",
   "name": "python3"
  },
  "language_info": {
   "codemirror_mode": {
    "name": "ipython",
    "version": 3
   },
   "file_extension": ".py",
   "mimetype": "text/x-python",
   "name": "python",
   "nbconvert_exporter": "python",
   "pygments_lexer": "ipython3",
   "version": "3.10.8"
  }
 },
 "nbformat": 4,
 "nbformat_minor": 5
}

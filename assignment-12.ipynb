{
 "cells": [
  {
   "cell_type": "markdown",
   "id": "ba74e4bc-b678-4d63-b1f4-04b109043ff2",
   "metadata": {},
   "source": [
    "ANSWER-1\n"
   ]
  },
  {
   "cell_type": "markdown",
   "id": "47415c3e-3fa3-44c2-8452-c21b731a8af0",
   "metadata": {},
   "source": [
    "An exception in Python is an event that occurs during the execution of a program, which disrupts the normal flow of the program's instructions. When an exception occurs, the program jumps out of its normal execution sequence and transfers the control to a specific exception-handling code block.\n",
    "\n",
    "The differences between exceptions and syntax errors are as follows:\n",
    "\n",
    "1. Occurrence: Exceptions occur during the runtime of a program when an error condition arises, whereas syntax errors are detected by the Python interpreter before the program starts executing, usually due to incorrect syntax or invalid statements.\n",
    "\n",
    "2. Detection: Exceptions are typically handled using exception handling mechanisms such as try-except blocks, where the programmer explicitly defines how to handle specific types of exceptions. Syntax errors are detected by the Python interpreter and displayed as error messages, indicating the location of the error in the code.\n",
    "\n",
    "3. Impact on program execution: When an exception occurs, it interrupts the normal flow of the program and transfers the control to the nearest enclosing exception handler or terminates the program if no handler is found. Syntax errors prevent the program from running altogether, as they are identified during the initial parsing of the code.\n",
    "\n",
    "4. Causes: Exceptions can occur due to various reasons, such as invalid user input, division by zero, file handling issues, or network errors. Syntax errors, on the other hand, are caused by mistakes in the program's syntax, such as missing colons, parentheses, or incorrect use of keywords.\n",
    "\n"
   ]
  },
  {
   "cell_type": "markdown",
   "id": "30baded2-be3d-4950-8d4c-2e52dcf73427",
   "metadata": {},
   "source": [
    "ANSWER-2"
   ]
  },
  {
   "cell_type": "markdown",
   "id": "e0666b01-15c3-4ebf-8c66-86a9f84cfb34",
   "metadata": {},
   "source": [
    "When an exception is not handled in Python, it results in an error message being displayed, and the program's execution is terminated. This error message provides information about the type of exception that occurred and a traceback, which shows the sequence of function calls that led to the exception."
   ]
  },
  {
   "cell_type": "code",
   "execution_count": 3,
   "id": "2db69b1e-5016-4e95-b1a1-61c1ed0c2a67",
   "metadata": {},
   "outputs": [
    {
     "ename": "ZeroDivisionError",
     "evalue": "division by zero",
     "output_type": "error",
     "traceback": [
      "\u001b[0;31m---------------------------------------------------------------------------\u001b[0m",
      "\u001b[0;31mZeroDivisionError\u001b[0m                         Traceback (most recent call last)",
      "Cell \u001b[0;32mIn[3], line 3\u001b[0m\n\u001b[1;32m      1\u001b[0m numerator \u001b[38;5;241m=\u001b[39m \u001b[38;5;241m10\u001b[39m\n\u001b[1;32m      2\u001b[0m denominator \u001b[38;5;241m=\u001b[39m \u001b[38;5;241m0\u001b[39m\n\u001b[0;32m----> 3\u001b[0m result \u001b[38;5;241m=\u001b[39m \u001b[43mnumerator\u001b[49m\u001b[43m \u001b[49m\u001b[38;5;241;43m/\u001b[39;49m\u001b[43m \u001b[49m\u001b[43mdenominator\u001b[49m  \n\u001b[1;32m      4\u001b[0m \u001b[38;5;28mprint\u001b[39m(\u001b[38;5;124m\"\u001b[39m\u001b[38;5;124mResult:\u001b[39m\u001b[38;5;124m\"\u001b[39m, result)\n",
      "\u001b[0;31mZeroDivisionError\u001b[0m: division by zero"
     ]
    }
   ],
   "source": [
    "numerator = 10\n",
    "denominator = 0\n",
    "result = numerator / denominator  \n",
    "print(\"Result:\", result)"
   ]
  },
  {
   "cell_type": "markdown",
   "id": "b4e7e2c8-9b0c-41b9-8cfa-f612a446fbab",
   "metadata": {},
   "source": [
    "ANSWER-3"
   ]
  },
  {
   "cell_type": "markdown",
   "id": "b58f434c-9321-439f-a99d-67db5f3f1484",
   "metadata": {},
   "source": [
    "In Python, the try-except statements are used to catch and handle exceptions. The try block is used to enclose the code that might raise an exception, and the except block specifies how to handle specific types of exceptions that may occur. If an exception occurs within the try block, the program flow is immediately transferred to the corresponding except block."
   ]
  },
  {
   "cell_type": "code",
   "execution_count": 5,
   "id": "3b6974ef-ffd1-43e9-aded-6d09d3ac0e2a",
   "metadata": {},
   "outputs": [
    {
     "name": "stdout",
     "output_type": "stream",
     "text": [
      "Error: Division by zero is not allowed.\n"
     ]
    }
   ],
   "source": [
    "numerator = 10\n",
    "denominator = 0\n",
    "try:\n",
    "    result = numerator / denominator  \n",
    "    print(\"Result:\", result)\n",
    "except ZeroDivisionError:\n",
    "    print(\"Error: Division by zero is not allowed.\")"
   ]
  },
  {
   "cell_type": "markdown",
   "id": "b206ba8a-7cc6-4645-bb3d-524db58952c4",
   "metadata": {},
   "source": [
    "ANSWER-4"
   ]
  },
  {
   "cell_type": "code",
   "execution_count": 6,
   "id": "669c449e-75cb-43b8-97f4-ffb0e5b48d80",
   "metadata": {},
   "outputs": [
    {
     "name": "stdout",
     "output_type": "stream",
     "text": [
      "File content: Line 1\n",
      "Line 2\n",
      "Line 3\n",
      "\n",
      "File read operation completed successfully.\n",
      "File closed.\n"
     ]
    }
   ],
   "source": [
    "\n",
    "try:\n",
    "    file = open(\"example.txt\", \"r\")  \n",
    "    content = file.read()  \n",
    "    print(\"File content:\", content)\n",
    "except FileNotFoundError:\n",
    "    print(\"Error: File not found.\")\n",
    "else:\n",
    "    print(\"File read operation completed successfully.\")\n",
    "finally:\n",
    "    if file:\n",
    "        file.close()\n",
    "        print(\"File closed.\")\n"
   ]
  },
  {
   "cell_type": "markdown",
   "id": "475f81db-19d4-4b53-b621-2ff0883fe5f2",
   "metadata": {},
   "source": [
    "In the above code, we attempt to open a file named \"example.txt\" for reading using the open() function. We enclose this operation within a try block.\n",
    "\n",
    "If the file is found and successfully opened, the code inside the try block continues executing normally.\n",
    "\n",
    "If a FileNotFoundError occurs (for example, if the file does not exist), the program flow jumps to the corresponding except block. In this case, it prints the error message \"Error: File not found.\"\n",
    "\n",
    "If no exceptions occur, the program flow proceeds to the else block. The code inside the else block executes after the try block completes successfully. In this example, it prints the message \"File read operation completed successfully.\"\n",
    "\n",
    "Finally, the finally block is always executed, regardless of whether an exception occurred or not. It is typically used to perform cleanup tasks, such as closing files or releasing resources. In this example, we check if the file is still open (file variable exists), and if so, we close it using the close() method. Finally, we print the message \"File closed.\""
   ]
  },
  {
   "cell_type": "markdown",
   "id": "2a44f75b-8fb8-43f3-938d-62231cca05b4",
   "metadata": {},
   "source": [
    "ANSWER-5"
   ]
  },
  {
   "cell_type": "markdown",
   "id": "09aa8f1e-8c9b-439f-90b4-91e61098ad84",
   "metadata": {},
   "source": [
    "In Python, custom exceptions allow you to define your own exception classes based on your specific needs. These exceptions are derived from the built-in Exception class or its subclasses, and they can be raised and caught just like any other exception.\n",
    "\n",
    "Custom exceptions are useful when you want to handle specific error conditions that are not adequately represented by the built-in exceptions. They provide a way to categorize and differentiate different types of errors in your code, making it easier to handle them appropriately."
   ]
  },
  {
   "cell_type": "code",
   "execution_count": 7,
   "id": "336a2505-cf45-4b65-ae55-2a011b6f0962",
   "metadata": {},
   "outputs": [
    {
     "name": "stdout",
     "output_type": "stream",
     "text": [
      "Error: Insufficient balance.\n"
     ]
    }
   ],
   "source": [
    "\n",
    "class WithdrawalError(Exception):\n",
    "    pass\n",
    "\n",
    "class BankAccount:\n",
    "    def __init__(self, balance):\n",
    "        self.balance = balance\n",
    "\n",
    "    def withdraw(self, amount):\n",
    "        if amount > self.balance:\n",
    "            raise WithdrawalError(\"Insufficient balance.\")\n",
    "        else:\n",
    "            self.balance -= amount\n",
    "            print(\"Withdrawal successful. Remaining balance:\", self.balance)\n",
    "\n",
    "\n",
    "account = BankAccount(1000)\n",
    "\n",
    "try:\n",
    "    account.withdraw(1500)  \n",
    "except WithdrawalError as e:\n",
    "    print(\"Error:\", str(e))\n"
   ]
  },
  {
   "cell_type": "markdown",
   "id": "4daf3e11-84a8-4ebb-b838-1202b69de4f6",
   "metadata": {},
   "source": [
    "ANSWER-6"
   ]
  },
  {
   "cell_type": "code",
   "execution_count": null,
   "id": "0506eaa7-5140-421b-a405-590c6118a7b4",
   "metadata": {},
   "outputs": [],
   "source": [
    "class InputValidationError(Exception):\n",
    "    def __init__(self, message, input_value):\n",
    "        self.message = message\n",
    "        self.input_value = input_value\n",
    "\n",
    "def process_input(input_data):\n",
    "    if not isinstance(input_data, int):\n",
    "        raise InputValidationError(\"Invalid input type. Expected integer.\", input_data)\n",
    "try:\n",
    "    process_input(\"abc\")  # This will raise InputValidationError\n",
    "except InputValidationError as e:\n",
    "    print(\"Input validation error:\", e.message)\n",
    "    print(\"Invalid input value:\", e.input_value)\n"
   ]
  }
 ],
 "metadata": {
  "kernelspec": {
   "display_name": "Python 3 (ipykernel)",
   "language": "python",
   "name": "python3"
  },
  "language_info": {
   "codemirror_mode": {
    "name": "ipython",
    "version": 3
   },
   "file_extension": ".py",
   "mimetype": "text/x-python",
   "name": "python",
   "nbconvert_exporter": "python",
   "pygments_lexer": "ipython3",
   "version": "3.10.8"
  }
 },
 "nbformat": 4,
 "nbformat_minor": 5
}

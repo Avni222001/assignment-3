{
 "cells": [
  {
   "cell_type": "code",
   "execution_count": 125,
   "id": "f374b63b-affb-49ae-82d0-7b3c1593ed61",
   "metadata": {},
   "outputs": [
    {
     "name": "stdout",
     "output_type": "stream",
     "text": [
      "The original string is : hellothis is first assignment\n",
      "The reversed string(using loops) is : tnemngissa tsrif si sihtolleh\n"
     ]
    }
   ],
   "source": [
    "def reverse(s):\n",
    "\tstr = \"\"\n",
    "\tfor i in s:\n",
    "\t\tstr = i + str\n",
    "\treturn str\n",
    "\n",
    "s = \"hellothis is first assignment\"\n",
    "\n",
    "print(\"The original string is : \", end=\"\")\n",
    "print(s)\n",
    "\n",
    "print(\"The reversed string(using loops) is : \", end=\"\")\n",
    "print(reverse(s))\n"
   ]
  },
  {
   "cell_type": "code",
   "execution_count": 126,
   "id": "5a70b381-405d-46ac-93f4-caa4d8ee02b7",
   "metadata": {},
   "outputs": [
    {
     "name": "stdout",
     "output_type": "stream",
     "text": [
      "Yes\n"
     ]
    }
   ],
   "source": [
    "\n",
    "\n",
    "def isPalindrome(s):\n",
    "\treturn s == s[::-1]\n",
    "\n",
    "\n",
    "\n",
    "s = \"malayalam\"\n",
    "ans = isPalindrome(s)\n",
    "\n",
    "if ans:\n",
    "\tprint(\"Yes\")\n",
    "else:\n",
    "\tprint(\"No\")\n"
   ]
  },
  {
   "cell_type": "code",
   "execution_count": 127,
   "id": "076d8eaf-1ff3-414a-9461-f5d596ab0b4b",
   "metadata": {},
   "outputs": [
    {
     "name": "stdout",
     "output_type": "stream",
     "text": [
      "Largest element is: 99\n"
     ]
    }
   ],
   "source": [
    "# Python program to find largest\n",
    "# number in a list\n",
    "\n",
    "# list of numbers\n",
    "list1 = [10, 20, 4, 45, 99]\n",
    "\n",
    "# sorting the list\n",
    "list1.sort()\n",
    "\n",
    "# printing the last element\n",
    "print(\"Largest element is:\", list1[-1])\n"
   ]
  },
  {
   "cell_type": "code",
   "execution_count": 128,
   "id": "1196e836-b23c-4eea-b71f-222042ed5256",
   "metadata": {},
   "outputs": [
    {
     "name": "stdout",
     "output_type": "stream",
     "text": [
      "8 has occurred 5 times\n"
     ]
    }
   ],
   "source": [
    "# Python code to count the number of occurrences\n",
    "def countX(lst, x):\n",
    "\tcount = 0\n",
    "\tfor ele in lst:\n",
    "\t\tif (ele == x):\n",
    "\t\t\tcount = count + 1\n",
    "\treturn count\n",
    "\n",
    "\n",
    "# Driver Code\n",
    "lst = [8, 6, 8, 10, 8, 20, 10, 8, 8]\n",
    "x = 8\n",
    "print('{} has occurred {} times'.format(x,\n",
    "\t\t\t\t\t\t\t\t\t\tcountX(lst, x)))\n"
   ]
  },
  {
   "cell_type": "code",
   "execution_count": 129,
   "id": "e8fd0cc0-b29f-4200-b0fa-f0ba3ef26edf",
   "metadata": {},
   "outputs": [
    {
     "name": "stdout",
     "output_type": "stream",
     "text": [
      "Second largest element in the list is: 32\n"
     ]
    }
   ],
   "source": [
    "list1 = [11,22,1,2,5,67,21,32]\n",
    "# using built-in sort method\n",
    "list1.sort()\n",
    "# second last element\n",
    "print(\"Second largest element in the list is:\", list1[-2])"
   ]
  },
  {
   "cell_type": "code",
   "execution_count": 130,
   "id": "42d8fe84-1647-4b4c-823d-90bcc9bfc3c2",
   "metadata": {},
   "outputs": [
    {
     "name": "stdout",
     "output_type": "stream",
     "text": [
      "Original List:  [1, 2, 4, 2, 1, 4, 5]\n",
      "List after removing duplicate elements:  [1, 2, 4, 5]\n"
     ]
    }
   ],
   "source": [
    "# Python 3 code to demonstrate\n",
    "# removing duplicate elements from the list\n",
    "l = [1, 2, 4, 2, 1, 4, 5]\n",
    "print(\"Original List: \", l)\n",
    "res = [*set(l)]\n",
    "print(\"List after removing duplicate elements: \", res)\n",
    "\n"
   ]
  },
  {
   "cell_type": "code",
   "execution_count": 131,
   "id": "a95ec894-d752-4cb1-8179-7cae36f81e88",
   "metadata": {},
   "outputs": [
    {
     "name": "stdout",
     "output_type": "stream",
     "text": [
      "The factorial of 7 is 5040\n"
     ]
    }
   ],
   "source": [
    "# Python program to find the factorial of a number provided by the user.\n",
    "\n",
    "# change the value for a different result\n",
    "num = 7\n",
    "\n",
    "# To take input from the user\n",
    "#num = int(input(\"Enter a number: \"))\n",
    "\n",
    "factorial = 1\n",
    "\n",
    "# check if the number is negative, positive or zero\n",
    "if num < 0:\n",
    "   print(\"Sorry, factorial does not exist for negative numbers\")\n",
    "elif num == 0:\n",
    "   print(\"The factorial of 0 is 1\")\n",
    "else:\n",
    "   for i in range(1,num + 1):\n",
    "       factorial = factorial*i\n",
    "   print(\"The factorial of\",num,\"is\",factorial)\n"
   ]
  },
  {
   "cell_type": "code",
   "execution_count": 132,
   "id": "d4e6ce0e-b9a7-4b63-a63b-7e32fc5fd271",
   "metadata": {},
   "outputs": [
    {
     "name": "stdout",
     "output_type": "stream",
     "text": [
      "9  is a Prime Number!\n"
     ]
    }
   ],
   "source": [
    "from math import sqrt\n",
    "\n",
    "# Number to be checked for prime\n",
    "n = 9\n",
    "\n",
    "flag = 0\n",
    "\n",
    "if(n > 1):\n",
    "\tfor k in range(2, int(sqrt(n)) + 1):\n",
    "\t\tif (n % k == 0):\n",
    "\t\t\tflag = 1\n",
    "\t\tbreak\n",
    "\tif (flag == 0):\n",
    "\t\tprint(n,\" is a Prime Number!\")\n",
    "\telse:\n",
    "\t\tprint(n,\" is Not a Prime Number!\")\n",
    "else:\n",
    "\tprint(n,\" is Not a Prime Number!\")"
   ]
  },
  {
   "cell_type": "code",
   "execution_count": 133,
   "id": "edcffcb3-b02a-489d-a8b9-81122ad7a9ec",
   "metadata": {},
   "outputs": [
    {
     "name": "stdout",
     "output_type": "stream",
     "text": [
      "[(1, 1), (1, 2), (3, 3)]\n",
      "[(3, 3), (1, 2), (1, 1)]\n"
     ]
    }
   ],
   "source": [
    "# function to return the second element of the\n",
    "# two elements passed as the parameter\n",
    "def sortSecond(val):\n",
    "\treturn val[1]\n",
    "\n",
    "# list1 to demonstrate the use of sorting\n",
    "# using second key\n",
    "list1 = [(1, 2), (3, 3), (1, 1)]\n",
    "\n",
    "# sorts the array in ascending according to\n",
    "# second element\n",
    "list1.sort(key=sortSecond)\n",
    "print(list1)\n",
    "\n",
    "# sorts the array in descending according to\n",
    "# second element\n",
    "list1.sort(key=sortSecond, reverse=True)\n",
    "print(list1)\n"
   ]
  },
  {
   "cell_type": "code",
   "execution_count": 134,
   "id": "e5f61ea8-344b-4d20-8167-1df8ce343dc4",
   "metadata": {},
   "outputs": [
    {
     "name": "stdout",
     "output_type": "stream",
     "text": [
      "20\n"
     ]
    }
   ],
   "source": [
    "def sum(numbers):\n",
    "    total = 0\n",
    "    for x in numbers:\n",
    "        total += x\n",
    "    return total\n",
    "print(sum((8, 2, 3, 0, 7)))\n"
   ]
  },
  {
   "cell_type": "code",
   "execution_count": 135,
   "id": "dbffaacc-ba5f-4a3d-9ea6-d25106258c6d",
   "metadata": {},
   "outputs": [
    {
     "name": "stdout",
     "output_type": "stream",
     "text": [
      "{5}\n",
      "No common elements\n"
     ]
    }
   ],
   "source": [
    "# Python program to find the common elements\n",
    "# in two lists\n",
    "def common_member(a, b):\n",
    "\ta_set = set(a)\n",
    "\tb_set = set(b)\n",
    "\n",
    "\tif (a_set & b_set):\n",
    "\t\tprint(a_set & b_set)\n",
    "\telse:\n",
    "\t\tprint(\"No common elements\")\n",
    "\t\t\n",
    "\n",
    "a = [1, 2, 3, 4, 5]\n",
    "b = [5, 6, 7, 8, 9]\n",
    "common_member(a, b)\n",
    "\n",
    "a = [1, 2, 3, 4, 5]\n",
    "b = [6, 7, 8, 9]\n",
    "common_member(a, b)\n"
   ]
  },
  {
   "cell_type": "code",
   "execution_count": 136,
   "id": "631c1d2b-7992-43d2-a3e4-9b0ab0fae8cf",
   "metadata": {},
   "outputs": [
    {
     "name": "stdout",
     "output_type": "stream",
     "text": [
      "The strings are anagrams.\n"
     ]
    }
   ],
   "source": [
    "# function to check if two strings are\n",
    "# anagram or not\n",
    "def check(s1, s2):\n",
    "\t\n",
    "\t# the sorted strings are checked\n",
    "\tif(sorted(s1)== sorted(s2)):\n",
    "\t\tprint(\"The strings are anagrams.\")\n",
    "\telse:\n",
    "\t\tprint(\"The strings aren't anagrams.\")\t\t\n",
    "\t\t\n",
    "# driver code\n",
    "s1 =\"listen\"\n",
    "s2 =\"silent\"\n",
    "check(s1, s2)\n"
   ]
  },
  {
   "cell_type": "code",
   "execution_count": 137,
   "id": "6bf1df8f-34a9-48dd-a1c7-c96d51157cfb",
   "metadata": {},
   "outputs": [
    {
     "name": "stdout",
     "output_type": "stream",
     "text": [
      "ABC\n",
      "ACB\n",
      "BAC\n",
      "BCA\n",
      "CBA\n",
      "CAB\n"
     ]
    }
   ],
   "source": [
    "# Python program to print all permutations\n",
    "# with duplicates allowed\n",
    "def toString(List):\n",
    "\treturn ''.join(List)\n",
    "\n",
    "# Function to print permutations\n",
    "# of string\n",
    "# This function takes three parameters:\n",
    "# 1. String\n",
    "# 2. Starting index of the string\n",
    "# 3. Ending index of the string.\n",
    "def permute(a, l, r):\n",
    "\tif l == r:\n",
    "\t\tprint (toString(a))\n",
    "\telse:\n",
    "\t\tfor i in range(l, r + 1):\n",
    "\t\t\ta[l], a[i] = a[i], a[l]\n",
    "\t\t\tpermute(a, l + 1, r)\n",
    "\n",
    "\t\t\t# backtrack\n",
    "\t\t\ta[l], a[i] = a[i], a[l]\n",
    "\n",
    "\n",
    "string = \"ABC\"\n",
    "n = len(string)\n",
    "a = list(string)\n",
    "permute(a, 0, n-1)\n",
    "\n"
   ]
  },
  {
   "cell_type": "code",
   "execution_count": 138,
   "id": "02d9951f-539d-4dff-b5c3-a9c2ba6b0f3f",
   "metadata": {},
   "outputs": [
    {
     "name": "stdout",
     "output_type": "stream",
     "text": [
      "34\n"
     ]
    }
   ],
   "source": [
    "# Function for nth fibonacci number - Space Optimisation\n",
    "# Taking 1st two fibonacci numbers as 0 and 1\n",
    "\n",
    "\n",
    "def fibonacci(n):\n",
    "\ta = 0\n",
    "\tb = 1\n",
    "\tif n < 0:\n",
    "\t\tprint(\"Incorrect input\")\n",
    "\telif n == 0:\n",
    "\t\treturn a\n",
    "\telif n == 1:\n",
    "\t\treturn b\n",
    "\telse:\n",
    "\t\tfor i in range(2, n+1):\n",
    "\t\t\tc = a + b\n",
    "\t\t\ta = b\n",
    "\t\t\tb = c\n",
    "\t\treturn b\n",
    "\n",
    "\n",
    "\n",
    "print(fibonacci(9))\n",
    "\n"
   ]
  },
  {
   "cell_type": "code",
   "execution_count": 139,
   "id": "b4745ce8-9768-4128-92a0-18d16af8da6f",
   "metadata": {},
   "outputs": [
    {
     "name": "stdout",
     "output_type": "stream",
     "text": [
      "3\n",
      "3.5\n",
      "3.5\n",
      "3.75\n",
      "3.3\n",
      "22.3\n"
     ]
    }
   ],
   "source": [
    "def cal_median(nums):\n",
    "  nums.sort()\n",
    "  n = len(nums)\n",
    "  m = n // 2\n",
    "  if n % 2 == 0:\n",
    "    return (nums[m - 1] + nums[m]) / 2\n",
    "  else:\n",
    "    return nums[m]\n",
    "print(cal_median([1,2,3,4,5]))\n",
    "print(cal_median([1,2,3,4,5,6]))\n",
    "print(cal_median([6,1,2,4,5,3]))\n",
    "print(cal_median([1.0,2.11,3.3,4.2,5.22,6.55]))\n",
    "print(cal_median([1.0,2.11,3.3,4.2,5.22]))\n",
    "print(cal_median([2.0,12.11,22.3,24.12,55.22]))\n"
   ]
  },
  {
   "cell_type": "code",
   "execution_count": 140,
   "id": "cd002faf-a476-41fe-b448-9eb779e2991e",
   "metadata": {},
   "outputs": [
    {
     "name": "stdout",
     "output_type": "stream",
     "text": [
      "Yes, the list is sorted.\n"
     ]
    }
   ],
   "source": [
    "# initialize the list\n",
    "test_list = [1, 4, 5, 8, 10]\n",
    "\n",
    "# check if the list is sorted using zip() and all()\n",
    "is_sorted = all(a <= b for a, b in zip(test_list, test_list[1:]))\n",
    "\n",
    "# print the result\n",
    "if is_sorted:\n",
    "\tprint(\"Yes, the list is sorted.\")\n",
    "else:\n",
    "\tprint(\"No, the list is not sorted.\")\n",
    "\n",
    "\n"
   ]
  },
  {
   "cell_type": "code",
   "execution_count": 141,
   "id": "37d336bb-ac15-491f-bace-b72308bffa5c",
   "metadata": {},
   "outputs": [
    {
     "name": "stdout",
     "output_type": "stream",
     "text": [
      "[9, 11, 26, 28]\n"
     ]
    }
   ],
   "source": [
    "# Python program to illustrate the intersection\n",
    "# of two lists in most simple way\n",
    "def intersection(lst1, lst2):\n",
    "\tlst3 = [value for value in lst1 if value in lst2]\n",
    "\treturn lst3\n",
    "\n",
    "lst1 = [4, 9, 1, 17, 11, 26, 28, 54, 69]\n",
    "lst2 = [9, 9, 74, 21, 45, 11, 63, 28, 26]\n",
    "print(intersection(lst1, lst2))\n"
   ]
  },
  {
   "cell_type": "code",
   "execution_count": 142,
   "id": "2b204ad3-bedc-4481-bb28-e51d54baca97",
   "metadata": {},
   "outputs": [
    {
     "name": "stdout",
     "output_type": "stream",
     "text": [
      "Maximum Sub Array Sum Is 6\n"
     ]
    }
   ],
   "source": [
    "def maxSubArraySum(arr,size):\n",
    "    \n",
    "    max_till_now = arr[0]\n",
    "    max_ending = 0\n",
    "    \n",
    "    for i in range(0, size):\n",
    "        max_ending = max_ending + arr[i]\n",
    "        if max_ending < 0:\n",
    "            max_ending = 0\n",
    "        \n",
    "        \n",
    "        elif (max_till_now < max_ending):\n",
    "            max_till_now = max_ending\n",
    "            \n",
    "    return max_till_now\n",
    "\n",
    "arr = [-2, -3, 4, -1, -2, 5, -3]\n",
    "print(\"Maximum Sub Array Sum Is\" , maxSubArraySum(arr,len(arr)))"
   ]
  },
  {
   "cell_type": "code",
   "execution_count": 143,
   "id": "97c99238-271e-487e-93dc-71479994df67",
   "metadata": {},
   "outputs": [
    {
     "name": "stdout",
     "output_type": "stream",
     "text": [
      "wht s yr nm \n",
      "Lvng Pythn LL\n"
     ]
    }
   ],
   "source": [
    "# Python program to remove vowels from a string\n",
    "# Function to remove vowels\n",
    "def rem_vowel(string):\n",
    "\tvowels = ['a','e','i','o','u']\n",
    "\tresult = [letter for letter in string if letter.lower() not in vowels]\n",
    "\tresult = ''.join(result)\n",
    "\tprint(result)\n",
    "\n",
    "\n",
    "string = \"what is your name \"\n",
    "rem_vowel(string)\n",
    "string = \"Loving Python LOL\"\n",
    "rem_vowel(string)\n"
   ]
  },
  {
   "cell_type": "code",
   "execution_count": 144,
   "id": "5a5ab92f-c012-459b-a610-b211930f8907",
   "metadata": {},
   "outputs": [
    {
     "name": "stdout",
     "output_type": "stream",
     "text": [
      "code practice quiz geeks\n"
     ]
    }
   ],
   "source": [
    "\n",
    "# To reverse words in a given string\n",
    "\n",
    "# input string\n",
    "string = \"geeks quiz practice code\"\n",
    "# reversing words in a given string\n",
    "s = string.split()[::-1]\n",
    "l = []\n",
    "for i in s:\n",
    "\t# appending reversed words to l\n",
    "\tl.append(i)\n",
    "# printing reverse words\n",
    "print(\" \".join(l))\n"
   ]
  },
  {
   "cell_type": "code",
   "execution_count": 145,
   "id": "73edb796-95c6-4161-b432-900b11499305",
   "metadata": {},
   "outputs": [
    {
     "name": "stdout",
     "output_type": "stream",
     "text": [
      "First non-repeating character is a\n"
     ]
    }
   ],
   "source": [
    "# Python program to print the first non-repeating character\n",
    "\n",
    "string = \"algorithm\"\n",
    "index = -1\n",
    "fnc = \"\"\n",
    "\n",
    "if len(string) == 0 :\n",
    "    print(\"EMTPY STRING\");\n",
    "\n",
    "for i in string:\n",
    "\tif string.count(i) == 1:\n",
    "\t\tfnc += i\n",
    "\t\tbreak\n",
    "\telse:\n",
    "\t\tindex += 1\n",
    "if index == len(string)-1 :\n",
    "\tprint(\"All characters are repeating \")\n",
    "else:\n",
    "\tprint(\"First non-repeating character is\", fnc)\n"
   ]
  },
  {
   "cell_type": "code",
   "execution_count": 146,
   "id": "d21b4a26-9bd1-48da-9e1b-6967ef83634f",
   "metadata": {},
   "outputs": [
    {
     "name": "stdout",
     "output_type": "stream",
     "text": [
      "2\n",
      "2\n",
      "2\n",
      "5\n",
      "5\n"
     ]
    }
   ],
   "source": [
    "import math  \n",
    "# Below function will print the  \n",
    "# all prime factor of given number  \n",
    "def prime_factors(num):  \n",
    "    # Using the while loop, we will print the number of two's that divide n  \n",
    "    while num % 2 == 0:  \n",
    "        print(2,)  \n",
    "        num = num / 2  \n",
    "  \n",
    "    for i in range(3, int(math.sqrt(num)) + 1, 2):  \n",
    "  \n",
    "        # while i divides n , print i ad divide n  \n",
    "        while num % i == 0:  \n",
    "            print(i,)  \n",
    "            num = num / i  \n",
    "    if num > 2:  \n",
    "        print(num)  \n",
    "# calling function   \n",
    "  \n",
    "num = 200  \n",
    "prime_factors(num)  "
   ]
  },
  {
   "cell_type": "code",
   "execution_count": 147,
   "id": "0245d69c-9657-4856-acd5-871acf20aa84",
   "metadata": {},
   "outputs": [
    {
     "name": "stdout",
     "output_type": "stream",
     "text": [
      "No\n",
      "Yes\n"
     ]
    }
   ],
   "source": [
    "# Python program to check if given\n",
    "# number is power of 2 or not\n",
    "\n",
    "# Function to check if x is power of 2\n",
    "\n",
    "\n",
    "def isPowerOfTwo(n):\n",
    "\tif (n == 0):\n",
    "\t\treturn False\n",
    "\twhile (n != 1):\n",
    "\t\tif (n % 2 != 0):\n",
    "\t\t\treturn False\n",
    "\t\tn = n // 2\n",
    "\n",
    "\treturn True\n",
    "\n",
    "\n",
    "# Driver code\n",
    "if __name__ == \"__main__\":\n",
    "\n",
    "\t# Function call\n",
    "\tif(isPowerOfTwo(31)):\n",
    "\t\tprint('Yes')\n",
    "\telse:\n",
    "\t\tprint('No')\n",
    "\tif(isPowerOfTwo(64)):\n",
    "\t\tprint('Yes')\n",
    "\telse:\n",
    "\t\tprint('No')\n",
    "\n"
   ]
  },
  {
   "cell_type": "code",
   "execution_count": 148,
   "id": "100d7ba5-a2e0-464b-a735-4676f527e8c8",
   "metadata": {},
   "outputs": [
    {
     "name": "stdout",
     "output_type": "stream",
     "text": [
      "Mode: 2\n"
     ]
    }
   ],
   "source": [
    "class Node:\n",
    "\tdef __init__(self, value):\n",
    "\t\tself.data = value\n",
    "\t\tself.next = None\n",
    "\n",
    "\n",
    "def findMode(head):\n",
    "\tfreq = {}\n",
    "\tmax_freq = 0\n",
    "\tcurr = head\n",
    "\t\n",
    "\t# Count frequency of each element in linked list\n",
    "\twhile curr != None:\n",
    "\t\tfreq[curr.data] = freq.get(curr.data, 0) + 1\n",
    "\t\tmax_freq = max(max_freq, freq[curr.data])\n",
    "\t\tcurr = curr.next\n",
    "\t\n",
    "\t# Find mode of linked list\n",
    "\tcurr = head\n",
    "\tmode = 0\n",
    "\twhile curr != None:\n",
    "\t\tif freq[curr.data] == max_freq:\n",
    "\t\t\tmode = curr.data\n",
    "\t\t\tbreak\n",
    "\t\tcurr = curr.next\n",
    "\t\n",
    "\treturn mode\n",
    "\n",
    "\n",
    "if __name__ == \"__main__\":\n",
    "\thead = Node(1)\n",
    "\thead.next = Node(2)\n",
    "\thead.next.next = Node(3)\n",
    "\thead.next.next.next = Node(2)\n",
    "\thead.next.next.next.next = Node(4)\n",
    "\thead.next.next.next.next.next = Node(3)\n",
    "\thead.next.next.next.next.next.next = Node(2)\n",
    "\thead.next.next.next.next.next.next.next = Node(5)\n",
    "\thead.next.next.next.next.next.next.next.next = None\n",
    "\t\n",
    "\tmode = findMode(head)\n",
    "\tprint(f\"Mode: {mode}\") # output \"Mode: 2\"\n"
   ]
  },
  {
   "cell_type": "code",
   "execution_count": 149,
   "id": "12194243-4e86-4db3-9642-86571d9c53a1",
   "metadata": {},
   "outputs": [
    {
     "name": "stdout",
     "output_type": "stream",
     "text": [
      "GCD of 98 and 56 is 14\n"
     ]
    }
   ],
   "source": [
    "# Python program to find GCD of two numbers\n",
    "\n",
    "\n",
    "# Function to find gcd of two numbers\n",
    "def gcd(a, b):\n",
    "\n",
    "\t# Find minimum of a and b\n",
    "\tresult = min(a, b)\n",
    "\n",
    "\twhile result:\n",
    "\t\tif a % result == 0 and b % result == 0:\n",
    "\t\t\tbreak\n",
    "\t\tresult -= 1\n",
    "\n",
    "\t# Return the gcd of a and b\n",
    "\treturn result\n",
    "\n",
    "\n",
    "if __name__ == '__main__':\n",
    "\ta = 98\n",
    "\tb = 56\n",
    "\tprint(f\"GCD of {a} and {b} is {gcd(a, b)}\")\n",
    "\n",
    "\n"
   ]
  },
  {
   "cell_type": "code",
   "execution_count": 150,
   "id": "22abe883-615c-4907-960b-d05a215dd76a",
   "metadata": {},
   "outputs": [
    {
     "name": "stdout",
     "output_type": "stream",
     "text": [
      "Yes\n"
     ]
    }
   ],
   "source": [
    "# function to check string is\n",
    "# palindrome or not\n",
    "def isPalindrome(str):\n",
    "\n",
    "\t# Run loop from 0 to len/2\n",
    "\tfor i in range(0, int(len(str)/2)):\n",
    "\t\tif str[i] != str[len(str)-i-1]:\n",
    "\t\t\treturn False\n",
    "\treturn True\n",
    "\n",
    "# main function\n",
    "s = \"malayalam\"\n",
    "ans = isPalindrome(s)\n",
    "\n",
    "if (ans):\n",
    "\tprint(\"Yes\")\n",
    "else:\n",
    "\tprint(\"No\")\n"
   ]
  },
  {
   "cell_type": "code",
   "execution_count": 151,
   "id": "c294f1cf-7557-43fd-a44c-54ef66ccfc99",
   "metadata": {},
   "outputs": [
    {
     "name": "stdout",
     "output_type": "stream",
     "text": [
      "1\n"
     ]
    }
   ],
   "source": [
    "# python3 code to implement the approach\n",
    "\n",
    "def findMin(arr, N):\n",
    "\t\n",
    "\tmin_ele = arr[0];\n",
    "\n",
    "\t# Traversing over array to\n",
    "\t# find minimum element\n",
    "\tfor i in range(N) :\n",
    "\t\tif arr[i] < min_ele :\n",
    "\t\t\tmin_ele = arr[i]\n",
    "\n",
    "\treturn min_ele;\n",
    "\n",
    "# Driver program\n",
    "arr = [5, 6, 1, 2, 3, 4]\n",
    "N = len(arr)\n",
    "\n",
    "print(findMin(arr,N))\n"
   ]
  },
  {
   "cell_type": "code",
   "execution_count": 152,
   "id": "df276de3-ca9f-43ab-b3fc-4a81153ec72f",
   "metadata": {},
   "outputs": [
    {
     "name": "stdout",
     "output_type": "stream",
     "text": [
      "25\n"
     ]
    }
   ],
   "source": [
    "# Python3 code to recursively find\n",
    "# the power of a number\n",
    "\n",
    "# Recursive function to find N^P.\n",
    "def power(N, P):\n",
    "\n",
    "\t# If power is 0 then return 1\n",
    "\t# if condition is true\n",
    "\t# only then it will enter it,\n",
    "\t# otherwise not\n",
    "\tif P == 0:\n",
    "\t\treturn 1\n",
    "\n",
    "\t# Recurrence relation\n",
    "\treturn (N*power(N, P-1))\n",
    "\n",
    "\n",
    "# Driver code\n",
    "if __name__ == '__main__':\n",
    "\tN = 5\n",
    "\tP = 2\n",
    "\n",
    "\tprint(power(N, P))\n"
   ]
  },
  {
   "cell_type": "code",
   "execution_count": 153,
   "id": "badb9ac9-cf8a-42a7-8c12-80e07aecd51d",
   "metadata": {},
   "outputs": [
    {
     "name": "stdout",
     "output_type": "stream",
     "text": [
      "The longest Common Prefix is : gee\n"
     ]
    }
   ],
   "source": [
    "# Python 3 program to find longest\n",
    "# common prefix of given array of words.\n",
    "def longestCommonPrefix( a):\n",
    "\t\n",
    "\tsize = len(a)\n",
    "\n",
    "\t# if size is 0, return empty string\n",
    "\tif (size == 0):\n",
    "\t\treturn \"\"\n",
    "\n",
    "\tif (size == 1):\n",
    "\t\treturn a[0]\n",
    "\n",
    "\t# sort the array of strings\n",
    "\ta.sort()\n",
    "\t\n",
    "\t# find the minimum length from\n",
    "\t# first and last string\n",
    "\tend = min(len(a[0]), len(a[size - 1]))\n",
    "\n",
    "\t# find the common prefix between\n",
    "\t# the first and last string\n",
    "\ti = 0\n",
    "\twhile (i < end and\n",
    "\t\ta[0][i] == a[size - 1][i]):\n",
    "\t\ti += 1\n",
    "\n",
    "\tpre = a[0][0: i]\n",
    "\treturn pre\n",
    "\n",
    "# Driver Code\n",
    "if __name__ == \"__main__\":\n",
    "\n",
    "\tinput = [\"geeksforgeeks\", \"geeks\",\n",
    "\t\t\t\t\t\"geek\", \"geezer\"]\n",
    "\tprint(\"The longest Common Prefix is :\" ,\n",
    "\t\t\t\tlongestCommonPrefix(input))\n",
    "\n"
   ]
  },
  {
   "cell_type": "code",
   "execution_count": 154,
   "id": "e7c1c892-f6a8-47a3-aebc-52f9bfd9f7fa",
   "metadata": {},
   "outputs": [
    {
     "name": "stdout",
     "output_type": "stream",
     "text": [
      "6\n",
      "24\n"
     ]
    }
   ],
   "source": [
    "# Python program to multiply all values in the\n",
    "# list using traversal\n",
    "\n",
    "\n",
    "def multiplyList(myList):\n",
    "\n",
    "\t# Multiply elements one by one\n",
    "\tresult = 1\n",
    "\tfor x in myList:\n",
    "\t\tresult = result * x\n",
    "\treturn result\n",
    "\n",
    "\n",
    "# Driver code\n",
    "list1 = [1, 2, 3]\n",
    "list2 = [3, 2, 4]\n",
    "print(multiplyList(list1))\n",
    "print(multiplyList(list2))\n"
   ]
  },
  {
   "cell_type": "code",
   "execution_count": 155,
   "id": "4aa50b41-96e0-43ea-bc49-1f0ad25dcc7d",
   "metadata": {},
   "outputs": [
    {
     "name": "stdout",
     "output_type": "stream",
     "text": [
      "arrives still destiny it from run it dread\n"
     ]
    }
   ],
   "source": [
    "sentence = \"dread it run from it destiny still arrives\"\n",
    "word_list = sentence.split()\n",
    "reversed_list = word_list[:: -1]\n",
    "reversed_sentence = \" \".join(reversed_list)\n",
    "print(reversed_sentence)"
   ]
  },
  {
   "cell_type": "code",
   "execution_count": 156,
   "id": "83f2ceaf-0ba9-4897-bc1e-8fcee7098f97",
   "metadata": {},
   "outputs": [
    {
     "name": "stdout",
     "output_type": "stream",
     "text": [
      "4\n"
     ]
    }
   ],
   "source": [
    "# Find Missing Element\n",
    "def findMissing(arr, N):\n",
    "\n",
    "\t# create a list of zeroes\n",
    "\ttemp = [0] * (N+1)\n",
    "\n",
    "\tfor i in range(0, N):\n",
    "\t\ttemp[arr[i] - 1] = 1\n",
    "\n",
    "\tfor i in range(0, N+1):\n",
    "\t\tif(temp[i] == 0):\n",
    "\t\t\tans = i + 1\n",
    "\n",
    "\tprint(ans)\n",
    "\n",
    "if __name__ == '__main__':\n",
    "\tarr = [1, 2, 3, 5]\n",
    "\tN = len(arr)\n",
    "\n",
    "\t# Function call\n",
    "\tfindMissing(arr, N)\n",
    "\n"
   ]
  },
  {
   "cell_type": "code",
   "execution_count": 157,
   "id": "16e73a7b-555b-4c51-8caa-0ac2ee6a5b62",
   "metadata": {},
   "outputs": [
    {
     "name": "stdout",
     "output_type": "stream",
     "text": [
      "1\n"
     ]
    }
   ],
   "source": [
    "# Python3 Program to find the smallest\n",
    "# positive missing number\n",
    "\n",
    "\n",
    "def solution(A): # Our original array\n",
    "\n",
    "\tm = max(A) # Storing maximum value\n",
    "\tif m < 1:\n",
    "\n",
    "\t\t# In case all values in our array are negative\n",
    "\t\treturn 1\n",
    "\tif len(A) == 1:\n",
    "\n",
    "\t\t# If it contains only one element\n",
    "\t\treturn 2 if A[0] == 1 else 1\n",
    "\tl = [0] * m\n",
    "\tfor i in range(len(A)):\n",
    "\t\tif A[i] > 0:\n",
    "\t\t\tif l[A[i] - 1] != 1:\n",
    "\n",
    "\t\t\t\t# Changing the value status at the index of our list\n",
    "\t\t\t\tl[A[i] - 1] = 1\n",
    "\tfor i in range(len(l)):\n",
    "\n",
    "\t\t# Encountering first 0, i.e, the element with least value\n",
    "\t\tif l[i] == 0:\n",
    "\t\t\treturn i + 1\n",
    "\t\t\t# In case all values are filled between 1 and m\n",
    "\treturn i + 2\n",
    "\n",
    "if __name__ == '__main__':\n",
    "\tarr = [0, 10, 2, -10, -20]\n",
    "\tprint(solution(arr))\n"
   ]
  },
  {
   "cell_type": "code",
   "execution_count": 158,
   "id": "436e0ca5-2b60-43bf-ac6c-d79111fe85a5",
   "metadata": {},
   "outputs": [
    {
     "name": "stdout",
     "output_type": "stream",
     "text": [
      "Longest palindrome substring is: geeksskeeg\n",
      "Length is: 10\n"
     ]
    }
   ],
   "source": [
    "# A Python3 solution for longest palindrome\n",
    "\n",
    "\n",
    "# Function to print a subString str[low..high]\n",
    "def printSubStr(str, low, high):\n",
    "\tfor i in range(low, high + 1):\n",
    "\t\tprint(str[i], end=\"\")\n",
    "\n",
    "\n",
    "# This function prints the\n",
    "# longest palindrome subString\n",
    "# It also returns the length\n",
    "# of the longest palindrome\n",
    "def longestPalSubstr(str):\n",
    "\n",
    "\t# Get length of input String\n",
    "\tn = len(str)\n",
    "\n",
    "\t# All subStrings of length 1\n",
    "\t# are palindromes\n",
    "\tmaxLength = 1\n",
    "\tstart = 0\n",
    "\n",
    "\t# Nested loop to mark start\n",
    "\t# and end index\n",
    "\tfor i in range(n):\n",
    "\t\tfor j in range(i, n):\n",
    "\t\t\tflag = 1\n",
    "\n",
    "\t\t\t# Check palindrome\n",
    "\t\t\tfor k in range(0, ((j - i) // 2) + 1):\n",
    "\t\t\t\tif (str[i + k] != str[j - k]):\n",
    "\t\t\t\t\tflag = 0\n",
    "\n",
    "\t\t\t# Palindrome\n",
    "\t\t\tif (flag != 0 and (j - i + 1) > maxLength):\n",
    "\t\t\t\tstart = i\n",
    "\t\t\t\tmaxLength = j - i + 1\n",
    "\n",
    "\tprint(\"Longest palindrome substring is: \", end=\"\")\n",
    "\tprintSubStr(str, start, start + maxLength - 1)\n",
    "\n",
    "\t# Return length of LPS\n",
    "\treturn maxLength\n",
    "\n",
    "if __name__ == '__main__':\n",
    "\n",
    "\tstr = \"forgeeksskeegfor\"\n",
    "\tprint(\"\\nLength is:\", longestPalSubstr(str))\n",
    "\n"
   ]
  },
  {
   "cell_type": "code",
   "execution_count": 159,
   "id": "c870827c-a7c0-41e2-b26a-69b6a0d3160c",
   "metadata": {},
   "outputs": [
    {
     "name": "stdout",
     "output_type": "stream",
     "text": [
      "Below are all perfect numbers till 10000\n",
      "6  is a perfect number\n",
      "28  is a perfect number\n",
      "496  is a perfect number\n",
      "8128  is a perfect number\n"
     ]
    }
   ],
   "source": [
    "# Python3 code to check if a given\n",
    "# number is perfect or not\n",
    "\n",
    "# Returns true if n is perfect\n",
    "def isPerfect( n ):\n",
    "\t\n",
    "\t# To store sum of divisors\n",
    "\tsum = 1\n",
    "\t\n",
    "\t# Find all divisors and add them\n",
    "\ti = 2\n",
    "\twhile i * i <= n:\n",
    "\t\tif n % i == 0:\n",
    "\t\t\tsum = sum + i + n/i\n",
    "\t\ti += 1\n",
    "\t\n",
    "\t# If sum of divisors is equal to\n",
    "\t# n, then n is a perfect number\n",
    "\t\n",
    "\treturn (True if sum == n and n!=1 else False)\n",
    "\n",
    "print(\"Below are all perfect numbers till 10000\")\n",
    "n = 2\n",
    "for n in range (10000):\n",
    "\tif isPerfect (n):\n",
    "\t\tprint(n , \" is a perfect number\")\n"
   ]
  },
  {
   "cell_type": "code",
   "execution_count": 160,
   "id": "16a3f38d-f0a3-4311-b5a4-975b0a1932cd",
   "metadata": {},
   "outputs": [
    {
     "name": "stdout",
     "output_type": "stream",
     "text": [
      "geksfor\n"
     ]
    }
   ],
   "source": [
    "string=\"geeksforgeeks\"\n",
    "p=\"\"\n",
    "for char in string:\n",
    "\tif char not in p:\n",
    "\t\tp=p+char\n",
    "print(p)\n",
    "k=list(\"geeksforgeeks\")\n"
   ]
  },
  {
   "cell_type": "code",
   "execution_count": null,
   "id": "bc008e83-aa3a-4610-8813-ad5113ae5b23",
   "metadata": {},
   "outputs": [],
   "source": []
  },
  {
   "cell_type": "code",
   "execution_count": null,
   "id": "06305092-7c3c-46a2-8b7b-763cd19b9184",
   "metadata": {},
   "outputs": [],
   "source": []
  },
  {
   "cell_type": "code",
   "execution_count": null,
   "id": "c4443d88-6b73-4ba4-99b5-b80eb2e0f23e",
   "metadata": {},
   "outputs": [],
   "source": [
    " "
   ]
  },
  {
   "cell_type": "code",
   "execution_count": null,
   "id": "0063ea48-2e05-48df-a7d8-1fdab4b51a36",
   "metadata": {},
   "outputs": [],
   "source": []
  }
 ],
 "metadata": {
  "kernelspec": {
   "display_name": "Python 3 (ipykernel)",
   "language": "python",
   "name": "python3"
  },
  "language_info": {
   "codemirror_mode": {
    "name": "ipython",
    "version": 3
   },
   "file_extension": ".py",
   "mimetype": "text/x-python",
   "name": "python",
   "nbconvert_exporter": "python",
   "pygments_lexer": "ipython3",
   "version": "3.10.8"
  }
 },
 "nbformat": 4,
 "nbformat_minor": 5
}
